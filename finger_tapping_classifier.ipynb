{
 "cells": [
  {
   "cell_type": "code",
   "execution_count": 1,
   "metadata": {},
   "outputs": [],
   "source": [
    "import pandas as pd\n",
    "def load_data(file_l, file_r):\n",
    "    df = pd.read_csv(file_l)\n",
    "    df_r = pd.read_csv(file_r)\n",
    "    df = pd.concat([df,df_r])\n",
    "    return df\n",
    "\n",
    "file_l = r'\\\\files.ubc.ca\\team\\PPRC\\Camera\\Booth_Results\\finger_tapping_ws\\Experiment2\\csvs\\left_features_extracted_finger_distance.csv'\n",
    "file_r = r'\\\\files.ubc.ca\\team\\PPRC\\Camera\\Booth_Results\\finger_tapping_ws\\Experiment2\\csvs\\right_features_extracted_finger_distance.csv'\n",
    "L_file = r'\\\\files.ubc.ca\\team\\PPRC\\Camera\\Booth_Results\\finger_tapping_ws\\Experiment2\\csvs\\weak_supervision_L.csv'\n",
    "df = load_data(file_l, file_r)"
   ]
  },
  {
   "cell_type": "markdown",
   "metadata": {},
   "source": [
    "### Statistical Test"
   ]
  },
  {
   "cell_type": "code",
   "execution_count": 1,
   "metadata": {},
   "outputs": [
    {
     "name": "stdout",
     "output_type": "stream",
     "text": [
      "Index(['interval_variation', 'interval_mse',\n",
      "       'Finger Normalized Distance_mean_amplitude',\n",
      "       'Finger Normalized Distance_peak_amplitude',\n",
      "       'Finger Distance_peak_amplitude', 'FC_LocalSimple_mean1_tauresrat',\n",
      "       'Angular Distance_mean_amplitude', 'Angular Distance_consistency',\n",
      "       'Angular Distance_peak_amplitude', 'Angular Distance_power'],\n",
      "      dtype='object')\n",
      "Significant features: ['interval_variation', 'interval_mse', 'interval_mean', 'Finger Normalized Distance_mean_amplitude', 'Finger Normalized Distance_halts_and_hesitations', 'Finger Normalized Distance_consistency', 'Finger Normalized Distance_peak_amplitude', 'Finger Normalized Distance_power', 'Finger Distance_mean_amplitude', 'Finger Distance_halts_and_hesitations', 'Finger Distance_consistency', 'Finger Distance_peak_amplitude', 'Finger Distance_power', 'SB_BinaryStats_mean_longstretch1', 'IN_AutoMutualInfoStats_40_gaussian_fmmi', 'FC_LocalSimple_mean1_tauresrat', 'SB_BinaryStats_diff_longstretch0', 'SC_FluctAnal_2_dfa_50_1_2_logi_prop_r1', 'Angular Distance_mean_amplitude', 'Angular Distance_halts_and_hesitations', 'Angular Distance_consistency', 'Angular Distance_peak_amplitude', 'Angular Distance_power', 'Angular Distance_num_peaks', 'wrist_total_distance']\n"
     ]
    },
    {
     "name": "stderr",
     "output_type": "stream",
     "text": [
      "c:\\Users\\atefe\\.conda\\envs\\myenv\\Lib\\site-packages\\sklearn\\feature_selection\\_univariate_selection.py:112: UserWarning: Features [19] are constant.\n",
      "  warnings.warn(\"Features %s are constant.\" % constant_features_idx, UserWarning)\n",
      "c:\\Users\\atefe\\.conda\\envs\\myenv\\Lib\\site-packages\\sklearn\\feature_selection\\_univariate_selection.py:113: RuntimeWarning: invalid value encountered in divide\n",
      "  f = msb / msw\n"
     ]
    }
   ],
   "source": [
    "\n",
    "#Explore  wich feature is the best find significant features\n",
    "import pandas as pd\n",
    "import numpy as np\n",
    "from sklearn.ensemble import RandomForestClassifier\n",
    "from sklearn.model_selection import cross_val_score\n",
    "from sklearn.feature_selection import SelectKBest, f_classif\n",
    "import scipy.stats as stats\n",
    "\n",
    "# Load the data\n",
    "file = r'\\\\files.ubc.ca\\team\\PPRC\\Camera\\Booth_Results\\finger_tapping_ws\\Experiment2\\csvs\\left_features_extracted_finger_distance.csv'\n",
    "df = pd.read_csv(file)\n",
    "\n",
    "# Define the features and target\n",
    "X = df.drop(columns=['file_name'])\n",
    "y = df['file_name'].str.startswith(('07', '06')).astype(int)\n",
    "X.fillna(0, inplace=True)\n",
    "\n",
    "\n",
    "# Select the top 10 features\n",
    "selector = SelectKBest(score_func=f_classif, k=10)\n",
    "selector.fit(X, y)\n",
    "X_selected = selector.transform(X)\n",
    "print(X.columns[selector.get_support()])\n",
    "\n",
    "\n",
    "\n",
    "# Assuming X is your feature matrix and y is your target variable\n",
    "# Perform t-test for each feature against the target variable\n",
    "significant_features = []\n",
    "for feature in X.columns:\n",
    "    t_stat, p_value = stats.ttest_ind(X[y == 0][feature], X[y == 1][feature])\n",
    "    if p_value < 0.05:  # Set your desired significance level\n",
    "        significant_features.append(feature)\n",
    "\n",
    "print(\"Significant features:\", significant_features)"
   ]
  },
  {
   "cell_type": "code",
   "execution_count": 44,
   "metadata": {},
   "outputs": [
    {
     "name": "stdout",
     "output_type": "stream",
     "text": [
      "T-test results (p-values) between left and right hand features:\n",
      "taps: 0.8308\n",
      "interval_variation: 0.1118\n",
      "tapping_frequency: 0.9209\n",
      "task_duration: 0.7143\n",
      "tapping_start_time: 0.0000\n",
      "interval_mse: 0.1118\n",
      "interval_mean: 0.4102\n",
      "Finger Normalized Distance_mean_amplitude: 0.1759\n",
      "Finger Normalized Distance_std_amplitude: 0.0465\n",
      "Finger Normalized Distance_amplitude_mse: 0.0465\n",
      "Finger Normalized Distance_amplitude_decrement: 0.0593\n",
      "Finger Normalized Distance_frequency_decrement: 0.0561\n",
      "Finger Normalized Distance_mean_tap_speed: 0.7047\n",
      "Finger Normalized Distance_halts_and_hesitations: 0.8344\n",
      "Finger Normalized Distance_consistency: 0.2670\n",
      "Finger Normalized Distance_peak_frequency: 0.2594\n",
      "Finger Normalized Distance_peak_amplitude: 0.4714\n",
      "Finger Normalized Distance_frequency_consistency: 0.1657\n",
      "Finger Normalized Distance_power: 0.2674\n",
      "Finger Normalized Distance_num_peaks: nan\n",
      "Finger Distance_mean_amplitude: 0.6940\n",
      "Finger Distance_std_amplitude: 0.6765\n",
      "Finger Distance_amplitude_mse: 0.6765\n",
      "Finger Distance_amplitude_decrement: 0.0596\n",
      "Finger Distance_frequency_decrement: 0.0561\n",
      "Finger Distance_mean_tap_speed: 0.7047\n",
      "Finger Distance_halts_and_hesitations: 0.8344\n",
      "Finger Distance_consistency: 0.5439\n",
      "Finger Distance_peak_frequency: 0.2011\n",
      "Finger Distance_peak_amplitude: 0.9143\n",
      "Finger Distance_frequency_consistency: 0.1657\n",
      "Finger Distance_power: 0.5439\n",
      "Finger Distance_num_peaks: 0.1186\n",
      "DN_HistogramMode_5: 0.9449\n",
      "DN_HistogramMode_10: 0.2708\n",
      "CO_f1ecac: 0.8136\n",
      "CO_FirstMin_ac: 0.4646\n",
      "CO_HistogramAMI_even_2_5: 0.4439\n",
      "CO_trev_1_num: 0.1676\n",
      "MD_hrv_classic_pnn40: 0.0037\n",
      "SB_BinaryStats_mean_longstretch1: 0.2053\n",
      "SB_TransitionMatrix_3ac_sumdiagcov: 0.8923\n",
      "PD_PeriodicityWang_th0_01: 0.4657\n",
      "CO_Embed2_Dist_tau_d_expfit_meandiff: 0.9216\n",
      "IN_AutoMutualInfoStats_40_gaussian_fmmi: 0.6370\n",
      "FC_LocalSimple_mean1_tauresrat: 0.5164\n",
      "DN_OutlierInclude_p_001_mdrmd: 0.0724\n",
      "DN_OutlierInclude_n_001_mdrmd: 0.3929\n",
      "SP_Summaries_welch_rect_area_5_1: 0.7635\n",
      "SB_BinaryStats_diff_longstretch0: 0.9286\n",
      "SB_MotifThree_quantile_hh: 0.0520\n",
      "SC_FluctAnal_2_rsrangefit_50_1_logi_prop_r1: 0.6352\n",
      "SC_FluctAnal_2_dfa_50_1_2_logi_prop_r1: 0.7706\n",
      "SP_Summaries_welch_rect_centroid: 0.9401\n",
      "FC_LocalSimple_mean3_stderr: 0.5511\n",
      "Angular Distance_mean_amplitude: 0.9481\n",
      "Angular Distance_std_amplitude: 0.4908\n",
      "Angular Distance_amplitude_mse: 0.4908\n",
      "Angular Distance_amplitude_decrement: 0.1285\n",
      "Angular Distance_frequency_decrement: 0.0561\n",
      "Angular Distance_mean_tap_speed: 0.7047\n",
      "Angular Distance_halts_and_hesitations: 0.8344\n",
      "Angular Distance_consistency: 0.5442\n",
      "Angular Distance_peak_frequency: 0.5787\n",
      "Angular Distance_peak_amplitude: 0.9058\n",
      "Angular Distance_frequency_consistency: 0.1657\n",
      "Angular Distance_power: 0.5441\n",
      "Angular Distance_num_peaks: 0.0220\n",
      "wrist_mean_speed: 0.0124\n",
      "wrist_std_speed: 0.0172\n",
      "wrist_total_distance: 0.8828\n",
      "\n",
      "Features with significant differences (p < 0.05):\n",
      "tapping_start_time: 0.0000\n",
      "Finger Normalized Distance_std_amplitude: 0.0465\n",
      "Finger Normalized Distance_amplitude_mse: 0.0465\n",
      "MD_hrv_classic_pnn40: 0.0037\n",
      "Angular Distance_num_peaks: 0.0220\n",
      "wrist_mean_speed: 0.0124\n",
      "wrist_std_speed: 0.0172\n"
     ]
    }
   ],
   "source": [
    "#investigate is there any difference between right and left hand\n",
    "from sklearn.model_selection import train_test_split\n",
    "from sklearn.ensemble import RandomForestClassifier\n",
    "from sklearn.metrics import classification_report, confusion_matrix\n",
    "import numpy as np\n",
    "from imblearn.over_sampling import SMOTE\n",
    "\n",
    "\n",
    "file_l = r'\\\\files.ubc.ca\\team\\PPRC\\Camera\\Booth_Results\\finger_tapping_ws\\Experiment2\\csvs\\left_features_extracted_finger_distance.csv'\n",
    "file_r = r'\\\\files.ubc.ca\\team\\PPRC\\Camera\\Booth_Results\\finger_tapping_ws\\Experiment2\\csvs\\right_features_extracted_finger_distance.csv'\n",
    "df_l = pd.read_csv(file_l)\n",
    "df_r = pd.read_csv(file_r)\n",
    "\n",
    "# Define the features and target\n",
    "X_l = df_l.drop(columns=['file_name'])\n",
    "y_l = (df_l['file_name'].str.startswith('07') | df_l['file_name'].str.startswith('06')).astype(int)\n",
    "X_l.fillna(0, inplace=True)\n",
    "\n",
    "X_r = df_r.drop(columns=['file_name'])\n",
    "y_r = (df_r['file_name'].str.startswith('07') | df_r['file_name'].str.startswith('06')).astype(int)\n",
    "X_r.fillna(0, inplace=True)\n",
    "\n",
    "\n",
    "from scipy.stats import ttest_ind\n",
    "\n",
    "# Perform t-tests between corresponding features of left and right hand\n",
    "p_values = {}\n",
    "for feature in X_l.columns:\n",
    "    t_stat, p_value = ttest_ind(X_l[feature], X_r[feature], equal_var=False)\n",
    "    p_values[feature] = p_value\n",
    "\n",
    "# Display the p-values\n",
    "print(\"T-test results (p-values) between left and right hand features:\")\n",
    "for feature, p_value in p_values.items():\n",
    "    print(f\"{feature}: {p_value:.4f}\")\n",
    "\n",
    "# Optionally, identify features with significant differences\n",
    "significant_features = {feature: p for feature, p in p_values.items() if p < 0.05}\n",
    "print(\"\\nFeatures with significant differences (p < 0.05):\")\n",
    "for feature, p_value in significant_features.items():\n",
    "    print(f\"{feature}: {p_value:.4f}\")\n",
    "\n"
   ]
  },
  {
   "cell_type": "markdown",
   "metadata": {},
   "source": [
    "### Binary Classifier"
   ]
  },
  {
   "cell_type": "code",
   "execution_count": 37,
   "metadata": {},
   "outputs": [
    {
     "name": "stderr",
     "output_type": "stream",
     "text": [
      "c:\\Users\\atefe\\.conda\\envs\\myenv\\Lib\\site-packages\\sklearn\\feature_selection\\_univariate_selection.py:112: UserWarning: Features [19] are constant.\n",
      "  warnings.warn(\"Features %s are constant.\" % constant_features_idx, UserWarning)\n",
      "c:\\Users\\atefe\\.conda\\envs\\myenv\\Lib\\site-packages\\sklearn\\feature_selection\\_univariate_selection.py:113: RuntimeWarning: invalid value encountered in divide\n",
      "  f = msb / msw\n"
     ]
    },
    {
     "name": "stdout",
     "output_type": "stream",
     "text": [
      "Accuracy: 0.7528089887640449\n",
      "Classification Report:\n",
      "              precision    recall  f1-score   support\n",
      "\n",
      "           0       0.86      0.81      0.84        69\n",
      "           1       0.46      0.55      0.50        20\n",
      "\n",
      "    accuracy                           0.75        89\n",
      "   macro avg       0.66      0.68      0.67        89\n",
      "weighted avg       0.77      0.75      0.76        89\n",
      "\n",
      "[[56 13]\n",
      " [ 9 11]]\n"
     ]
    }
   ],
   "source": [
    "import lightgbm as lgb\n",
    "from sklearn.feature_selection import SelectKBest, f_classif\n",
    "from sklearn.model_selection import train_test_split, GridSearchCV\n",
    "from sklearn.metrics import accuracy_score, classification_report, make_scorer, precision_score\n",
    "from imblearn.over_sampling import SMOTE\n",
    "from sklearn.metrics import confusion_matrix\n",
    "import numpy as np\n",
    "\n",
    "file_l = r'\\\\files.ubc.ca\\team\\PPRC\\Camera\\Booth_Results\\finger_tapping_ws\\Experiment2\\csvs\\left_features_extracted_finger_distance.csv'\n",
    "file_r = r'\\\\files.ubc.ca\\team\\PPRC\\Camera\\Booth_Results\\finger_tapping_ws\\Experiment2\\csvs\\right_features_extracted_finger_distance.csv'\n",
    "df = pd.read_csv(file_l)\n",
    "df_r = pd.read_csv(file_r)\n",
    "df = pd.concat([df, df_r])\n",
    "\n",
    "# Define the features and target\n",
    "X = df.drop(columns=['file_name'])\n",
    "y = (df['file_name'].str.startswith('07') | df['file_name'].str.startswith('06')).astype(int)\n",
    "X.fillna(0, inplace=True)\n",
    "\n",
    "# Select the top 8 features\n",
    "selector = SelectKBest(score_func=f_classif, k=20)\n",
    "selector.fit(X, y)\n",
    "X_selected = selector.transform(X)\n",
    "\n",
    "# Split the data into training and testing sets\n",
    "X_train, X_test, y_train, y_test = train_test_split(X_selected, y, test_size=0.2, random_state=35)\n",
    "\n",
    "# Use SMOTE to handle class imbalance\n",
    "smote = SMOTE(sampling_strategy=0.8,random_state=42)\n",
    "X_train_res, y_train_res = smote.fit_resample(X_train, y_train)\n",
    "# Create a RandomForestClassifier\n",
    "class_weights = {0:6.0, 1: 1.0}\n",
    "best_clf = RandomForestClassifier(n_estimators=300, random_state=42, class_weight='balanced')\n",
    "best_clf.fit(X_train_res, y_train_res)\n",
    "# Make predictions\n",
    "y_pred = best_clf.predict(X_test)\n",
    "\n",
    "# Evaluate the model\n",
    "accuracy = accuracy_score(y_test, y_pred)\n",
    "report = classification_report(y_test, y_pred)\n",
    "\n",
    "print(f'Accuracy: {accuracy}')\n",
    "print('Classification Report:')\n",
    "print(report)\n",
    "#print confusion matrix\n",
    "\n",
    "cm = confusion_matrix(y_test, y_pred)\n",
    "print(cm)\n"
   ]
  },
  {
   "cell_type": "markdown",
   "metadata": {},
   "source": [
    "### Multi class classification"
   ]
  },
  {
   "cell_type": "code",
   "execution_count": 2,
   "metadata": {},
   "outputs": [
    {
     "name": "stderr",
     "output_type": "stream",
     "text": [
      "c:\\Users\\atefe\\.conda\\envs\\assessment\\Lib\\site-packages\\sklearn\\feature_selection\\_univariate_selection.py:112: UserWarning: Features [19] are constant.\n",
      "  warnings.warn(\"Features %s are constant.\" % constant_features_idx, UserWarning)\n",
      "c:\\Users\\atefe\\.conda\\envs\\assessment\\Lib\\site-packages\\sklearn\\feature_selection\\_univariate_selection.py:113: RuntimeWarning: invalid value encountered in divide\n",
      "  f = msb / msw\n",
      "176it [02:12,  1.33it/s]"
     ]
    },
    {
     "name": "stdout",
     "output_type": "stream",
     "text": [
      "Confusion Matrix:\n",
      "[[ 6  8  8  4  0]\n",
      " [11  6  7  3  0]\n",
      " [ 8 15 16 16  1]\n",
      " [ 2  5 17 24  5]\n",
      " [ 0  0  2  5  7]]\n",
      "\n",
      "Classification Report:\n",
      "              precision    recall  f1-score   support\n",
      "\n",
      "         0.0       0.22      0.23      0.23        26\n",
      "         1.0       0.18      0.22      0.20        27\n",
      "         2.0       0.32      0.29      0.30        56\n",
      "         3.0       0.46      0.45      0.46        53\n",
      "         4.0       0.54      0.50      0.52        14\n",
      "\n",
      "    accuracy                           0.34       176\n",
      "   macro avg       0.34      0.34      0.34       176\n",
      "weighted avg       0.34      0.34      0.34       176\n",
      "\n",
      "\n",
      "Accuracy Score:\n",
      "0.3352272727272727\n",
      "\n",
      "Mean Absolute Error (MAE): 0.8863636363636364\n",
      "Mean Squared Error (MSE): 1.3977272727272727\n",
      "Model, feature selector, and all predicted labels saved successfully.\n"
     ]
    },
    {
     "name": "stderr",
     "output_type": "stream",
     "text": [
      "\n"
     ]
    }
   ],
   "source": [
    "import numpy as np\n",
    "import pandas as pd\n",
    "from sklearn.model_selection import LeaveOneOut\n",
    "from sklearn.ensemble import RandomForestClassifier\n",
    "from sklearn.metrics import classification_report, confusion_matrix, accuracy_score, mean_absolute_error, mean_squared_error\n",
    "from sklearn.feature_selection import SelectKBest, f_classif\n",
    "from imblearn.over_sampling import SMOTE\n",
    "import joblib\n",
    "from tqdm import tqdm\n",
    "\n",
    "# Load the data\n",
    "file_l = r'\\\\files.ubc.ca\\team\\PPRC\\Camera\\Booth_Results\\finger_tapping_ws\\Experiment2\\csvs\\left_features_extracted_finger_distance.csv'\n",
    "file_r = r'\\\\files.ubc.ca\\team\\PPRC\\Camera\\Booth_Results\\finger_tapping_ws\\Experiment2\\csvs\\right_features_extracted_finger_distance.csv'\n",
    "df_l_r = pd.concat([pd.read_csv(file_l), pd.read_csv(file_r)])\n",
    "file1 = r'\\\\files.ubc.ca\\team\\PPRC\\Camera\\Booth_Results\\finger_tapping_ws\\Experiment2\\csvs\\number_of_taps.csv'\n",
    "df_updrs = pd.read_csv(file1)\n",
    "\n",
    "df = pd.merge(df_l_r, df_updrs[['file_name', 'UPDRS']], on='file_name', how='left')\n",
    "df = df.dropna(subset=['UPDRS'])\n",
    "\n",
    "# Define the features and target\n",
    "X = df.drop(columns=['file_name', 'UPDRS'])\n",
    "y = df['UPDRS']\n",
    "X.fillna(0, inplace=True)\n",
    "file_names = df['file_name']\n",
    "\n",
    "# Feature selection\n",
    "selector = SelectKBest(score_func=f_classif, k=20)\n",
    "selector.fit(X, y)\n",
    "X_selected = selector.transform(X)\n",
    "\n",
    "# Initialize the leave-one-out cross-validator\n",
    "loo = LeaveOneOut()\n",
    "smote = SMOTE( random_state=42)\n",
    "\n",
    "# Initialize lists to store results\n",
    "all_preds = []\n",
    "all_labels = []\n",
    "all_file_names = []\n",
    "\n",
    "# Loop over each split\n",
    "for train_index, test_index in tqdm(loo.split(X_selected)):\n",
    "    X_train, X_test = X_selected[train_index], X_selected[test_index]\n",
    "    y_train, y_test = y.iloc[train_index], y.iloc[test_index]\n",
    "    file_name_test = file_names.iloc[test_index].values[0]\n",
    "    \n",
    "    # Apply SMOTE to the training data\n",
    "    X_train_resampled, y_train_resampled = smote.fit_resample(X_train, y_train)\n",
    "\n",
    "    # Initialize and train the classifier\n",
    "    clf = RandomForestClassifier(random_state=42, n_estimators=500, max_depth=12)\n",
    "    clf.fit(X_train_resampled, y_train_resampled)\n",
    "\n",
    "    # Make prediction for the test instance\n",
    "    y_pred = clf.predict(X_test)\n",
    "\n",
    "    # Store the results\n",
    "    all_preds.append(y_pred[0])\n",
    "    all_labels.append(y_test.values[0])\n",
    "    all_file_names.append(file_name_test)\n",
    "\n",
    "# Evaluate the classifier\n",
    "print(\"Confusion Matrix:\")\n",
    "print(confusion_matrix(all_labels, all_preds))\n",
    "print(\"\\nClassification Report:\")\n",
    "print(classification_report(all_labels, all_preds))\n",
    "print(\"\\nAccuracy Score:\")\n",
    "print(accuracy_score(all_labels, all_preds))\n",
    "\n",
    "# Calculate and print MAE and MSE\n",
    "mae = mean_absolute_error(all_labels, all_preds)\n",
    "mse = mean_squared_error(all_labels, all_preds)\n",
    "print(f\"\\nMean Absolute Error (MAE): {mae}\")\n",
    "print(f\"Mean Squared Error (MSE): {mse}\")\n",
    "\n",
    "# Save the model, feature selector, and predictions\n",
    "#joblib.dump(clf, 'rf_model.pkl')\n",
    "#joblib.dump(selector, 'feature_selector.pkl')\n",
    "\n",
    "results_df = pd.DataFrame({\n",
    "    'File_Name': all_file_names,\n",
    "    'True_Label': all_labels,\n",
    "    'Predicted_Label': all_preds\n",
    "})\n",
    "\n",
    "# Identify rows in df_l_r not in results_df and predict their labels\n",
    "unprocessed_files = df_l_r[~df_l_r['file_name'].isin(results_df['File_Name'])]\n",
    "\n",
    "if not unprocessed_files.empty:\n",
    "    unprocessed_X = unprocessed_files.drop(columns=['file_name'])\n",
    "    unprocessed_X = unprocessed_X[X.columns]\n",
    "    unprocessed_X.fillna(0, inplace=True)\n",
    "\n",
    "    # Apply the same scaling and transformation\n",
    "    unprocessed_X_selected = selector.transform(unprocessed_X)\n",
    "    unprocessed_preds = clf.predict(unprocessed_X_selected)\n",
    "\n",
    "    unprocessed_results_df = pd.DataFrame({\n",
    "        'File_Name': unprocessed_files['file_name'],\n",
    "        'True_Label': np.nan,  # True labels are not available for these\n",
    "        'Predicted_Label': unprocessed_preds\n",
    "    })\n",
    "\n",
    "    # Add these predictions to the original results_df\n",
    "    results_df = pd.concat([results_df, unprocessed_results_df], ignore_index=True)\n",
    "\n",
    "# Save all results to a CSV file\n",
    "#results_df.to_csv('complete_predicted_labels_loocv.csv', index=False)\n",
    "\n",
    "print(\"Model, feature selector, and all predicted labels saved successfully.\")\n"
   ]
  },
  {
   "cell_type": "code",
   "execution_count": 18,
   "metadata": {},
   "outputs": [
    {
     "name": "stderr",
     "output_type": "stream",
     "text": [
      "c:\\ProgramData\\Anaconda3\\lib\\site-packages\\sklearn\\feature_selection\\_univariate_selection.py:112: UserWarning: Features [19] are constant.\n",
      "  warnings.warn(\"Features %s are constant.\" % constant_features_idx, UserWarning)\n",
      "c:\\ProgramData\\Anaconda3\\lib\\site-packages\\sklearn\\feature_selection\\_univariate_selection.py:113: RuntimeWarning: invalid value encountered in true_divide\n",
      "  f = msb / msw\n"
     ]
    },
    {
     "name": "stdout",
     "output_type": "stream",
     "text": [
      "Confusion Matrix:\n",
      "[[8 2 0 0 0]\n",
      " [1 1 1 3 0]\n",
      " [1 2 6 3 1]\n",
      " [0 1 1 6 2]\n",
      " [0 0 0 1 2]]\n",
      "\n",
      "Classification Report:\n",
      "              precision    recall  f1-score   support\n",
      "\n",
      "         0.0       0.80      0.80      0.80        10\n",
      "         1.0       0.17      0.17      0.17         6\n",
      "         2.0       0.75      0.46      0.57        13\n",
      "         3.0       0.46      0.60      0.52        10\n",
      "         4.0       0.40      0.67      0.50         3\n",
      "\n",
      "    accuracy                           0.55        42\n",
      "   macro avg       0.52      0.54      0.51        42\n",
      "weighted avg       0.58      0.55      0.55        42\n",
      "\n",
      "Model and selected features saved to \\\\files.ubc.ca\\team\\PPRC\\Camera\\Booth_Results\\finger_tapping_ws\\Experiment2\\models\\RFC_4cl_model_v1.pkl\n"
     ]
    }
   ],
   "source": [
    "import numpy as np\n",
    "from sklearn.model_selection import train_test_split\n",
    "from sklearn.ensemble import RandomForestClassifier\n",
    "from sklearn.metrics import classification_report, confusion_matrix\n",
    "from sklearn.feature_selection import RFECV\n",
    "import pandas as pd \n",
    "from sklearn.feature_selection import SelectKBest, f_classif\n",
    "from sklearn.model_selection import train_test_split, GridSearchCV\n",
    "from sklearn.metrics import accuracy_score, classification_report, make_scorer, precision_score\n",
    "from sklearn.feature_selection import SelectKBest \n",
    "from imblearn.over_sampling import SMOTE\n",
    "from sklearn.svm import SVC\n",
    "import joblib\n",
    "\n",
    "def load_data(file_l, file_r):\n",
    "    df = pd.read_csv(file_l)\n",
    "    df_r = pd.read_csv(file_r)\n",
    "    df = pd.concat([df,df_r])\n",
    "    return df\n",
    "# Load the data\n",
    "file_l = r'\\\\files.ubc.ca\\team\\PPRC\\Camera\\Booth_Results\\finger_tapping_ws\\Experiment2\\csvs\\left_features_extracted_finger_distance.csv'\n",
    "file_r = r'\\\\files.ubc.ca\\team\\PPRC\\Camera\\Booth_Results\\finger_tapping_ws\\Experiment2\\csvs\\right_features_extracted_finger_distance.csv'\n",
    "df = load_data(file_l, file_r)\n",
    "file1 = r'\\\\files.ubc.ca\\team\\PPRC\\Camera\\Booth_Results\\finger_tapping_ws\\Experiment2\\csvs\\combined_updrs.csv'\n",
    "df_updrs = pd.read_csv(file1)\n",
    "df_updrs['file_name'] = df_updrs['ID']+'_finger_tapping_distances.csv'\n",
    "\n",
    "df = pd.merge(df, df_updrs[['file_name','SA']], on='file_name', how='left')\n",
    "#rename column MG to UPDRS\n",
    "df.rename(columns={'SA':'UPDRS'}, inplace=True)\n",
    "# calculate the mean square error and accuracy of each column with respect to the expert count\n",
    "df = df.dropna()\n",
    "\n",
    "\n",
    "# Define the features and target\n",
    "X = df.drop(columns=['file_name','UPDRS'])\n",
    "y = df['UPDRS']\n",
    "\n",
    "# Store the file names for later use in visualization\n",
    "file_names = df['file_name']\n",
    "\n",
    "selector = SelectKBest(score_func=f_classif, k=25)\n",
    "selector.fit(X, y)\n",
    "X_selected = selector.transform(X)\n",
    "\n",
    "\n",
    "# Split the data into training and testing sets\n",
    "X_train, X_test, y_train, y_test, file_names_train, file_names_test = train_test_split(X_selected, y, file_names, test_size=0.1, random_state=17)\n",
    "smote = SMOTE(sampling_strategy={0:360,1:140,2:140,3:140,4:100}, random_state=42)\n",
    "X_train_resampled, y_train_resampled = smote.fit_resample(X_train, y_train)\n",
    "\n",
    "clf = RandomForestClassifier(random_state=42, n_estimators=500, max_depth=12)\n",
    "# Train the classifier\n",
    "clf.fit(X_train_resampled, y_train_resampled)\n",
    "\n",
    "\n",
    "# Make predictions\n",
    "y_pred = clf.predict(X_test)\n",
    "\n",
    "# Evaluate the classifier\n",
    "print(\"Confusion Matrix:\")\n",
    "print(confusion_matrix(y_test, y_pred))\n",
    "print(\"\\nClassification Report:\")\n",
    "print(classification_report(y_test, y_pred))\n",
    "\n",
    "#save the model\n",
    "# Get the indices of the selected features\n",
    "selected_feature_indices = selector.get_support(indices=True)\n",
    "selected_feature_names = X.columns[selected_feature_indices]\n",
    "\n",
    "# Save the selected feature indices and names along with the model\n",
    "save_data = {\n",
    "    'model': clf,\n",
    "    'selected_features': selected_feature_names\n",
    "}\n",
    "\n",
    "model_filename = r'\\\\files.ubc.ca\\team\\PPRC\\Camera\\Booth_Results\\finger_tapping_ws\\Experiment2\\models\\RFC_4cl_model_v1.pkl'\n",
    "joblib.dump(save_data, model_filename)\n",
    "print(f\"Model and selected features saved to {model_filename}\")\n",
    "\n",
    "\n"
   ]
  },
  {
   "cell_type": "code",
   "execution_count": 120,
   "metadata": {},
   "outputs": [
    {
     "name": "stderr",
     "output_type": "stream",
     "text": [
      "c:\\Users\\atefe\\.conda\\envs\\myenv\\Lib\\site-packages\\sklearn\\feature_selection\\_univariate_selection.py:112: UserWarning:\n",
      "\n",
      "Features [19] are constant.\n",
      "\n",
      "c:\\Users\\atefe\\.conda\\envs\\myenv\\Lib\\site-packages\\sklearn\\feature_selection\\_univariate_selection.py:113: RuntimeWarning:\n",
      "\n",
      "invalid value encountered in divide\n",
      "\n"
     ]
    },
    {
     "name": "stdout",
     "output_type": "stream",
     "text": [
      "Mean Squared Error: 1.1547251250992463\n",
      "Mean Absolute Error: 0.8541925081776135\n",
      "Accuracy: 0.6984126984126984\n"
     ]
    },
    {
     "data": {
      "image/png": "[encoded data removed]",
      "text/plain": [
       "<Figure size 1000x600 with 1 Axes>"
      ]
     },
     "metadata": {},
     "output_type": "display_data"
    },
    {
     "data": {
      "application/vnd.plotly.v1+json": {
       "config": {
        "plotlyServerURL": "https://plot.ly"
       },
       "data": [
        {
         "customdata": [
          [
           "06238_20240813_left_finger_tapping_distances.csv"
          ],
          [
           "06509_20240819_left_finger_tapping_distances.csv"
          ],
          [
           "06703_20240813_left_finger_tapping_distances.csv"
          ],
          [
           "06846_20240819_left_finger_tapping_distances.csv"
          ],
          [
           "06961_20240813_left_finger_tapping_distances.csv"
          ],
          [
           "07137_20240611_left_finger_tapping_distances.csv"
          ],
          [
           "07152_20240611_left_finger_tapping_distances.csv"
          ],
          [
           "07155_20240529_left_finger_tapping_distances.csv"
          ],
          [
           "07198_20240717_left_finger_tapping_distances.csv"
          ],
          [
           "07225_20240206_left_finger_tapping_distances.csv"
          ],
          [
           "07242_20240716_left_finger_tapping_distances.csv"
          ],
          [
           "07284_20240521_left_finger_tapping_distances.csv"
          ],
          [
           "07288_20240514_left_finger_tapping_distances.csv"
          ],
          [
           "07334_20240604_left_finger_tapping_distances.csv"
          ],
          [
           "07415_20240215_left_finger_tapping_distances.csv"
          ],
          [
           "07417_20240319_left_finger_tapping_distances.csv"
          ],
          [
           "07452_20240206_left_finger_tapping_distances.csv"
          ],
          [
           "07477_20240730_left_finger_tapping_distances.csv"
          ],
          [
           "07488_20240208_left_finger_tapping_distances.csv"
          ],
          [
           "07501_20240626_left_finger_tapping_distances.csv"
          ],
          [
           "07518_20240430_left_finger_tapping_distances.csv"
          ],
          [
           "07536_20240603_left_finger_tapping_distances.csv"
          ],
          [
           "07555_20240716_left_finger_tapping_distances.csv"
          ],
          [
           "07566_20240521_left_finger_tapping_distances.csv"
          ],
          [
           "07571_20240123_left_finger_tapping_distances.csv"
          ],
          [
           "07578_20240321_left_finger_tapping_distances.csv"
          ],
          [
           "07580_20240131_left_finger_tapping_distances.csv"
          ],
          [
           "07587_20240528_left_finger_tapping_distances.csv"
          ],
          [
           "07597_20240328_left_finger_tapping_distances.csv"
          ],
          [
           "07609_20240130_left_finger_tapping_distances.csv"
          ],
          [
           "07610_20231205_left_finger_tapping_distances.csv"
          ],
          [
           "07628_20240215_left_finger_tapping_distances.csv"
          ],
          [
           "07629_20240109_left_finger_tapping_distances.csv"
          ],
          [
           "07634_20240508_left_finger_tapping_distances.csv"
          ],
          [
           "07640_20240208_left_finger_tapping_distances.csv"
          ],
          [
           "07677_20240527_left_finger_tapping_distances.csv"
          ],
          [
           "07681_20240603_left_finger_tapping_distances.csv"
          ],
          [
           "07709_20240626_left_finger_tapping_distances.csv"
          ],
          [
           "07727_20240604_left_finger_tapping_distances.csv"
          ],
          [
           "07735_20240123_left_finger_tapping_distances.csv"
          ],
          [
           "07755_20240513_left_finger_tapping_distances.csv"
          ],
          [
           "07762_20240618_left_finger_tapping_distances.csv"
          ],
          [
           "07771_20240610_left_finger_tapping_distances.csv"
          ],
          [
           "07776_20240625_left_finger_tapping_distances.csv"
          ],
          [
           "07795_20240513_left_finger_tapping_distances.csv"
          ],
          [
           "07814_20240507_left_finger_tapping_distances.csv"
          ],
          [
           "07819_20240522_left_finger_tapping_distances.csv"
          ],
          [
           "07822_20240214_left_finger_tapping_distances.csv"
          ],
          [
           "07852_20240213_left_finger_tapping_distances.csv"
          ],
          [
           "07855_20240528_left_finger_tapping_distances.csv"
          ],
          [
           "07884_20240709_left_finger_tapping_distances.csv"
          ],
          [
           "07888_20240215_left_finger_tapping_distances.csv"
          ],
          [
           "07985_20240307_left_finger_tapping_distances.csv"
          ],
          [
           "07987_20240423_left_finger_tapping_distances.csv"
          ],
          [
           "10039_20240702_left_finger_tapping_distances.csv"
          ],
          [
           "13390_20240716_left_finger_tapping_distances.csv"
          ],
          [
           "13484_20240716_left_finger_tapping_distances.csv"
          ],
          [
           "14555_20231107_left_finger_tapping_distances.csv"
          ],
          [
           "15377_20230719_left_finger_tapping_distances.csv"
          ],
          [
           "15813_20240123_left_finger_tapping_distances.csv"
          ],
          [
           "16219_20230725_left_finger_tapping_distances.csv"
          ],
          [
           "16827_20230523_left_finger_tapping_distances.csv"
          ],
          [
           "16883_20230606_left_finger_tapping_distances.csv"
          ],
          [
           "17000_20230606_left_finger_tapping_distances.csv"
          ],
          [
           "17200_20240507_left_finger_tapping_distances.csv"
          ],
          [
           "17202_20230718_left_finger_tapping_distances.csv"
          ],
          [
           "17434_20230613_left_finger_tapping_distances.csv"
          ],
          [
           "17599_20230418_left_finger_tapping_distances.csv"
          ],
          [
           "17980_20240109_left_finger_tapping_distances.csv"
          ],
          [
           "18198_20230726_left_finger_tapping_distances.csv"
          ],
          [
           "18317_20230919_left_finger_tapping_distances.csv"
          ],
          [
           "18372_20240603_left_finger_tapping_distances.csv"
          ],
          [
           "19015_20230627_left_finger_tapping_distances.csv"
          ],
          [
           "19091_20231127_left_finger_tapping_distances.csv"
          ],
          [
           "19124_20230628_left_finger_tapping_distances.csv"
          ],
          [
           "20959_20231003_left_finger_tapping_distances.csv"
          ],
          [
           "21128_20240716_left_finger_tapping_distances.csv"
          ],
          [
           "21401_20230627_left_finger_tapping_distances.csv"
          ],
          [
           "21696_20230411_left_finger_tapping_distances.csv"
          ],
          [
           "22178_20240528_left_finger_tapping_distances.csv"
          ],
          [
           "22224_20240625_left_finger_tapping_distances.csv"
          ],
          [
           "22227_20240708_left_finger_tapping_distances.csv"
          ],
          [
           "23160_20230613_left_finger_tapping_distances.csv"
          ],
          [
           "23191_20240508_left_finger_tapping_distances.csv"
          ],
          [
           "23284_20230620_left_finger_tapping_distances.csv"
          ],
          [
           "23284_20240604_left_finger_tapping_distances.csv"
          ],
          [
           "24192_20230605_left_finger_tapping_distances.csv"
          ],
          [
           "24318_20230613_left_finger_tapping_distances.csv"
          ],
          [
           "24352_20230621_left_finger_tapping_distances.csv"
          ],
          [
           "24352_20240730_left_finger_tapping_distances.csv"
          ],
          [
           "24475_20230925_left_finger_tapping_distances.csv"
          ],
          [
           "24601_20240514_left_finger_tapping_distances.csv"
          ],
          [
           "24622_20230530_left_finger_tapping_distances.csv"
          ],
          [
           "24757_20230523_left_finger_tapping_distances.csv"
          ],
          [
           "24798_20240704_left_finger_tapping_distances.csv"
          ],
          [
           "24860_20231212_left_finger_tapping_distances.csv"
          ],
          [
           "24889_20230724_left_finger_tapping_distances.csv"
          ],
          [
           "25260_20240116_left_finger_tapping_distances.csv"
          ],
          [
           "25412_20240717_left_finger_tapping_distances.csv"
          ],
          [
           "25439_20231205_left_finger_tapping_distances.csv"
          ],
          [
           "25533_20230628_left_finger_tapping_distances.csv"
          ],
          [
           "25793_20240603_left_finger_tapping_distances.csv"
          ],
          [
           "25934_20231016_left_finger_tapping_distances.csv"
          ],
          [
           "25957_20240507_left_finger_tapping_distances.csv"
          ],
          [
           "26145_20240514_left_finger_tapping_distances.csv"
          ],
          [
           "26326_20240729_left_finger_tapping_distances.csv"
          ],
          [
           "26407_20240528_left_finger_tapping_distances.csv"
          ],
          [
           "26692_20230627_left_finger_tapping_distances.csv"
          ],
          [
           "27123_20230606_left_finger_tapping_distances.csv"
          ],
          [
           "27423_20240603_left_finger_tapping_distances.csv"
          ],
          [
           "27425_20230918_left_finger_tapping_distances.csv"
          ],
          [
           "28225_20240704_left_finger_tapping_distances.csv"
          ],
          [
           "28321_20240513_left_finger_tapping_distances.csv"
          ],
          [
           "28350_20240515_left_finger_tapping_distances.csv"
          ],
          [
           "28408_20240617_left_finger_tapping_distances.csv"
          ],
          [
           "28411_20231023_left_finger_tapping_distances.csv"
          ],
          [
           "28550_20240115_left_finger_tapping_distances.csv"
          ],
          [
           "28615_20230523_left_finger_tapping_distances.csv"
          ],
          [
           "28630_20240521_left_finger_tapping_distances.csv"
          ],
          [
           "28637_20230912_left_finger_tapping_distances.csv"
          ],
          [
           "28641_20230717_left_finger_tapping_distances.csv"
          ],
          [
           "28715_20240611_left_finger_tapping_distances.csv"
          ],
          [
           "28726_20230425_left_finger_tapping_distances.csv"
          ],
          [
           "28731_20230724_left_finger_tapping_distances.csv"
          ],
          [
           "28813_20230823_left_finger_tapping_distances.csv"
          ],
          [
           "29079_20240513_left_finger_tapping_distances.csv"
          ],
          [
           "29157_20230531_left_finger_tapping_distances.csv"
          ],
          [
           "29377_20230314_left_finger_tapping_distances.csv"
          ],
          [
           "29570_20230619_left_finger_tapping_distances.csv"
          ],
          [
           "29880_20230314_left_finger_tapping_distances.csv"
          ],
          [
           "30009_20240515_left_finger_tapping_distances.csv"
          ],
          [
           "30148_20230809_left_finger_tapping_distances.csv"
          ],
          [
           "30201_20240715_left_finger_tapping_distances.csv"
          ],
          [
           "30279_20240527_left_finger_tapping_distances.csv"
          ],
          [
           "30414_20240522_left_finger_tapping_distances.csv"
          ],
          [
           "30593_20230926_left_finger_tapping_distances.csv"
          ],
          [
           "30893_20230717_left_finger_tapping_distances.csv"
          ],
          [
           "30961_20230913_left_finger_tapping_distances.csv"
          ],
          [
           "30982_20230719_left_finger_tapping_distances.csv"
          ],
          [
           "31092_20230821_left_finger_tapping_distances.csv"
          ],
          [
           "31100_20240610_left_finger_tapping_distances.csv"
          ],
          [
           "31182_20240513_left_finger_tapping_distances.csv"
          ],
          [
           "31231_20240402_left_finger_tapping_distances.csv"
          ],
          [
           "31240_20230719_left_finger_tapping_distances.csv"
          ],
          [
           "31318_20231120_left_finger_tapping_distances.csv"
          ],
          [
           "31319_20230712_left_finger_tapping_distances.csv"
          ],
          [
           "31457_20240626_left_finger_tapping_distances.csv"
          ],
          [
           "31769_20230619_left_finger_tapping_distances.csv"
          ],
          [
           "31848_20230717_left_finger_tapping_distances.csv"
          ],
          [
           "31961_20230605_left_finger_tapping_distances.csv"
          ],
          [
           "32160_20230717_left_finger_tapping_distances.csv"
          ],
          [
           "32200_20240605_left_finger_tapping_distances.csv"
          ],
          [
           "32282_20230612_left_finger_tapping_distances.csv"
          ],
          [
           "32424_20240710_left_finger_tapping_distances.csv"
          ],
          [
           "32519_20230314_left_finger_tapping_distances.csv"
          ],
          [
           "32541_20240529_left_finger_tapping_distances.csv"
          ],
          [
           "32594_20240429_left_finger_tapping_distances.csv"
          ],
          [
           "32853_20231106_left_finger_tapping_distances.csv"
          ],
          [
           "33023_20230719_left_finger_tapping_distances.csv"
          ],
          [
           "33151_20231016_left_finger_tapping_distances.csv"
          ],
          [
           "33164_20230606_left_finger_tapping_distances.csv"
          ],
          [
           "33164_20240604_left_finger_tapping_distances.csv"
          ],
          [
           "33430_20240529_left_finger_tapping_distances.csv"
          ],
          [
           "33527_20240528_left_finger_tapping_distances.csv"
          ],
          [
           "33661_20240731_left_finger_tapping_distances.csv"
          ],
          [
           "33749_20230613_left_finger_tapping_distances.csv"
          ],
          [
           "33927_20230516_left_finger_tapping_distances.csv"
          ],
          [
           "34142_20230718_left_finger_tapping_distances.csv"
          ],
          [
           "34417_20240307_left_finger_tapping_distances.csv"
          ],
          [
           "34492_20230411_left_finger_tapping_distances.csv"
          ],
          [
           "34509_20230913_left_finger_tapping_distances.csv"
          ],
          [
           "34914_20230925_left_finger_tapping_distances.csv"
          ],
          [
           "34965_20230815_left_finger_tapping_distances.csv"
          ],
          [
           "35080_20240716_left_finger_tapping_distances.csv"
          ],
          [
           "35154_20240611_left_finger_tapping_distances.csv"
          ],
          [
           "35246_20230724_left_finger_tapping_distances.csv"
          ],
          [
           "35623_20230314_left_finger_tapping_distances.csv"
          ],
          [
           "35747_20230725_left_finger_tapping_distances.csv"
          ],
          [
           "35816_20240524_left_finger_tapping_distances.csv"
          ],
          [
           "36220_20230724_left_finger_tapping_distances.csv"
          ],
          [
           "36297_20230411_left_finger_tapping_distances.csv"
          ],
          [
           "36407_20230612_left_finger_tapping_distances.csv"
          ],
          [
           "36436_20230815_left_finger_tapping_distances.csv"
          ],
          [
           "36532_20230822_left_finger_tapping_distances.csv"
          ],
          [
           "36564_20240123_left_finger_tapping_distances.csv"
          ],
          [
           "36581_20231121_left_finger_tapping_distances.csv"
          ],
          [
           "36660_20231205_left_finger_tapping_distances.csv"
          ],
          [
           "36880_20240709_left_finger_tapping_distances.csv"
          ],
          [
           "38046_20240527_left_finger_tapping_distances.csv"
          ],
          [
           "38050_20230918_left_finger_tapping_distances.csv"
          ],
          [
           "38073_20240513_left_finger_tapping_distances.csv"
          ],
          [
           "38100_20230725_left_finger_tapping_distances.csv"
          ],
          [
           "38141_20240610_left_finger_tapping_distances.csv"
          ],
          [
           "38210_20240610_left_finger_tapping_distances.csv"
          ],
          [
           "38215_20230606_left_finger_tapping_distances.csv"
          ],
          [
           "38255_20230927_left_finger_tapping_distances.csv"
          ],
          [
           "38256_20230823_left_finger_tapping_distances.csv"
          ],
          [
           "38519_20230605_left_finger_tapping_distances.csv"
          ],
          [
           "38519_20240624_left_finger_tapping_distances.csv"
          ],
          [
           "38902_20231204_left_finger_tapping_distances.csv"
          ],
          [
           "39200_20240404_left_finger_tapping_distances.csv"
          ],
          [
           "39274_20230718_left_finger_tapping_distances.csv"
          ],
          [
           "39528_20230725_left_finger_tapping_distances.csv"
          ],
          [
           "39685_20240307_left_finger_tapping_distances.csv"
          ],
          [
           "39686_20240703_left_finger_tapping_distances.csv"
          ],
          [
           "39712_20240618_left_finger_tapping_distances.csv"
          ],
          [
           "40046_20240611_left_finger_tapping_distances.csv"
          ],
          [
           "40613_20240514_left_finger_tapping_distances.csv"
          ],
          [
           "06238_20240813_right_finger_tapping_distances.csv"
          ],
          [
           "06509_20240819_right_finger_tapping_distances.csv"
          ],
          [
           "06703_20240813_right_finger_tapping_distances.csv"
          ],
          [
           "06846_20240819_right_finger_tapping_distances.csv"
          ],
          [
           "06961_20240813_right_finger_tapping_distances.csv"
          ],
          [
           "07137_20240611_right_finger_tapping_distances.csv"
          ],
          [
           "07152_20240611_right_finger_tapping_distances.csv"
          ],
          [
           "07155_20240529_right_finger_tapping_distances.csv"
          ],
          [
           "07198_20240717_right_finger_tapping_distances.csv"
          ],
          [
           "07225_20240206_right_finger_tapping_distances.csv"
          ],
          [
           "07242_20240716_right_finger_tapping_distances.csv"
          ],
          [
           "07284_20240521_right_finger_tapping_distances.csv"
          ],
          [
           "07288_20240514_right_finger_tapping_distances.csv"
          ],
          [
           "07334_20240604_right_finger_tapping_distances.csv"
          ],
          [
           "07415_20240215_right_finger_tapping_distances.csv"
          ],
          [
           "07417_20240319_right_finger_tapping_distances.csv"
          ],
          [
           "07452_20240206_right_finger_tapping_distances.csv"
          ],
          [
           "07477_20240730_right_finger_tapping_distances.csv"
          ],
          [
           "07488_20240208_right_finger_tapping_distances.csv"
          ],
          [
           "07501_20240626_right_finger_tapping_distances.csv"
          ],
          [
           "07518_20240430_right_finger_tapping_distances.csv"
          ],
          [
           "07536_20240603_right_finger_tapping_distances.csv"
          ],
          [
           "07555_20240716_right_finger_tapping_distances.csv"
          ],
          [
           "07566_20240521_right_finger_tapping_distances.csv"
          ],
          [
           "07571_20240123_right_finger_tapping_distances.csv"
          ],
          [
           "07578_20240321_right_finger_tapping_distances.csv"
          ],
          [
           "07580_20240131_right_finger_tapping_distances.csv"
          ],
          [
           "07587_20240528_right_finger_tapping_distances.csv"
          ],
          [
           "07597_20240328_right_finger_tapping_distances.csv"
          ],
          [
           "07609_20240130_right_finger_tapping_distances.csv"
          ],
          [
           "07610_20231205_right_finger_tapping_distances.csv"
          ],
          [
           "07628_20240215_right_finger_tapping_distances.csv"
          ],
          [
           "07629_20240109_right_finger_tapping_distances.csv"
          ],
          [
           "07634_20240508_right_finger_tapping_distances.csv"
          ],
          [
           "07640_20240208_right_finger_tapping_distances.csv"
          ],
          [
           "07677_20240527_right_finger_tapping_distances.csv"
          ],
          [
           "07681_20240603_right_finger_tapping_distances.csv"
          ],
          [
           "07709_20240626_right_finger_tapping_distances.csv"
          ],
          [
           "07727_20240604_right_finger_tapping_distances.csv"
          ],
          [
           "07735_20240123_right_finger_tapping_distances.csv"
          ],
          [
           "07755_20240513_right_finger_tapping_distances.csv"
          ],
          [
           "07762_20240618_right_finger_tapping_distances.csv"
          ],
          [
           "07771_20240610_right_finger_tapping_distances.csv"
          ],
          [
           "07776_20240625_right_finger_tapping_distances.csv"
          ],
          [
           "07795_20240513_right_finger_tapping_distances.csv"
          ],
          [
           "07814_20240507_right_finger_tapping_distances.csv"
          ],
          [
           "07819_20240522_right_finger_tapping_distances.csv"
          ],
          [
           "07822_20240214_right_finger_tapping_distances.csv"
          ],
          [
           "07852_20240213_right_finger_tapping_distances.csv"
          ],
          [
           "07855_20240528_right_finger_tapping_distances.csv"
          ],
          [
           "07884_20240709_right_finger_tapping_distances.csv"
          ],
          [
           "07888_20240215_right_finger_tapping_distances.csv"
          ],
          [
           "07985_20240307_right_finger_tapping_distances.csv"
          ],
          [
           "07987_20240423_right_finger_tapping_distances.csv"
          ],
          [
           "10039_20240702_right_finger_tapping_distances.csv"
          ],
          [
           "13390_20240716_right_finger_tapping_distances.csv"
          ],
          [
           "13484_20240716_right_finger_tapping_distances.csv"
          ],
          [
           "14555_20231107_right_finger_tapping_distances.csv"
          ],
          [
           "15377_20230719_right_finger_tapping_distances.csv"
          ],
          [
           "15813_20240123_right_finger_tapping_distances.csv"
          ],
          [
           "16219_20230725_right_finger_tapping_distances.csv"
          ],
          [
           "16827_20230523_right_finger_tapping_distances.csv"
          ],
          [
           "16883_20230606_right_finger_tapping_distances.csv"
          ],
          [
           "17000_20230606_right_finger_tapping_distances.csv"
          ],
          [
           "17200_20240507_right_finger_tapping_distances.csv"
          ],
          [
           "17202_20230718_right_finger_tapping_distances.csv"
          ],
          [
           "17434_20230613_right_finger_tapping_distances.csv"
          ],
          [
           "17599_20230418_right_finger_tapping_distances.csv"
          ],
          [
           "17980_20240109_right_finger_tapping_distances.csv"
          ],
          [
           "18198_20230726_right_finger_tapping_distances.csv"
          ],
          [
           "18317_20230919_right_finger_tapping_distances.csv"
          ],
          [
           "18372_20240603_right_finger_tapping_distances.csv"
          ],
          [
           "19015_20230627_right_finger_tapping_distances.csv"
          ],
          [
           "19091_20231127_right_finger_tapping_distances.csv"
          ],
          [
           "19124_20230628_right_finger_tapping_distances.csv"
          ],
          [
           "20959_20231003_right_finger_tapping_distances.csv"
          ],
          [
           "21128_20240716_right_finger_tapping_distances.csv"
          ],
          [
           "21401_20230627_right_finger_tapping_distances.csv"
          ],
          [
           "21696_20230411_right_finger_tapping_distances.csv"
          ],
          [
           "22178_20240528_right_finger_tapping_distances.csv"
          ],
          [
           "22224_20240625_right_finger_tapping_distances.csv"
          ],
          [
           "22227_20240708_right_finger_tapping_distances.csv"
          ],
          [
           "23160_20230613_right_finger_tapping_distances.csv"
          ],
          [
           "23191_20240508_right_finger_tapping_distances.csv"
          ],
          [
           "23284_20230620_right_finger_tapping_distances.csv"
          ],
          [
           "23284_20240604_right_finger_tapping_distances.csv"
          ],
          [
           "24192_20230605_right_finger_tapping_distances.csv"
          ],
          [
           "24318_20230613_right_finger_tapping_distances.csv"
          ],
          [
           "24352_20230621_right_finger_tapping_distances.csv"
          ],
          [
           "24352_20240730_right_finger_tapping_distances.csv"
          ],
          [
           "24475_20230925_right_finger_tapping_distances.csv"
          ],
          [
           "24601_20240514_right_finger_tapping_distances.csv"
          ],
          [
           "24622_20230530_right_finger_tapping_distances.csv"
          ],
          [
           "24757_20230523_right_finger_tapping_distances.csv"
          ],
          [
           "24798_20240704_right_finger_tapping_distances.csv"
          ],
          [
           "24860_20231212_right_finger_tapping_distances.csv"
          ],
          [
           "24889_20230724_right_finger_tapping_distances.csv"
          ],
          [
           "25260_20240116_right_finger_tapping_distances.csv"
          ],
          [
           "25412_20240717_right_finger_tapping_distances.csv"
          ],
          [
           "25439_20231205_right_finger_tapping_distances.csv"
          ],
          [
           "25533_20230628_right_finger_tapping_distances.csv"
          ],
          [
           "25793_20240603_right_finger_tapping_distances.csv"
          ],
          [
           "25934_20231016_right_finger_tapping_distances.csv"
          ],
          [
           "25957_20240507_right_finger_tapping_distances.csv"
          ],
          [
           "26145_20240514_right_finger_tapping_distances.csv"
          ],
          [
           "26326_20240729_right_finger_tapping_distances.csv"
          ],
          [
           "26407_20240528_right_finger_tapping_distances.csv"
          ],
          [
           "26692_20230627_right_finger_tapping_distances.csv"
          ],
          [
           "27123_20230606_right_finger_tapping_distances.csv"
          ],
          [
           "27423_20240603_right_finger_tapping_distances.csv"
          ],
          [
           "27425_20230918_right_finger_tapping_distances.csv"
          ],
          [
           "28225_20240704_right_finger_tapping_distances.csv"
          ],
          [
           "28321_20240513_right_finger_tapping_distances.csv"
          ],
          [
           "28350_20240515_right_finger_tapping_distances.csv"
          ],
          [
           "28408_20240617_right_finger_tapping_distances.csv"
          ],
          [
           "28411_20231023_right_finger_tapping_distances.csv"
          ],
          [
           "28550_20240115_right_finger_tapping_distances.csv"
          ],
          [
           "28615_20230523_right_finger_tapping_distances.csv"
          ],
          [
           "28630_20240521_right_finger_tapping_distances.csv"
          ],
          [
           "28637_20230912_right_finger_tapping_distances.csv"
          ],
          [
           "28641_20230717_right_finger_tapping_distances.csv"
          ],
          [
           "28726_20230425_right_finger_tapping_distances.csv"
          ],
          [
           "28813_20230823_right_finger_tapping_distances.csv"
          ],
          [
           "29079_20240513_right_finger_tapping_distances.csv"
          ],
          [
           "29157_20230531_right_finger_tapping_distances.csv"
          ],
          [
           "29377_20230314_right_finger_tapping_distances.csv"
          ],
          [
           "29570_20230619_right_finger_tapping_distances.csv"
          ],
          [
           "29880_20230314_right_finger_tapping_distances.csv"
          ],
          [
           "30009_20240515_right_finger_tapping_distances.csv"
          ],
          [
           "30148_20230809_right_finger_tapping_distances.csv"
          ],
          [
           "30201_20240715_right_finger_tapping_distances.csv"
          ],
          [
           "30279_20240527_right_finger_tapping_distances.csv"
          ],
          [
           "30414_20240522_right_finger_tapping_distances.csv"
          ],
          [
           "30593_20230926_right_finger_tapping_distances.csv"
          ],
          [
           "30893_20230717_right_finger_tapping_distances.csv"
          ],
          [
           "30961_20230913_right_finger_tapping_distances.csv"
          ],
          [
           "30982_20230719_right_finger_tapping_distances.csv"
          ],
          [
           "31092_20230821_right_finger_tapping_distances.csv"
          ],
          [
           "31100_20240610_right_finger_tapping_distances.csv"
          ],
          [
           "31182_20240513_right_finger_tapping_distances.csv"
          ],
          [
           "31231_20240402_right_finger_tapping_distances.csv"
          ],
          [
           "31240_20230719_right_finger_tapping_distances.csv"
          ],
          [
           "31318_20231120_right_finger_tapping_distances.csv"
          ],
          [
           "31319_20230712_right_finger_tapping_distances.csv"
          ],
          [
           "31457_20240626_right_finger_tapping_distances.csv"
          ],
          [
           "31769_20230619_right_finger_tapping_distances.csv"
          ],
          [
           "31848_20230717_right_finger_tapping_distances.csv"
          ],
          [
           "31961_20230605_right_finger_tapping_distances.csv"
          ],
          [
           "32160_20230717_right_finger_tapping_distances.csv"
          ],
          [
           "32200_20240605_right_finger_tapping_distances.csv"
          ],
          [
           "32282_20230612_right_finger_tapping_distances.csv"
          ],
          [
           "32424_20240710_right_finger_tapping_distances.csv"
          ],
          [
           "32519_20230314_right_finger_tapping_distances.csv"
          ],
          [
           "32541_20240529_right_finger_tapping_distances.csv"
          ],
          [
           "32594_20240429_right_finger_tapping_distances.csv"
          ],
          [
           "32853_20231106_right_finger_tapping_distances.csv"
          ],
          [
           "33023_20230719_right_finger_tapping_distances.csv"
          ],
          [
           "33151_20231016_right_finger_tapping_distances.csv"
          ],
          [
           "33164_20230606_right_finger_tapping_distances.csv"
          ],
          [
           "33164_20240604_right_finger_tapping_distances.csv"
          ],
          [
           "33166_20230607_right_finger_tapping_distances.csv"
          ],
          [
           "33430_20240529_right_finger_tapping_distances.csv"
          ],
          [
           "33527_20240528_right_finger_tapping_distances.csv"
          ],
          [
           "33661_20240731_right_finger_tapping_distances.csv"
          ],
          [
           "33749_20230613_right_finger_tapping_distances.csv"
          ],
          [
           "33927_20230516_right_finger_tapping_distances.csv"
          ],
          [
           "34142_20230718_right_finger_tapping_distances.csv"
          ],
          [
           "34417_20240307_right_finger_tapping_distances.csv"
          ],
          [
           "34492_20230411_right_finger_tapping_distances.csv"
          ],
          [
           "34509_20230913_right_finger_tapping_distances.csv"
          ],
          [
           "34914_20230925_right_finger_tapping_distances.csv"
          ],
          [
           "34965_20230815_right_finger_tapping_distances.csv"
          ],
          [
           "35080_20240716_right_finger_tapping_distances.csv"
          ],
          [
           "35154_20240611_right_finger_tapping_distances.csv"
          ],
          [
           "35246_20230724_right_finger_tapping_distances.csv"
          ],
          [
           "35623_20230314_right_finger_tapping_distances.csv"
          ],
          [
           "35747_20230725_right_finger_tapping_distances.csv"
          ],
          [
           "35816_20240524_right_finger_tapping_distances.csv"
          ],
          [
           "36220_20230724_right_finger_tapping_distances.csv"
          ],
          [
           "36297_20230411_right_finger_tapping_distances.csv"
          ],
          [
           "36407_20230612_right_finger_tapping_distances.csv"
          ],
          [
           "36436_20230815_right_finger_tapping_distances.csv"
          ],
          [
           "36532_20230822_right_finger_tapping_distances.csv"
          ],
          [
           "36564_20240123_right_finger_tapping_distances.csv"
          ],
          [
           "36581_20231121_right_finger_tapping_distances.csv"
          ],
          [
           "36660_20231205_right_finger_tapping_distances.csv"
          ],
          [
           "36880_20240709_right_finger_tapping_distances.csv"
          ],
          [
           "38046_20240527_right_finger_tapping_distances.csv"
          ],
          [
           "38050_20230918_right_finger_tapping_distances.csv"
          ],
          [
           "38073_20240513_right_finger_tapping_distances.csv"
          ],
          [
           "38100_20230725_right_finger_tapping_distances.csv"
          ],
          [
           "38141_20240610_right_finger_tapping_distances.csv"
          ],
          [
           "38210_20240610_right_finger_tapping_distances.csv"
          ],
          [
           "38215_20230606_right_finger_tapping_distances.csv"
          ],
          [
           "38255_20230927_right_finger_tapping_distances.csv"
          ],
          [
           "38256_20230823_right_finger_tapping_distances.csv"
          ],
          [
           "38519_20230605_right_finger_tapping_distances.csv"
          ],
          [
           "38519_20240624_right_finger_tapping_distances.csv"
          ],
          [
           "38902_20231204_right_finger_tapping_distances.csv"
          ],
          [
           "39200_20240404_right_finger_tapping_distances.csv"
          ],
          [
           "39274_20230718_right_finger_tapping_distances.csv"
          ],
          [
           "39528_20230725_right_finger_tapping_distances.csv"
          ],
          [
           "39685_20240307_right_finger_tapping_distances.csv"
          ],
          [
           "39686_20240703_right_finger_tapping_distances.csv"
          ],
          [
           "39712_20240618_right_finger_tapping_distances.csv"
          ],
          [
           "40046_20240611_right_finger_tapping_distances.csv"
          ],
          [
           "40613_20240514_right_finger_tapping_distances.csv"
          ]
         ],
         "hovertemplate": "TSNE Component 1=%{x}<br>TSNE Component 2=%{y}<br>file_name=%{customdata[0]}<br>label=%{marker.color}<extra></extra>",
         "legendgroup": "",
         "marker": {
          "color": [
           0,
           0,
           0,
           0,
           0,
           2,
           0,
           2,
           0,
           0,
           0,
           0,
           0,
           0,
           3,
           0,
           0,
           1,
           2,
           1,
           0,
           0,
           2,
           0,
           0,
           1,
           0,
           3,
           0,
           0,
           0,
           0,
           1,
           0,
           3,
           0,
           0,
           0,
           0,
           0,
           1,
           0,
           0,
           0,
           0,
           0,
           0,
           2,
           1,
           1,
           0,
           1,
           2,
           0,
           3,
           3,
           2,
           0,
           2,
           0,
           3,
           3,
           2,
           2,
           3,
           2,
           4,
           2,
           3,
           1,
           0,
           3,
           2,
           2,
           2,
           2,
           3,
           3,
           2,
           3,
           0,
           0,
           2,
           1,
           3,
           3,
           2,
           2,
           2,
           3,
           1,
           2,
           1,
           3,
           2,
           0,
           2,
           2,
           1,
           2,
           2,
           3,
           2,
           2,
           1,
           1,
           2,
           3,
           4,
           3,
           3,
           0,
           2,
           0,
           3,
           3,
           2,
           4,
           3,
           0,
           0,
           4,
           3,
           4,
           2,
           2,
           3,
           3,
           2,
           2,
           2,
           1,
           2,
           3,
           1,
           3,
           1,
           3,
           2,
           3,
           2,
           3,
           3,
           4,
           2,
           2,
           3,
           3,
           1,
           2,
           0,
           0,
           3,
           3,
           2,
           3,
           3,
           1,
           3,
           0,
           4,
           3,
           0,
           3,
           2,
           0,
           2,
           4,
           1,
           3,
           3,
           1,
           1,
           3,
           2,
           2,
           1,
           2,
           3,
           3,
           3,
           3,
           1,
           1,
           2,
           4,
           2,
           1,
           1,
           3,
           3,
           1,
           0,
           0,
           1,
           3,
           2,
           4,
           3,
           3,
           0,
           4,
           2,
           3,
           2,
           0,
           3,
           3,
           0,
           0,
           0,
           0,
           0,
           3,
           0,
           2,
           0,
           0,
           3,
           0,
           0,
           0,
           2,
           0,
           1,
           0,
           0,
           1,
           0,
           0,
           2,
           0,
           0,
           0,
           0,
           1,
           0,
           0,
           0,
           1,
           2,
           0,
           3,
           0,
           0,
           0,
           2,
           0,
           2,
           0,
           0,
           1,
           0,
           3,
           0,
           2,
           3,
           0,
           0,
           2,
           2,
           1,
           4,
           3,
           2,
           2,
           3,
           1,
           3,
           2,
           1,
           2,
           2,
           3,
           4,
           3,
           2,
           1,
           1,
           2,
           0,
           2,
           2,
           1,
           3,
           2,
           3,
           3,
           1,
           1,
           2,
           3,
           3,
           3,
           1,
           2,
           2,
           2,
           1,
           2,
           0,
           2,
           3,
           2,
           2,
           0,
           1,
           2,
           2,
           3,
           2,
           3,
           2,
           1,
           2,
           4,
           3,
           3,
           2,
           1,
           3,
           1,
           1,
           2,
           2,
           4,
           3,
           1,
           1,
           3,
           3,
           1,
           2,
           3,
           2,
           2,
           3,
           0,
           1,
           2,
           1,
           2,
           1,
           3,
           3,
           3,
           2,
           1,
           2,
           3,
           1,
           1,
           3,
           3,
           0,
           3,
           1,
           0,
           2,
           3,
           1,
           2,
           3,
           1,
           2,
           1,
           3,
           2,
           4,
           0,
           4,
           2,
           0,
           2,
           4,
           0,
           3,
           3,
           1,
           1,
           3,
           2,
           2,
           1,
           2,
           4,
           2,
           2,
           4,
           1,
           1,
           1,
           3,
           1,
           0,
           2,
           3,
           2,
           1,
           0,
           3,
           1,
           3,
           3,
           4,
           2,
           2,
           1,
           3,
           3,
           3,
           2,
           2,
           2,
           2
          ],
          "coloraxis": "coloraxis",
          "symbol": "circle"
         },
         "mode": "markers",
         "name": "",
         "orientation": "v",
         "showlegend": false,
         "type": "scatter",
         "x": [
          34.11098098754883,
          18.22481346130371,
          -8.992775917053223,
          24.70575523376465,
          33.993648529052734,
          -16.769771575927734,
          17.268779754638672,
          -32.81586456298828,
          -4.000116348266602,
          30.272876739501953,
          -5.300395488739014,
          -28.121732711791992,
          5.602110385894775,
          -30.190101623535156,
          -29.739416122436523,
          40.62068176269531,
          42.73916244506836,
          24.21619987487793,
          -19.3575382232666,
          10.173144340515137,
          -17.958938598632812,
          -8.047496795654297,
          43.27008819580078,
          38.65953826904297,
          -19.172103881835938,
          -24.878633499145508,
          19.439571380615234,
          -33.7770881652832,
          29.322677612304688,
          37.08729934692383,
          -8.201434135437012,
          25.254392623901367,
          -6.959836006164551,
          31.789339065551758,
          -21.894378662109375,
          -1.8296486139297485,
          -14.265040397644043,
          8.717317581176758,
          -18.064117431640625,
          15.265787124633789,
          -10.454336166381836,
          2.655611753463745,
          -20.709495544433594,
          -6.886780738830566,
          -27.769472122192383,
          -25.743682861328125,
          33.09149169921875,
          -17.204530715942383,
          39.12537384033203,
          5.5631561279296875,
          3.7843618392944336,
          -24.66400146484375,
          -13.503348350524902,
          14.490809440612793,
          -30.363719940185547,
          -21.777786254882812,
          -20.969135284423828,
          32.75228500366211,
          -22.889020919799805,
          -2.265563488006592,
          3.3798437118530273,
          -4.302149295806885,
          -0.9969688057899475,
          -24.3499698638916,
          -29.094451904296875,
          32.69990921020508,
          -28.997228622436523,
          -5.549755096435547,
          -11.245678901672363,
          -18.438718795776367,
          28.16145133972168,
          -19.094478607177734,
          13.8308744430542,
          38.500301361083984,
          -20.037424087524414,
          20.013343811035156,
          -31.300493240356445,
          -8.48029613494873,
          -25.82805633544922,
          -29.233036041259766,
          12.262426376342773,
          -19.748823165893555,
          -7.241739273071289,
          -23.97187614440918,
          -22.662273406982422,
          -28.24609375,
          43.11064910888672,
          -8.070839881896973,
          -1.586120367050171,
          -4.50762939453125,
          34.952640533447266,
          8.1417236328125,
          11.193462371826172,
          -20.34317398071289,
          -25.129539489746094,
          13.831147193908691,
          -19.55843734741211,
          3.5103652477264404,
          -13.546751976013184,
          -20.315885543823242,
          33.972076416015625,
          -26.96074867248535,
          -5.545496940612793,
          -1.830948829650879,
          20.290042877197266,
          21.204097747802734,
          10.442597389221191,
          -32.33943176269531,
          -27.13567352294922,
          -20.09665298461914,
          19.581274032592773,
          -9.347414016723633,
          -28.283777236938477,
          8.698532104492188,
          -9.920536994934082,
          -20.667949676513672,
          -7.857936859130859,
          -31.344985961914062,
          -3.5102717876434326,
          16.216049194335938,
          41.66935729980469,
          -29.051782608032227,
          40.5223503112793,
          -28.606754302978516,
          43.13423538208008,
          -6.5113348960876465,
          3.8551204204559326,
          -20.61100959777832,
          38.22471237182617,
          -18.977102279663086,
          -21.88946533203125,
          22.528139114379883,
          -14.363852500915527,
          2.6390912532806396,
          12.691407203674316,
          -31.617687225341797,
          -3.746201992034912,
          -20.147499084472656,
          5.324438095092773,
          -19.505615234375,
          23.241121292114258,
          -27.07754898071289,
          -21.983657836914062,
          -30.58966636657715,
          -20.157609939575195,
          -22.2818546295166,
          -32.32718276977539,
          -29.127653121948242,
          16.370676040649414,
          -18.935243606567383,
          4.60364294052124,
          -33.339229583740234,
          32.85755157470703,
          -28.412336349487305,
          15.468420028686523,
          -19.8852596282959,
          -26.27760124206543,
          -17.542858123779297,
          -17.1453800201416,
          16.962631225585938,
          -22.87939453125,
          -30.517379760742188,
          33.504817962646484,
          -31.366670608520508,
          -17.925352096557617,
          29.29402732849121,
          25.05246925354004,
          14.859389305114746,
          31.720922470092773,
          -3.7551448345184326,
          -28.246484756469727,
          -24.11449432373047,
          -5.849470138549805,
          4.7732253074646,
          -21.46672821044922,
          28.171546936035156,
          36.78423309326172,
          -10.149574279785156,
          -6.428701400756836,
          -21.885173797607422,
          -31.201297760009766,
          -25.031774520874023,
          -3.7595407962799072,
          39.64509201049805,
          -19.89775848388672,
          -26.284212112426758,
          15.714921951293945,
          33.730709075927734,
          15.352783203125,
          3.1021010875701904,
          -21.06177520751953,
          20.040674209594727,
          41.67588424682617,
          13.436291694641113,
          39.45660400390625,
          -20.44943618774414,
          25.330652236938477,
          -30.719589233398438,
          -32.46757125854492,
          -28.775108337402344,
          -19.04320526123047,
          -34.27299499511719,
          -2.5005950927734375,
          -31.666276931762695,
          11.608213424682617,
          -17.399425506591797,
          -32.935508728027344,
          -3.036578893661499,
          23.92062759399414,
          28.374074935913086,
          -6.921860218048096,
          26.119266510009766,
          25.41468048095703,
          -18.21500015258789,
          16.795955657958984,
          -33.09341049194336,
          -1.2175979614257812,
          38.9742431640625,
          -20.00885009765625,
          -33.41791534423828,
          6.542389869689941,
          -27.02581214904785,
          -20.033315658569336,
          22.223222732543945,
          42.42770767211914,
          3.560925006866455,
          10.304433822631836,
          -23.852283477783203,
          9.838966369628906,
          -6.691291332244873,
          36.07481384277344,
          21.314926147460938,
          -16.287588119506836,
          -21.45418930053711,
          38.30519485473633,
          -28.189472198486328,
          38.83256912231445,
          29.863985061645508,
          -21.2292423248291,
          33.344852447509766,
          -12.681711196899414,
          22.74502944946289,
          -21.69034767150879,
          21.50868034362793,
          4.6617817878723145,
          2.545614719390869,
          -31.639728546142578,
          25.71150016784668,
          -20.251392364501953,
          28.663482666015625,
          7.944372653961182,
          8.178007125854492,
          -28.354887008666992,
          -27.426227569580078,
          33.306461334228516,
          -20.419904708862305,
          41.0908088684082,
          -3.023077964782715,
          -21.655115127563477,
          -14.203470230102539,
          -8.877641677856445,
          -9.256227493286133,
          -31.973520278930664,
          -20.492794036865234,
          -2.826575994491577,
          14.28850269317627,
          15.944900512695312,
          -9.352848052978516,
          33.24019241333008,
          27.896568298339844,
          31.955066680908203,
          7.151770114898682,
          -22.10154151916504,
          42.37057876586914,
          -13.187949180603027,
          19.04243278503418,
          19.752798080444336,
          21.73287010192871,
          38.453125,
          -28.601411819458008,
          31.008398056030273,
          42.95194625854492,
          3.305420398712158,
          9.200722694396973,
          -22.16315269470215,
          18.770179748535156,
          -20.82417869567871,
          -25.57049560546875,
          37.74225997924805,
          -25.9892635345459,
          -5.607677459716797,
          -25.854795455932617,
          -27.539674758911133,
          -31.9903621673584,
          39.412689208984375,
          15.082930564880371,
          12.10275936126709,
          -21.43609046936035,
          9.70096492767334,
          -4.334939002990723,
          40.294769287109375,
          -3.004953622817993,
          -28.334304809570312,
          29.716842651367188,
          6.9080281257629395,
          35.77098083496094,
          -21.06808090209961,
          -5.465737342834473,
          39.30508041381836,
          -32.340763092041016,
          -5.672447681427002,
          -11.777509689331055,
          3.6426727771759033,
          20.686920166015625,
          15.048270225524902,
          -30.694011688232422,
          -27.94978141784668,
          -29.669639587402344,
          31.57659912109375,
          -13.498209953308105,
          -29.346128463745117,
          -2.679572105407715,
          -4.9595794677734375,
          25.63437271118164,
          1.9221545457839966,
          -6.808085918426514,
          9.102325439453125,
          9.443943977355957,
          31.7347469329834,
          36.02964401245117,
          40.94504928588867,
          3.1015913486480713,
          -4.735471725463867,
          -28.812908172607422,
          7.752907752990723,
          -4.843762397766113,
          -25.832395553588867,
          20.52217674255371,
          -1.85975980758667,
          39.76359558105469,
          -4.3060688972473145,
          -5.742630481719971,
          -19.486148834228516,
          -13.870759963989258,
          26.34916114807129,
          -31.37895393371582,
          3.273794174194336,
          -7.88718318939209,
          -28.91888427734375,
          -30.882471084594727,
          -6.162384033203125,
          13.640048027038574,
          -32.49991989135742,
          -26.087371826171875,
          -8.448712348937988,
          -18.30826187133789,
          -7.205018520355225,
          -22.19708824157715,
          13.143298149108887,
          -27.833772659301758,
          20.855690002441406,
          -18.2493896484375,
          -28.048965454101562,
          4.700884819030762,
          -29.34407615661621,
          8.431112289428711,
          -17.497310638427734,
          7.0029706954956055,
          -26.417036056518555,
          32.179832458496094,
          -32.005706787109375,
          -18.909828186035156,
          23.14480972290039,
          41.27975845336914,
          14.732855796813965,
          18.72066307067871,
          11.17043685913086,
          -23.673118591308594,
          -25.69150161743164,
          1.6770344972610474,
          18.667922973632812,
          -16.244821548461914,
          34.5909309387207,
          15.153227806091309,
          3.699838876724243,
          -8.474568367004395,
          4.995075225830078,
          -11.954678535461426,
          -31.04286766052246,
          37.40573501586914,
          26.682836532592773,
          31.514087677001953,
          -26.544967651367188,
          26.896427154541016,
          -2.2232437133789062,
          21.137832641601562,
          4.2940850257873535,
          4.711396217346191,
          14.339813232421875,
          34.75890350341797,
          -16.91080665588379,
          31.107372283935547,
          -19.802663803100586,
          15.712528228759766,
          -30.76411247253418,
          -29.51405143737793,
          -27.57457733154297,
          -2.0788629055023193,
          -12.644887924194336,
          -15.463557243347168,
          -21.67929458618164,
          19.221139907836914,
          -28.19990348815918,
          -32.859195709228516,
          -4.3703389167785645
         ],
         "xaxis": "x",
         "y": [
          2.7472984790802,
          3.0441067218780518,
          -7.243911266326904,
          3.3166704177856445,
          2.366023302078247,
          -4.827536582946777,
          2.513082265853882,
          2.776923179626465,
          -6.4161810874938965,
          3.144375801086426,
          -6.356237411499023,
          3.585916042327881,
          -0.7334566116333008,
          0.4233725070953369,
          0.8403785824775696,
          2.985800266265869,
          2.1418633460998535,
          2.8780343532562256,
          -2.271819591522217,
          0.7459685206413269,
          -7.074616432189941,
          -7.360728740692139,
          0.9083288908004761,
          2.7589426040649414,
          4.259008884429932,
          -5.292695999145508,
          3.516511917114258,
          1.518204927444458,
          3.3929975032806396,
          3.1250827312469482,
          -3.7434310913085938,
          3.4778029918670654,
          -6.674716949462891,
          3.223578929901123,
          -0.14166201651096344,
          -5.728632926940918,
          -4.077328681945801,
          0.5891290903091431,
          -6.327665328979492,
          3.245490312576294,
          -7.217577934265137,
          -1.3421319723129272,
          -6.410540580749512,
          -6.061169147491455,
          -4.047741413116455,
          -3.7972607612609863,
          3.021003484725952,
          -6.882284641265869,
          2.5109663009643555,
          -0.4955505430698395,
          -0.809978187084198,
          -5.73204231262207,
          -4.599076747894287,
          2.7447509765625,
          4.804231643676758,
          -5.016636848449707,
          -7.753355979919434,
          2.2690436840057373,
          -6.805600643157959,
          -5.017399787902832,
          1.795622706413269,
          -1.1123706102371216,
          -4.601088523864746,
          -2.980961561203003,
          4.743685722351074,
          3.385702610015869,
          1.166853666305542,
          0.13032305240631104,
          -5.976447105407715,
          -5.288964748382568,
          3.627747058868408,
          -6.469460487365723,
          1.433449149131775,
          2.112879753112793,
          -7.951557159423828,
          3.1180453300476074,
          0.38601431250572205,
          -6.585808753967285,
          -2.709289312362671,
          6.040038585662842,
          1.926499366760254,
          3.293964385986328,
          -5.252468585968018,
          -4.244380950927734,
          -6.571073532104492,
          -1.731377124786377,
          1.4078291654586792,
          -7.241337299346924,
          -1.685241460800171,
          1.0136678218841553,
          2.660731792449951,
          1.349711537361145,
          1.295968770980835,
          -1.108277678489685,
          -4.4076457023620605,
          2.907785415649414,
          -4.197653770446777,
          1.2951979637145996,
          -4.888609886169434,
          -2.120997905731201,
          3.940382957458496,
          6.529080867767334,
          -0.24380920827388763,
          -4.544896602630615,
          2.414280414581299,
          2.0673234462738037,
          1.5816808938980103,
          1.0987844467163086,
          5.400849342346191,
          -4.878505229949951,
          1.9471529722213745,
          -7.086419105529785,
          4.0613112449646,
          0.28292712569236755,
          -7.14212703704834,
          4.665432453155518,
          -4.696379661560059,
          5.363622665405273,
          -1.69187331199646,
          2.3093621730804443,
          2.8516733646392822,
          -1.828015685081482,
          2.230774402618408,
          6.507052421569824,
          1.3421909809112549,
          -6.532952308654785,
          -1.8719805479049683,
          -4.589015483856201,
          2.7913734912872314,
          2.4804375171661377,
          -1.3001527786254883,
          3.35676646232605,
          -6.7612080574035645,
          -2.0083818435668945,
          1.9679487943649292,
          2.8297300338745117,
          -6.325652122497559,
          3.360053062438965,
          -1.414760708808899,
          2.739086389541626,
          3.3731794357299805,
          -1.6292275190353394,
          -0.18437720835208893,
          0.3140217661857605,
          -5.029596328735352,
          -4.357526779174805,
          3.7151243686676025,
          -1.4053194522857666,
          3.3260858058929443,
          -2.9327118396759033,
          -1.7743955850601196,
          1.010076642036438,
          2.764035224914551,
          6.185759544372559,
          1.7061203718185425,
          -6.573434352874756,
          4.764512062072754,
          -4.266209602355957,
          -7.427953720092773,
          2.8122944831848145,
          -4.396088600158691,
          -0.5432660579681396,
          2.759554862976074,
          4.979639530181885,
          -7.582188606262207,
          2.856649398803711,
          2.859722137451172,
          1.5649646520614624,
          4.0377116203308105,
          -3.3282618522644043,
          2.972452402114868,
          -5.384065628051758,
          0.15656618773937225,
          0.032858189195394516,
          -1.0689733028411865,
          2.7995097637176514,
          2.2145228385925293,
          -6.276867389678955,
          -5.665151119232178,
          4.379516124725342,
          3.8349547386169434,
          -2.3179380893707275,
          -5.8390021324157715,
          3.1986002922058105,
          -6.6699910163879395,
          5.9795451164245605,
          1.3273108005523682,
          3.220877170562744,
          2.633164644241333,
          -0.33121490478515625,
          -0.1832326054573059,
          3.6443631649017334,
          2.3304965496063232,
          2.279311418533325,
          3.4088590145111084,
          -0.0338597297668457,
          3.6757192611694336,
          3.3663458824157715,
          4.531157970428467,
          4.339211940765381,
          -4.750951290130615,
          2.19506573677063,
          -5.4845051765441895,
          3.0017106533050537,
          1.5512288808822632,
          -7.723466396331787,
          1.2012567520141602,
          -5.556146144866943,
          3.2950868606567383,
          3.0127925872802734,
          -7.210847854614258,
          2.8590404987335205,
          2.677788734436035,
          2.449492931365967,
          1.8515570163726807,
          2.0234341621398926,
          -5.094545364379883,
          3.4299283027648926,
          -6.133022785186768,
          2.529797077178955,
          -0.19383378326892853,
          -3.234895944595337,
          4.461106300354004,
          3.2128872871398926,
          2.123122453689575,
          1.4546527862548828,
          1.2660694122314453,
          -5.870144367218018,
          2.336526870727539,
          -7.275359153747559,
          3.0785465240478516,
          2.869607925415039,
          -5.428399085998535,
          -7.220736980438232,
          3.255321741104126,
          6.751722812652588,
          3.324732542037964,
          3.501312732696533,
          -0.4486258924007416,
          3.672361135482788,
          -6.035311222076416,
          2.5737149715423584,
          4.1607255935668945,
          3.323225975036621,
          -1.3052642345428467,
          -1.2938377857208252,
          4.294687271118164,
          3.5746779441833496,
          -7.494511127471924,
          3.4255969524383545,
          0.09406202286481857,
          0.7482514977455139,
          -3.2115793228149414,
          -2.8627264499664307,
          2.340304374694824,
          -3.1493287086486816,
          2.5708611011505127,
          -4.742199420928955,
          -6.387664794921875,
          -6.9848151206970215,
          -6.48642635345459,
          -5.775892734527588,
          1.2163182497024536,
          -4.215597629547119,
          -2.7220375537872314,
          1.4631515741348267,
          2.877521276473999,
          -6.528090476989746,
          3.723228931427002,
          3.357267141342163,
          2.3555164337158203,
          -0.32285118103027344,
          -7.207605361938477,
          2.4803168773651123,
          -5.876114368438721,
          1.8317220211029053,
          2.553715944290161,
          2.5251524448394775,
          1.7982577085494995,
          3.1314549446105957,
          2.768146276473999,
          1.8432008028030396,
          -1.9758453369140625,
          1.2865771055221558,
          4.43012809753418,
          3.069472074508667,
          4.225578308105469,
          6.288013935089111,
          2.666778087615967,
          -4.381518840789795,
          -5.700123310089111,
          4.856775760650635,
          -1.17313551902771,
          -0.07406562566757202,
          2.1474173069000244,
          3.278686046600342,
          1.5575714111328125,
          3.898141622543335,
          1.6553301811218262,
          -5.466926574707031,
          3.1989760398864746,
          -4.965384006500244,
          2.2470104694366455,
          2.8501322269439697,
          0.566825807094574,
          3.1374802589416504,
          -7.845106601715088,
          -0.4222053587436676,
          2.7533979415893555,
          2.0191330909729004,
          -0.7085137963294983,
          -6.5908660888671875,
          -0.7507976293563843,
          2.8346948623657227,
          2.609773874282837,
          2.584442615509033,
          -0.8137471675872803,
          5.437967777252197,
          3.569875478744507,
          -6.890350341796875,
          4.338115215301514,
          -6.002549648284912,
          -4.307759761810303,
          2.9760189056396484,
          -1.8768980503082275,
          -0.32141798734664917,
          2.6672980785369873,
          0.7758417725563049,
          2.7996606826782227,
          2.1942226886749268,
          2.1023802757263184,
          0.9376375675201416,
          -5.87235689163208,
          -0.6679257750511169,
          0.7124409079551697,
          -0.7693620324134827,
          6.722713947296143,
          2.1825954914093018,
          -4.955207347869873,
          2.576897382736206,
          -4.0126214027404785,
          -6.586548805236816,
          -5.423413276672363,
          -4.243937015533447,
          3.5746164321899414,
          -0.40648365020751953,
          -2.280400037765503,
          -6.557610988616943,
          5.284994125366211,
          -0.4203547537326813,
          -6.250086784362793,
          1.9588054418563843,
          2.4177744388580322,
          -3.898552179336548,
          -7.851794719696045,
          1.4138315916061401,
          -6.415403366088867,
          -7.461780071258545,
          2.555473566055298,
          1.9401100873947144,
          1.5348948240280151,
          -4.164418697357178,
          -3.6092946529388428,
          -0.863523006439209,
          -1.8845771551132202,
          1.6885225772857666,
          -4.9319167137146,
          0.11766064167022705,
          6.7769880294799805,
          3.4504172801971436,
          4.466897010803223,
          -7.3210344314575195,
          2.9339547157287598,
          2.977814197540283,
          1.8965948820114136,
          -0.09657560288906097,
          2.4844970703125,
          -6.283949375152588,
          -3.2981224060058594,
          -1.149239182472229,
          -0.12453990429639816,
          -6.209352970123291,
          3.305835247039795,
          1.0276765823364258,
          -1.2539466619491577,
          -5.527157783508301,
          1.2975090742111206,
          -6.223942279815674,
          5.026246070861816,
          3.210698127746582,
          2.9927968978881836,
          2.6633594036102295,
          5.333127021789551,
          3.314140796661377,
          -1.2756412029266357,
          3.4192841053009033,
          -0.19479328393936157,
          0.8370741009712219,
          2.6232426166534424,
          3.0987513065338135,
          -5.478725910186768,
          3.3026139736175537,
          3.922534227371216,
          0.5949963331222534,
          2.459357261657715,
          5.739937782287598,
          2.631528854370117,
          -5.614867210388184,
          -7.0551438331604,
          -6.809490203857422,
          -7.575132846832275,
          2.3391799926757812,
          -2.013871669769287,
          0.6126834154129028,
          -6.374393463134766
         ],
         "yaxis": "y"
        }
       ],
       "layout": {
        "coloraxis": {
         "colorbar": {
          "title": {
           "text": "label"
          }
         },
         "colorscale": [
          [
           0,
           "#0d0887"
          ],
          [
           0.1111111111111111,
           "#46039f"
          ],
          [
           0.2222222222222222,
           "#7201a8"
          ],
          [
           0.3333333333333333,
           "#9c179e"
          ],
          [
           0.4444444444444444,
           "#bd3786"
          ],
          [
           0.5555555555555556,
           "#d8576b"
          ],
          [
           0.6666666666666666,
           "#ed7953"
          ],
          [
           0.7777777777777778,
           "#fb9f3a"
          ],
          [
           0.8888888888888888,
           "#fdca26"
          ],
          [
           1,
           "#f0f921"
          ]
         ]
        },
        "legend": {
         "tracegroupgap": 0
        },
        "template": {
         "data": {
          "bar": [
           {
            "error_x": {
             "color": "#2a3f5f"
            },
            "error_y": {
             "color": "#2a3f5f"
            },
            "marker": {
             "line": {
              "color": "#E5ECF6",
              "width": 0.5
             },
             "pattern": {
              "fillmode": "overlay",
              "size": 10,
              "solidity": 0.2
             }
            },
            "type": "bar"
           }
          ],
          "barpolar": [
           {
            "marker": {
             "line": {
              "color": "#E5ECF6",
              "width": 0.5
             },
             "pattern": {
              "fillmode": "overlay",
              "size": 10,
              "solidity": 0.2
             }
            },
            "type": "barpolar"
           }
          ],
          "carpet": [
           {
            "aaxis": {
             "endlinecolor": "#2a3f5f",
             "gridcolor": "white",
             "linecolor": "white",
             "minorgridcolor": "white",
             "startlinecolor": "#2a3f5f"
            },
            "baxis": {
             "endlinecolor": "#2a3f5f",
             "gridcolor": "white",
             "linecolor": "white",
             "minorgridcolor": "white",
             "startlinecolor": "#2a3f5f"
            },
            "type": "carpet"
           }
          ],
          "choropleth": [
           {
            "colorbar": {
             "outlinewidth": 0,
             "ticks": ""
            },
            "type": "choropleth"
           }
          ],
          "contour": [
           {
            "colorbar": {
             "outlinewidth": 0,
             "ticks": ""
            },
            "colorscale": [
             [
              0,
              "#0d0887"
             ],
             [
              0.1111111111111111,
              "#46039f"
             ],
             [
              0.2222222222222222,
              "#7201a8"
             ],
             [
              0.3333333333333333,
              "#9c179e"
             ],
             [
              0.4444444444444444,
              "#bd3786"
             ],
             [
              0.5555555555555556,
              "#d8576b"
             ],
             [
              0.6666666666666666,
              "#ed7953"
             ],
             [
              0.7777777777777778,
              "#fb9f3a"
             ],
             [
              0.8888888888888888,
              "#fdca26"
             ],
             [
              1,
              "#f0f921"
             ]
            ],
            "type": "contour"
           }
          ],
          "contourcarpet": [
           {
            "colorbar": {
             "outlinewidth": 0,
             "ticks": ""
            },
            "type": "contourcarpet"
           }
          ],
          "heatmap": [
           {
            "colorbar": {
             "outlinewidth": 0,
             "ticks": ""
            },
            "colorscale": [
             [
              0,
              "#0d0887"
             ],
             [
              0.1111111111111111,
              "#46039f"
             ],
             [
              0.2222222222222222,
              "#7201a8"
             ],
             [
              0.3333333333333333,
              "#9c179e"
             ],
             [
              0.4444444444444444,
              "#bd3786"
             ],
             [
              0.5555555555555556,
              "#d8576b"
             ],
             [
              0.6666666666666666,
              "#ed7953"
             ],
             [
              0.7777777777777778,
              "#fb9f3a"
             ],
             [
              0.8888888888888888,
              "#fdca26"
             ],
             [
              1,
              "#f0f921"
             ]
            ],
            "type": "heatmap"
           }
          ],
          "heatmapgl": [
           {
            "colorbar": {
             "outlinewidth": 0,
             "ticks": ""
            },
            "colorscale": [
             [
              0,
              "#0d0887"
             ],
             [
              0.1111111111111111,
              "#46039f"
             ],
             [
              0.2222222222222222,
              "#7201a8"
             ],
             [
              0.3333333333333333,
              "#9c179e"
             ],
             [
              0.4444444444444444,
              "#bd3786"
             ],
             [
              0.5555555555555556,
              "#d8576b"
             ],
             [
              0.6666666666666666,
              "#ed7953"
             ],
             [
              0.7777777777777778,
              "#fb9f3a"
             ],
             [
              0.8888888888888888,
              "#fdca26"
             ],
             [
              1,
              "#f0f921"
             ]
            ],
            "type": "heatmapgl"
           }
          ],
          "histogram": [
           {
            "marker": {
             "pattern": {
              "fillmode": "overlay",
              "size": 10,
              "solidity": 0.2
             }
            },
            "type": "histogram"
           }
          ],
          "histogram2d": [
           {
            "colorbar": {
             "outlinewidth": 0,
             "ticks": ""
            },
            "colorscale": [
             [
              0,
              "#0d0887"
             ],
             [
              0.1111111111111111,
              "#46039f"
             ],
             [
              0.2222222222222222,
              "#7201a8"
             ],
             [
              0.3333333333333333,
              "#9c179e"
             ],
             [
              0.4444444444444444,
              "#bd3786"
             ],
             [
              0.5555555555555556,
              "#d8576b"
             ],
             [
              0.6666666666666666,
              "#ed7953"
             ],
             [
              0.7777777777777778,
              "#fb9f3a"
             ],
             [
              0.8888888888888888,
              "#fdca26"
             ],
             [
              1,
              "#f0f921"
             ]
            ],
            "type": "histogram2d"
           }
          ],
          "histogram2dcontour": [
           {
            "colorbar": {
             "outlinewidth": 0,
             "ticks": ""
            },
            "colorscale": [
             [
              0,
              "#0d0887"
             ],
             [
              0.1111111111111111,
              "#46039f"
             ],
             [
              0.2222222222222222,
              "#7201a8"
             ],
             [
              0.3333333333333333,
              "#9c179e"
             ],
             [
              0.4444444444444444,
              "#bd3786"
             ],
             [
              0.5555555555555556,
              "#d8576b"
             ],
             [
              0.6666666666666666,
              "#ed7953"
             ],
             [
              0.7777777777777778,
              "#fb9f3a"
             ],
             [
              0.8888888888888888,
              "#fdca26"
             ],
             [
              1,
              "#f0f921"
             ]
            ],
            "type": "histogram2dcontour"
           }
          ],
          "mesh3d": [
           {
            "colorbar": {
             "outlinewidth": 0,
             "ticks": ""
            },
            "type": "mesh3d"
           }
          ],
          "parcoords": [
           {
            "line": {
             "colorbar": {
              "outlinewidth": 0,
              "ticks": ""
             }
            },
            "type": "parcoords"
           }
          ],
          "pie": [
           {
            "automargin": true,
            "type": "pie"
           }
          ],
          "scatter": [
           {
            "fillpattern": {
             "fillmode": "overlay",
             "size": 10,
             "solidity": 0.2
            },
            "type": "scatter"
           }
          ],
          "scatter3d": [
           {
            "line": {
             "colorbar": {
              "outlinewidth": 0,
              "ticks": ""
             }
            },
            "marker": {
             "colorbar": {
              "outlinewidth": 0,
              "ticks": ""
             }
            },
            "type": "scatter3d"
           }
          ],
          "scattercarpet": [
           {
            "marker": {
             "colorbar": {
              "outlinewidth": 0,
              "ticks": ""
             }
            },
            "type": "scattercarpet"
           }
          ],
          "scattergeo": [
           {
            "marker": {
             "colorbar": {
              "outlinewidth": 0,
              "ticks": ""
             }
            },
            "type": "scattergeo"
           }
          ],
          "scattergl": [
           {
            "marker": {
             "colorbar": {
              "outlinewidth": 0,
              "ticks": ""
             }
            },
            "type": "scattergl"
           }
          ],
          "scattermapbox": [
           {
            "marker": {
             "colorbar": {
              "outlinewidth": 0,
              "ticks": ""
             }
            },
            "type": "scattermapbox"
           }
          ],
          "scatterpolar": [
           {
            "marker": {
             "colorbar": {
              "outlinewidth": 0,
              "ticks": ""
             }
            },
            "type": "scatterpolar"
           }
          ],
          "scatterpolargl": [
           {
            "marker": {
             "colorbar": {
              "outlinewidth": 0,
              "ticks": ""
             }
            },
            "type": "scatterpolargl"
           }
          ],
          "scatterternary": [
           {
            "marker": {
             "colorbar": {
              "outlinewidth": 0,
              "ticks": ""
             }
            },
            "type": "scatterternary"
           }
          ],
          "surface": [
           {
            "colorbar": {
             "outlinewidth": 0,
             "ticks": ""
            },
            "colorscale": [
             [
              0,
              "#0d0887"
             ],
             [
              0.1111111111111111,
              "#46039f"
             ],
             [
              0.2222222222222222,
              "#7201a8"
             ],
             [
              0.3333333333333333,
              "#9c179e"
             ],
             [
              0.4444444444444444,
              "#bd3786"
             ],
             [
              0.5555555555555556,
              "#d8576b"
             ],
             [
              0.6666666666666666,
              "#ed7953"
             ],
             [
              0.7777777777777778,
              "#fb9f3a"
             ],
             [
              0.8888888888888888,
              "#fdca26"
             ],
             [
              1,
              "#f0f921"
             ]
            ],
            "type": "surface"
           }
          ],
          "table": [
           {
            "cells": {
             "fill": {
              "color": "#EBF0F8"
             },
             "line": {
              "color": "white"
             }
            },
            "header": {
             "fill": {
              "color": "#C8D4E3"
             },
             "line": {
              "color": "white"
             }
            },
            "type": "table"
           }
          ]
         },
         "layout": {
          "annotationdefaults": {
           "arrowcolor": "#2a3f5f",
           "arrowhead": 0,
           "arrowwidth": 1
          },
          "autotypenumbers": "strict",
          "coloraxis": {
           "colorbar": {
            "outlinewidth": 0,
            "ticks": ""
           }
          },
          "colorscale": {
           "diverging": [
            [
             0,
             "#8e0152"
            ],
            [
             0.1,
             "#c51b7d"
            ],
            [
             0.2,
             "#de77ae"
            ],
            [
             0.3,
             "#f1b6da"
            ],
            [
             0.4,
             "#fde0ef"
            ],
            [
             0.5,
             "#f7f7f7"
            ],
            [
             0.6,
             "#e6f5d0"
            ],
            [
             0.7,
             "#b8e186"
            ],
            [
             0.8,
             "#7fbc41"
            ],
            [
             0.9,
             "#4d9221"
            ],
            [
             1,
             "#276419"
            ]
           ],
           "sequential": [
            [
             0,
             "#0d0887"
            ],
            [
             0.1111111111111111,
             "#46039f"
            ],
            [
             0.2222222222222222,
             "#7201a8"
            ],
            [
             0.3333333333333333,
             "#9c179e"
            ],
            [
             0.4444444444444444,
             "#bd3786"
            ],
            [
             0.5555555555555556,
             "#d8576b"
            ],
            [
             0.6666666666666666,
             "#ed7953"
            ],
            [
             0.7777777777777778,
             "#fb9f3a"
            ],
            [
             0.8888888888888888,
             "#fdca26"
            ],
            [
             1,
             "#f0f921"
            ]
           ],
           "sequentialminus": [
            [
             0,
             "#0d0887"
            ],
            [
             0.1111111111111111,
             "#46039f"
            ],
            [
             0.2222222222222222,
             "#7201a8"
            ],
            [
             0.3333333333333333,
             "#9c179e"
            ],
            [
             0.4444444444444444,
             "#bd3786"
            ],
            [
             0.5555555555555556,
             "#d8576b"
            ],
            [
             0.6666666666666666,
             "#ed7953"
            ],
            [
             0.7777777777777778,
             "#fb9f3a"
            ],
            [
             0.8888888888888888,
             "#fdca26"
            ],
            [
             1,
             "#f0f921"
            ]
           ]
          },
          "colorway": [
           "#636efa",
           "#EF553B",
           "#00cc96",
           "#ab63fa",
           "#FFA15A",
           "#19d3f3",
           "#FF6692",
           "#B6E880",
           "#FF97FF",
           "#FECB52"
          ],
          "font": {
           "color": "#2a3f5f"
          },
          "geo": {
           "bgcolor": "white",
           "lakecolor": "white",
           "landcolor": "#E5ECF6",
           "showlakes": true,
           "showland": true,
           "subunitcolor": "white"
          },
          "hoverlabel": {
           "align": "left"
          },
          "hovermode": "closest",
          "mapbox": {
           "style": "light"
          },
          "paper_bgcolor": "white",
          "plot_bgcolor": "#E5ECF6",
          "polar": {
           "angularaxis": {
            "gridcolor": "white",
            "linecolor": "white",
            "ticks": ""
           },
           "bgcolor": "#E5ECF6",
           "radialaxis": {
            "gridcolor": "white",
            "linecolor": "white",
            "ticks": ""
           }
          },
          "scene": {
           "xaxis": {
            "backgroundcolor": "#E5ECF6",
            "gridcolor": "white",
            "gridwidth": 2,
            "linecolor": "white",
            "showbackground": true,
            "ticks": "",
            "zerolinecolor": "white"
           },
           "yaxis": {
            "backgroundcolor": "#E5ECF6",
            "gridcolor": "white",
            "gridwidth": 2,
            "linecolor": "white",
            "showbackground": true,
            "ticks": "",
            "zerolinecolor": "white"
           },
           "zaxis": {
            "backgroundcolor": "#E5ECF6",
            "gridcolor": "white",
            "gridwidth": 2,
            "linecolor": "white",
            "showbackground": true,
            "ticks": "",
            "zerolinecolor": "white"
           }
          },
          "shapedefaults": {
           "line": {
            "color": "#2a3f5f"
           }
          },
          "ternary": {
           "aaxis": {
            "gridcolor": "white",
            "linecolor": "white",
            "ticks": ""
           },
           "baxis": {
            "gridcolor": "white",
            "linecolor": "white",
            "ticks": ""
           },
           "bgcolor": "#E5ECF6",
           "caxis": {
            "gridcolor": "white",
            "linecolor": "white",
            "ticks": ""
           }
          },
          "title": {
           "x": 0.05
          },
          "xaxis": {
           "automargin": true,
           "gridcolor": "white",
           "linecolor": "white",
           "ticks": "",
           "title": {
            "standoff": 15
           },
           "zerolinecolor": "white",
           "zerolinewidth": 2
          },
          "yaxis": {
           "automargin": true,
           "gridcolor": "white",
           "linecolor": "white",
           "ticks": "",
           "title": {
            "standoff": 15
           },
           "zerolinecolor": "white",
           "zerolinewidth": 2
          }
         }
        },
        "title": {
         "text": "t-SNE Visualization of the Training Data"
        },
        "xaxis": {
         "anchor": "y",
         "domain": [
          0,
          1
         ],
         "title": {
          "text": "TSNE Component 1"
         }
        },
        "yaxis": {
         "anchor": "x",
         "domain": [
          0,
          1
         ],
         "title": {
          "text": "TSNE Component 2"
         }
        }
       }
      }
     },
     "metadata": {},
     "output_type": "display_data"
    }
   ],
   "source": [
    "#Regression\n",
    "import numpy as np\n",
    "import pandas as pd\n",
    "from sklearn.model_selection import train_test_split\n",
    "from sklearn.linear_model import Lasso\n",
    "from sklearn.metrics import mean_squared_error, mean_absolute_error\n",
    "from sklearn.feature_selection import RFECV, SelectKBest, f_classif\n",
    "from imblearn.over_sampling import SMOTE\n",
    "\n",
    "# Load the data\n",
    "file_l = r'\\\\files.ubc.ca\\team\\PPRC\\Camera\\Booth_Results\\finger_tapping_ws\\Experiment2\\csvs\\left_features_extracted_finger_distance.csv'\n",
    "file_r = r'\\\\files.ubc.ca\\team\\PPRC\\Camera\\Booth_Results\\finger_tapping_ws\\Experiment2\\csvs\\right_features_extracted_finger_distance.csv'\n",
    "df = pd.read_csv(file_l)\n",
    "df_r = pd.read_csv(file_r)\n",
    "df = pd.concat([df,df_r])\n",
    "file1 = r'\\\\files.ubc.ca\\team\\PPRC\\Camera\\Booth_Results\\finger_tapping_ws\\Experiment2\\csvs\\combined_updrs.csv'\n",
    "df_updrs = pd.read_csv(file1)\n",
    "df_updrs['file_name'] = df_updrs['ID']+'_finger_tapping_distances.csv'\n",
    "\n",
    "df = pd.merge(df, df_updrs[['file_name','SA']], on='file_name', how='left')\n",
    "#rename column MG to UPDRS\n",
    "df.rename(columns={'SA':'UPDRS'}, inplace=True)\n",
    "# calculate the mean square error and accuracy of each column with respect to the expert count\n",
    "df = df.dropna()\n",
    "\n",
    "\n",
    "# Define the features and target\n",
    "X = df.drop(columns=['file_name','UPDRS'])\n",
    "y = df['UPDRS']\n",
    "\n",
    "# Store the file names for later use in visualization\n",
    "file_names = df['file_name']\n",
    "\n",
    "# Use SelectKBest for feature selection\n",
    "selector = SelectKBest(score_func=f_classif, k=30)\n",
    "X = X.fillna(0)\n",
    "selector.fit(X, y)\n",
    "X_selected = selector.transform(X)\n",
    "\n",
    "# Split the data into training and testing sets\n",
    "X_train, X_test, y_train, y_test, file_names_train, file_names_test = train_test_split(X_selected, y, file_names, test_size=0.15, random_state=22)\n",
    "\n",
    "# Apply SMOTE to the training data (regression version of SMOTE may be more appropriate)\n",
    "smote = SMOTE(sampling_strategy={0:1000,1:400,2:400,3:300,4:300}, random_state=42)\n",
    "X_train_resampled, y_train_resampled = smote.fit_resample(X_train, y_train)\n",
    "from imblearn.over_sampling import SMOTENC\n",
    "from sklearn.utils import class_weight\n",
    "from sklearn.ensemble import GradientBoostingRegressor\n",
    "\n",
    "# Calculate class weights (for use with GradientBoostingRegressor)\n",
    "sample_weights = class_weight.compute_sample_weight(class_weight={0:2.0, 1: 1.0, 2:1.0,3:1.0,4:1.0}, y=y_train_resampled)\n",
    "\n",
    "# Train the Gradient Boosting Regressor with sample weights\n",
    "regressor = GradientBoostingRegressor(n_estimators=300, random_state=42)\n",
    "regressor.fit(X_train_resampled, y_train_resampled, sample_weight=sample_weights)\n",
    "\n",
    "# Make predictions\n",
    "y_pred = regressor.predict(X_test)\n",
    "\n",
    "# Evaluate the regressor\n",
    "mse = mean_squared_error(y_test, y_pred)\n",
    "mae = mean_absolute_error(y_test, y_pred)\n",
    "\n",
    "print(\"Mean Squared Error:\", mse)\n",
    "print(\"Mean Absolute Error:\", mae)\n",
    "#y absolute predicted value\n",
    "\n",
    "accuracy = np.mean(np.abs(y_test - y_pred) < 1)\n",
    "print(\"Accuracy:\", accuracy)\n",
    "\n",
    "\n",
    "import matplotlib.pyplot as plt\n",
    "# Plotting the scatter plot of predicted vs actual values\n",
    "plt.figure(figsize=(10, 6))\n",
    "plt.scatter(y_test, y_pred, alpha=0.3, edgecolor='k', label='Predicted vs Actual')\n",
    "plt.plot([y_test.min(), y_test.max()], [y_test.min(), y_test.max()], 'r--', lw=2, label='Ideal Fit')\n",
    "plt.xlabel('Actual UPDRS')\n",
    "plt.ylabel('Predicted UPDRS')\n",
    "plt.title('Scatter plot of Actual vs Predicted UPDRS')\n",
    "plt.legend()\n",
    "plt.grid(True)\n",
    "plt.show()\n",
    "\n",
    "#TSNE for visualization\n",
    "from sklearn.manifold import TSNE\n",
    "import plotly.express as px\n",
    "# Apply t-SNE to the training data\n",
    "tsne = TSNE(n_components=2, random_state=42)\n",
    "X_train_tsne = tsne.fit_transform(X)\n",
    "\n",
    "# Create a DataFrame for visualization\n",
    "df_tsne_train = pd.DataFrame(X_train_tsne, columns=['TSNE Component 1', 'TSNE Component 2'])\n",
    "df_tsne_train['label'] = y.to_list()\n",
    "df_tsne_train['file_name'] = file_names.to_list()\n",
    "\n",
    "# Plot t-SNE results for the training data\n",
    "fig_train = px.scatter(df_tsne_train, x='TSNE Component 1', y='TSNE Component 2', color='label', hover_data=['file_name'],\n",
    "                       title='t-SNE Visualization of the Training Data')\n",
    "fig_train.show()\n",
    "\n",
    "\n"
   ]
  },
  {
   "cell_type": "code",
   "execution_count": 26,
   "metadata": {},
   "outputs": [
    {
     "name": "stdout",
     "output_type": "stream",
     "text": [
      "Model and selected features loaded successfully\n",
      "Selected features: Index(['taps', 'interval_variation', 'task_duration', 'interval_mse',\n",
      "       'Finger Normalized Distance_mean_amplitude',\n",
      "       'Finger Normalized Distance_halts_and_hesitations',\n",
      "       'Finger Normalized Distance_peak_amplitude',\n",
      "       'Finger Normalized Distance_frequency_consistency',\n",
      "       'Finger Distance_mean_amplitude',\n",
      "       'Finger Distance_halts_and_hesitations', 'Finger Distance_consistency',\n",
      "       'Finger Distance_peak_amplitude',\n",
      "       'Finger Distance_frequency_consistency', 'Finger Distance_power',\n",
      "       'IN_AutoMutualInfoStats_40_gaussian_fmmi',\n",
      "       'FC_LocalSimple_mean1_tauresrat', 'SB_BinaryStats_diff_longstretch0',\n",
      "       'Angular Distance_mean_amplitude',\n",
      "       'Angular Distance_halts_and_hesitations',\n",
      "       'Angular Distance_consistency', 'Angular Distance_peak_frequency',\n",
      "       'Angular Distance_peak_amplitude',\n",
      "       'Angular Distance_frequency_consistency', 'Angular Distance_power',\n",
      "       'wrist_total_distance'],\n",
      "      dtype='object')\n"
     ]
    }
   ],
   "source": [
    "#Load Model and save results as new L file\n",
    "import joblib\n",
    "\n",
    "model_filename = r'\\\\files.ubc.ca\\team\\PPRC\\Camera\\Booth_Results\\finger_tapping_ws\\Experiment2\\models\\RFC_4cl_model_v1.pkl'\n",
    "\n",
    "# Load the model and selected features from the file\n",
    "loaded_data = joblib.load(model_filename)\n",
    "loaded_model = loaded_data['model']\n",
    "selected_feature_names = loaded_data['selected_features']\n",
    "\n",
    "print(\"Model and selected features loaded successfully\")\n",
    "print(f\"Selected features: {selected_feature_names}\")\n",
    "\n",
    "# You can now use loaded_regressor and the selected features as needed\n",
    "file1 = r'\\\\files.ubc.ca\\team\\PPRC\\Camera\\Booth_Results\\finger_tapping_ws\\Experiment2\\csvs\\combined_updrs.csv'\n",
    "df_updrs = pd.read_csv(file1)\n",
    "df_updrs['file_name'] = df_updrs['ID']+'_finger_tapping_distances.csv'\n",
    "df_updrs.drop(columns=['ID'], inplace=True)\n",
    "\n"
   ]
  },
  {
   "cell_type": "code",
   "execution_count": null,
   "metadata": {},
   "outputs": [],
   "source": [
    "#combine L_file wth classifier and severiy score\n",
    "import pandas as pd\n",
    "import numpy as np\n",
    "\n",
    "\n",
    "df_severity = pd.read_csv(r'\\\\files.ubc.ca\\team\\PPRC\\Camera\\Booth_Results\\finger_tapping_ws\\Experiment2\\csvs\\predicted_labels_severity.csv')\n",
    "df_classifier = pd.read_csv('complete_predicted_labels_loocv.csv').set_index('File_Name')\n",
    "df_L = df_updrs.copy()\n",
    "#drop duplicate file_name where other values are not available\n",
    "df_L.drop_duplicates(subset='file_name', inplace=True)\n",
    "df_L = df_L.set_index('file_name')\n",
    "\n",
    "df_L['classifier'] = df_classifier['Predicted_Label']\n",
    "df_severity['file_name'] = df_severity['Patient_ID']+'_finger_tapping_distances.csv'\n",
    "df_severity = df_severity.drop(columns=['Patient_ID']).set_index('file_name')\n",
    "\n",
    "df_L = df_L.join(df_severity)\n",
    "df_L.rename(columns={'Predicted_Label':'severity model'}, inplace=True)\n",
    "df_L['severity model'] = df_L['severity model'].round(0)\n",
    "df_L.to_csv(L_file, index=True)"
   ]
  },
  {
   "cell_type": "code",
   "execution_count": 68,
   "metadata": {},
   "outputs": [
    {
     "name": "stderr",
     "output_type": "stream",
     "text": [
      "INFO:root:Computing O...\n",
      "INFO:root:Estimating \\mu...\n"
     ]
    },
    {
     "name": "stdout",
     "output_type": "stream",
     "text": [
      "nan\n"
     ]
    },
    {
     "name": "stderr",
     "output_type": "stream",
     "text": [
      "  0%|          | 0/100 [00:00<?, ?epoch/s]INFO:root:[0 epochs]: TRAIN:[loss=1.314]\n",
      "100%|██████████| 100/100 [00:00<00:00, 1043.57epoch/s]\n",
      "INFO:root:Finished Training\n"
     ]
    },
    {
     "data": {
      "image/png": "[encoded data removed]",
      "text/plain": [
       "<Figure size 1584x1296 with 2 Axes>"
      ]
     },
     "metadata": {
      "needs_background": "light"
     },
     "output_type": "display_data"
    }
   ],
   "source": [
    "from snorkel.labeling.model.label_model import LabelModel\n",
    "import matplotlib.pyplot as plt\n",
    "import seaborn as sns\n",
    "import matplotlib.patches as mpatches\n",
    "from matplotlib.colors import LinearSegmentedColormap\n",
    "\n",
    "def run_weak_supervision_new(L_train):\n",
    "\n",
    "    # Train the label model\n",
    "    label_model = LabelModel(cardinality=5, verbose=True)\n",
    "    #L_train to array\n",
    "    L_train = L_train.to_numpy()\n",
    "    print(L_train.max())\n",
    "    label_model.fit(L_train=L_train, n_epochs=100, log_freq=100, seed=12)\n",
    "\n",
    "    \n",
    "    # Predict on the training set\n",
    "    preds_train, probs = label_model.predict(L=L_train, return_probs=True)\n",
    "    \n",
    "    return label_model, preds_train, probs\n",
    "\n",
    "\n",
    "def draw_LFs(combined_df):\n",
    "    # Define the custom colors: blue for 0, the gradient for intermediate values, and dark red for 4\n",
    "    colors = [\"blue\", \"yellow\", \"orange\", \"red\", \"darkred\"]\n",
    "    \n",
    "    # Create a custom colormap that smoothly transitions between these colors\n",
    "    custom_cmap = LinearSegmentedColormap.from_list(\"custom_cmap\", colors, N=256)\n",
    "\n",
    "    # Create a figure with a specified aspect ratio to ensure square cells\n",
    "    plt.figure(figsize=(22, 18))\n",
    "    \n",
    "    # Draw the heatmap with the custom colormap\n",
    "    ax = sns.heatmap(combined_df, cmap=custom_cmap, cbar=True, vmin=0, vmax=4, yticklabels=combined_df.index, square=True, linewidths=0.5, linecolor='black')\n",
    "    plt.title('Heatmap of Labeling Functions, Probabilistic Label, and y_pred')\n",
    "\n",
    "    # Customize the color bar to show ticks only at integer values\n",
    "    cbar = ax.collections[0].colorbar\n",
    "    cbar.set_ticks([0, 1, 2, 3, 4])\n",
    "    cbar.set_ticklabels([0, 1, 2, 3, 4])\n",
    "\n",
    "    # Customize the x-axis tick labels: color blue for labels starting with '07', red for others\n",
    "    for tick_label in ax.get_yticklabels():\n",
    "        if tick_label.get_text().startswith('07'):\n",
    "            tick_label.set_color('blue')\n",
    "        else:\n",
    "            tick_label.set_color('red')\n",
    "\n",
    "    # Draw the grid\n",
    "    ax.set_xticks([x + 0.5 for x in ax.get_xticks()], minor=True)\n",
    "    ax.set_yticks([y + 0.5 for y in ax.get_yticks()], minor=True)\n",
    "    ax.grid(which='minor', color='gray', linestyle='-', linewidth=1)\n",
    "\n",
    "    # Show the plot with the customized color bar\n",
    "    plt.show()\n",
    "\n",
    "\n",
    "\n",
    "#load data\n",
    "L_df = pd.read_csv(L_file)\n",
    "L_df.set_index('file_name', inplace=True)\n",
    "\n",
    "\n",
    "label_model, preds_train, probs = run_weak_supervision_new(L_df)\n",
    "combined_df = L_df.copy()\n",
    "combined_df['Probability'] = (probs*[0,1,2,3,4]).sum(axis=1)\n",
    "combined_df['Prediction'] = preds_train\n",
    "#get ID from file_name\n",
    "combined_df['ID'] = combined_df.index.str.split('_').str[0]+'_'+combined_df.index.str.split('_').str[1]+'_'+combined_df.index.str.split('_').str[2]\n",
    "combined_df.set_index('ID', inplace=True)\n",
    "\n",
    "combined_df.rename(columns={'classifier':'Our Random Forest','severity model': 'LightGBM Model'}, inplace=True)\n",
    "#fill -1 with null\n",
    "combined_df.replace(-1, np.nan, inplace=True)\n",
    "\n",
    "draw_LFs(combined_df.iloc[50:70, :])"
   ]
  },
  {
   "cell_type": "code",
   "execution_count": 71,
   "metadata": {},
   "outputs": [],
   "source": [
    "#save combined_df\n",
    "combined_df.to_csv(r'\\\\files.ubc.ca\\team\\PPRC\\Camera\\Booth_Results\\finger_tapping_ws\\Experiment2\\csvs\\weak_supervision_results.csv', index=True)"
   ]
  },
  {
   "cell_type": "code",
   "execution_count": 70,
   "metadata": {},
   "outputs": [
    {
     "data": {
      "image/png": "[encoded data removed]",
      "text/plain": [
       "<Figure size 720x576 with 2 Axes>"
      ]
     },
     "metadata": {
      "needs_background": "light"
     },
     "output_type": "display_data"
    }
   ],
   "source": [
    "#generate the correlation matrix between the raters from the combined_updrs drop -1\n",
    "\n",
    "combined_updrs = combined_df.replace(-1, np.nan)\n",
    "\n",
    "correlation_matrix = combined_updrs.corr()\n",
    "plt.figure(figsize=(10, 8))\n",
    "sns.heatmap(correlation_matrix, annot=True, cmap='coolwarm', fmt=\".2f\")\n",
    "plt.title('Correlation Matrix of UPDRS Scores Between Raters')\n",
    "plt.show()"
   ]
  },
  {
   "cell_type": "code",
   "execution_count": 7,
   "metadata": {},
   "outputs": [
    {
     "name": "stderr",
     "output_type": "stream",
     "text": [
      "c:\\Users\\atefe\\.conda\\envs\\assessment\\Lib\\site-packages\\sklearn\\feature_selection\\_univariate_selection.py:112: UserWarning: Features [19] are constant.\n",
      "  warnings.warn(\"Features %s are constant.\" % constant_features_idx, UserWarning)\n",
      "c:\\Users\\atefe\\.conda\\envs\\assessment\\Lib\\site-packages\\sklearn\\feature_selection\\_univariate_selection.py:113: RuntimeWarning: invalid value encountered in divide\n",
      "  f = msb / msw\n"
     ]
    },
    {
     "name": "stdout",
     "output_type": "stream",
     "text": [
      "Classifier Accuracy (Random Forest): 0.6235294117647059\n",
      "Mean Squared Error (Regressor): 0.7051022222222223\n",
      "Mean Absolute Error (Regressor): 0.538313725490196\n",
      "Accuracy: 0.6235294117647059\n"
     ]
    },
    {
     "data": {
      "image/png": "[encoded data removed]",
      "text/plain": [
       "<Figure size 1000x600 with 1 Axes>"
      ]
     },
     "metadata": {},
     "output_type": "display_data"
    },
    {
     "data": {
      "image/png": "[encoded data removed]",
      "text/plain": [
       "<Figure size 800x600 with 2 Axes>"
      ]
     },
     "metadata": {},
     "output_type": "display_data"
    }
   ],
   "source": [
    "import numpy as np\n",
    "import pandas as pd\n",
    "from sklearn.model_selection import train_test_split\n",
    "from sklearn.ensemble import RandomForestClassifier, GradientBoostingRegressor\n",
    "from sklearn.metrics import mean_squared_error, mean_absolute_error, confusion_matrix, accuracy_score\n",
    "from sklearn.feature_selection import SelectKBest, f_classif\n",
    "from imblearn.over_sampling import SMOTE\n",
    "import matplotlib.pyplot as plt\n",
    "import seaborn as sns\n",
    "from sklearn.manifold import TSNE\n",
    "import plotly.express as px\n",
    "\n",
    "# Load the data\n",
    "# file_l = r'\\\\files.ubc.ca\\team\\PPRC\\Camera\\Booth_Results\\finger_tapping_ws\\Experiment2\\csvs\\left_features_extracted_finger_distance.csv'\n",
    "# file_r = r'\\\\files.ubc.ca\\team\\PPRC\\Camera\\Booth_Results\\finger_tapping_ws\\Experiment2\\csvs\\right_features_extracted_finger_distance.csv'\n",
    "file_l = r'\\\\files.ubc.ca\\team\\PPRC\\Camera\\Booth_Processed\\finger_tapping\\left\\csvs\\left_features.csv'\n",
    "file_r = r'\\\\files.ubc.ca\\team\\PPRC\\Camera\\Booth_Processed\\finger_tapping\\right\\csvs\\right_features.csv'\n",
    "df = pd.read_csv(file_l)\n",
    "df_r = pd.read_csv(file_r)\n",
    "df = pd.concat([df, df_r])\n",
    "combined_df = pd.read_csv(r'\\\\files.ubc.ca\\team\\PPRC\\Camera\\Booth_Results\\finger_tapping_ws\\Experiment2\\csvs\\weak_supervision_results.csv')\n",
    "combined_df.set_index('ID', inplace=True)\n",
    "labeled_df = combined_df.copy()\n",
    "labeled_df['file_name'] = labeled_df.index + '_finger_tapping_distances.csv'\n",
    "\n",
    "df = pd.merge(df, labeled_df[['file_name', 'Prediction']], on='file_name', how='left')\n",
    "df = df.dropna()\n",
    "\n",
    "# Define the features and target\n",
    "X = df.drop(columns=['file_name', 'Prediction'])\n",
    "y = df['Prediction']\n",
    "file_names = df['file_name']\n",
    "#Scale the data\n",
    "from sklearn.preprocessing import StandardScaler\n",
    "\n",
    "\n",
    "\n",
    "# Feature selection\n",
    "selector = SelectKBest(score_func=f_classif, k=22)\n",
    "#X = X.fillna(0)\n",
    "selector.fit(X, y)\n",
    "X_selected = selector.transform(X)\n",
    "scaler = StandardScaler()\n",
    "X_selected = scaler.fit_transform(X_selected)\n",
    "\n",
    "# Split the data into training and testing sets\n",
    "X_train, X_test, y_train, y_test, file_names_train, file_names_test = train_test_split(X_selected, y, file_names, test_size=0.2, random_state=42)\n",
    "\n",
    "# Apply SMOTE to balance the classes in the training data\n",
    "smote = SMOTE(random_state=42, k_neighbors=1, sampling_strategy={0: 1000, 1: 400, 2: 400, 3: 300, 4: 300})\n",
    "X_train_resampled, y_train_resampled = smote.fit_resample(X_train, y_train)\n",
    "\n",
    "# First Stage: Train the Random Forest Classifier\n",
    "rf_classifier = RandomForestClassifier(n_estimators=300, random_state=42,criterion='gini')\n",
    "rf_classifier.fit(X_train_resampled, y_train_resampled)\n",
    "\n",
    "# Predict using the classifier\n",
    "y_pred_class = rf_classifier.predict(X_test)\n",
    "\n",
    "# Calculate accuracy of the classifier\n",
    "classifier_accuracy = accuracy_score(y_test, y_pred_class)\n",
    "print(\"Classifier Accuracy (Random Forest):\", classifier_accuracy)\n",
    "\n",
    "# Second Stage: Apply the regressor only on predictions greater than 1\n",
    "X_test_regressor = X_test[y_pred_class >= 1]\n",
    "y_test_regressor = y_test[y_pred_class >= 1]\n",
    "\n",
    "from sklearn.ensemble import RandomForestRegressor\n",
    "regressor = RandomForestRegressor(n_estimators=300, random_state=21, max_depth=8, criterion='absolute_error')\n",
    "\n",
    "#regressor = GradientBoostingRegressor(n_estimators=300, random_state=21)\n",
    "regressor.fit(X_train, y_train)\n",
    "y_pred_regressor = regressor.predict(X_test_regressor)\n",
    "\n",
    "\n",
    "# Combine the predictions for values <= 1 and > 1\n",
    "y_test_combined = np.concatenate((y_test_regressor, y_test[y_pred_class < 1]))\n",
    "y_pred_combined = np.concatenate((y_pred_regressor, y_pred_class[y_pred_class < 1]))\n",
    "# Evaluate the regressor\n",
    "mse = mean_squared_error(y_test_combined, y_pred_combined)\n",
    "mae = mean_absolute_error(y_test_combined, y_pred_combined)\n",
    "\n",
    "print(\"Mean Squared Error (Regressor):\", mse)\n",
    "print(\"Mean Absolute Error (Regressor):\", mae)\n",
    "accuracy = np.mean(y_test_combined == np.round(y_pred_combined))\n",
    "print(\"Accuracy:\", accuracy)\n",
    "# Scatter plot of predicted vs actual values\n",
    "plt.figure(figsize=(10, 6))\n",
    "plt.scatter(y_test_combined, y_pred_combined, alpha=0.3, edgecolor='k', label='Predicted vs Actual')\n",
    "plt.plot([y_test_combined.min(), y_test_combined.max()], [y_test_combined.min(), y_test_combined.max()], 'r--', lw=2, label='Ideal Fit')\n",
    "plt.xlabel('Actual UPDRS')\n",
    "plt.ylabel('Predicted UPDRS')\n",
    "plt.title('Scatter plot of Actual vs Predicted UPDRS (for severity > 1)')\n",
    "plt.legend()\n",
    "plt.grid(True)\n",
    "plt.show()\n",
    "\n",
    "# Confusion matrix for the classifier\n",
    "cm_classifier = confusion_matrix(y_test, y_pred_class)\n",
    "plt.figure(figsize=(8, 6))\n",
    "sns.heatmap(cm_classifier, annot=True, cmap='Blues', fmt='g')\n",
    "plt.xlabel('Predicted')\n",
    "plt.ylabel('Actual')\n",
    "plt.title('Confusion Matrix (Random Forest Classifier)')\n",
    "plt.show()\n",
    "\n",
    "\n",
    "\n",
    "\n"
   ]
  },
  {
   "cell_type": "code",
   "execution_count": 8,
   "metadata": {},
   "outputs": [
    {
     "data": {
      "application/vnd.plotly.v1+json": {
       "config": {
        "plotlyServerURL": "https://plot.ly"
       },
       "data": [
        {
         "customdata": [
          [
           "06238_20240813_left_finger_tapping_distances.csv"
          ],
          [
           "06509_20240819_left_finger_tapping_distances.csv"
          ],
          [
           "06703_20240813_left_finger_tapping_distances.csv"
          ],
          [
           "06846_20240819_left_finger_tapping_distances.csv"
          ],
          [
           "06961_20240813_left_finger_tapping_distances.csv"
          ],
          [
           "07137_20240611_left_finger_tapping_distances.csv"
          ],
          [
           "07152_20240611_left_finger_tapping_distances.csv"
          ],
          [
           "07155_20240529_left_finger_tapping_distances.csv"
          ],
          [
           "07182_20240213_left_finger_tapping_distances.csv"
          ],
          [
           "07198_20240717_left_finger_tapping_distances.csv"
          ],
          [
           "07225_20240206_left_finger_tapping_distances.csv"
          ],
          [
           "07242_20240716_left_finger_tapping_distances.csv"
          ],
          [
           "07284_20240521_left_finger_tapping_distances.csv"
          ],
          [
           "07288_20240514_left_finger_tapping_distances.csv"
          ],
          [
           "07334_20240604_left_finger_tapping_distances.csv"
          ],
          [
           "07415_20240215_left_finger_tapping_distances.csv"
          ],
          [
           "07417_20240319_left_finger_tapping_distances.csv"
          ],
          [
           "07452_20240206_left_finger_tapping_distances.csv"
          ],
          [
           "07477_20240730_left_finger_tapping_distances.csv"
          ],
          [
           "07488_20240208_left_finger_tapping_distances.csv"
          ],
          [
           "07501_20240626_left_finger_tapping_distances.csv"
          ],
          [
           "07518_20240430_left_finger_tapping_distances.csv"
          ],
          [
           "07536_20240603_left_finger_tapping_distances.csv"
          ],
          [
           "07555_20240716_left_finger_tapping_distances.csv"
          ],
          [
           "07566_20240521_left_finger_tapping_distances.csv"
          ],
          [
           "07571_20240123_left_finger_tapping_distances.csv"
          ],
          [
           "07578_20240321_left_finger_tapping_distances.csv"
          ],
          [
           "07580_20240131_left_finger_tapping_distances.csv"
          ],
          [
           "07587_20240528_left_finger_tapping_distances.csv"
          ],
          [
           "07597_20240328_left_finger_tapping_distances.csv"
          ],
          [
           "07609_20240130_left_finger_tapping_distances.csv"
          ],
          [
           "07610_20231205_left_finger_tapping_distances.csv"
          ],
          [
           "07628_20240215_left_finger_tapping_distances.csv"
          ],
          [
           "07629_20240109_left_finger_tapping_distances.csv"
          ],
          [
           "07634_20240508_left_finger_tapping_distances.csv"
          ],
          [
           "07640_20240208_left_finger_tapping_distances.csv"
          ],
          [
           "07677_20240527_left_finger_tapping_distances.csv"
          ],
          [
           "07681_20240603_left_finger_tapping_distances.csv"
          ],
          [
           "07706_20240213_left_finger_tapping_distances.csv"
          ],
          [
           "07709_20240626_left_finger_tapping_distances.csv"
          ],
          [
           "07727_20240604_left_finger_tapping_distances.csv"
          ],
          [
           "07735_20240123_left_finger_tapping_distances.csv"
          ],
          [
           "07755_20240513_left_finger_tapping_distances.csv"
          ],
          [
           "07762_20240618_left_finger_tapping_distances.csv"
          ],
          [
           "07771_20240610_left_finger_tapping_distances.csv"
          ],
          [
           "07776_20240625_left_finger_tapping_distances.csv"
          ],
          [
           "07795_20240513_left_finger_tapping_distances.csv"
          ],
          [
           "07814_20240507_left_finger_tapping_distances.csv"
          ],
          [
           "07819_20240522_left_finger_tapping_distances.csv"
          ],
          [
           "07822_20240214_left_finger_tapping_distances.csv"
          ],
          [
           "07852_20240213_left_finger_tapping_distances.csv"
          ],
          [
           "07855_20240528_left_finger_tapping_distances.csv"
          ],
          [
           "07884_20240709_left_finger_tapping_distances.csv"
          ],
          [
           "07888_20240215_left_finger_tapping_distances.csv"
          ],
          [
           "07985_20240307_left_finger_tapping_distances.csv"
          ],
          [
           "07987_20240423_left_finger_tapping_distances.csv"
          ],
          [
           "10039_20240702_left_finger_tapping_distances.csv"
          ],
          [
           "13390_20240716_left_finger_tapping_distances.csv"
          ],
          [
           "13484_20240716_left_finger_tapping_distances.csv"
          ],
          [
           "14555_20231107_left_finger_tapping_distances.csv"
          ],
          [
           "15377_20230719_left_finger_tapping_distances.csv"
          ],
          [
           "15813_20240123_left_finger_tapping_distances.csv"
          ],
          [
           "16219_20230725_left_finger_tapping_distances.csv"
          ],
          [
           "16827_20230523_left_finger_tapping_distances.csv"
          ],
          [
           "16883_20230606_left_finger_tapping_distances.csv"
          ],
          [
           "17000_20230606_left_finger_tapping_distances.csv"
          ],
          [
           "17200_20240507_left_finger_tapping_distances.csv"
          ],
          [
           "17202_20230718_left_finger_tapping_distances.csv"
          ],
          [
           "17434_20230613_left_finger_tapping_distances.csv"
          ],
          [
           "17599_20230418_left_finger_tapping_distances.csv"
          ],
          [
           "17980_20240109_left_finger_tapping_distances.csv"
          ],
          [
           "18198_20230726_left_finger_tapping_distances.csv"
          ],
          [
           "18317_20230919_left_finger_tapping_distances.csv"
          ],
          [
           "18372_20240603_left_finger_tapping_distances.csv"
          ],
          [
           "19015_20230627_left_finger_tapping_distances.csv"
          ],
          [
           "19091_20231127_left_finger_tapping_distances.csv"
          ],
          [
           "19124_20230628_left_finger_tapping_distances.csv"
          ],
          [
           "20959_20231003_left_finger_tapping_distances.csv"
          ],
          [
           "21128_20240716_left_finger_tapping_distances.csv"
          ],
          [
           "21401_20230627_left_finger_tapping_distances.csv"
          ],
          [
           "21696_20230411_left_finger_tapping_distances.csv"
          ],
          [
           "22178_20240528_left_finger_tapping_distances.csv"
          ],
          [
           "22224_20240625_left_finger_tapping_distances.csv"
          ],
          [
           "22227_20240708_left_finger_tapping_distances.csv"
          ],
          [
           "23160_20230613_left_finger_tapping_distances.csv"
          ],
          [
           "23191_20240508_left_finger_tapping_distances.csv"
          ],
          [
           "23284_20230620_left_finger_tapping_distances.csv"
          ],
          [
           "23284_20240604_left_finger_tapping_distances.csv"
          ],
          [
           "24192_20230605_left_finger_tapping_distances.csv"
          ],
          [
           "24318_20230613_left_finger_tapping_distances.csv"
          ],
          [
           "24352_20230621_left_finger_tapping_distances.csv"
          ],
          [
           "24352_20240730_left_finger_tapping_distances.csv"
          ],
          [
           "24475_20230925_left_finger_tapping_distances.csv"
          ],
          [
           "24601_20240514_left_finger_tapping_distances.csv"
          ],
          [
           "24622_20230530_left_finger_tapping_distances.csv"
          ],
          [
           "24757_20230523_left_finger_tapping_distances.csv"
          ],
          [
           "24798_20240704_left_finger_tapping_distances.csv"
          ],
          [
           "24860_20231212_left_finger_tapping_distances.csv"
          ],
          [
           "24889_20230724_left_finger_tapping_distances.csv"
          ],
          [
           "25260_20240116_left_finger_tapping_distances.csv"
          ],
          [
           "25412_20240717_left_finger_tapping_distances.csv"
          ],
          [
           "25439_20231205_left_finger_tapping_distances.csv"
          ],
          [
           "25533_20230628_left_finger_tapping_distances.csv"
          ],
          [
           "25793_20240603_left_finger_tapping_distances.csv"
          ],
          [
           "25934_20231016_left_finger_tapping_distances.csv"
          ],
          [
           "25957_20240507_left_finger_tapping_distances.csv"
          ],
          [
           "26145_20240514_left_finger_tapping_distances.csv"
          ],
          [
           "26326_20240729_left_finger_tapping_distances.csv"
          ],
          [
           "26407_20240528_left_finger_tapping_distances.csv"
          ],
          [
           "26692_20230627_left_finger_tapping_distances.csv"
          ],
          [
           "27123_20230606_left_finger_tapping_distances.csv"
          ],
          [
           "27423_20240603_left_finger_tapping_distances.csv"
          ],
          [
           "27425_20230918_left_finger_tapping_distances.csv"
          ],
          [
           "28225_20240704_left_finger_tapping_distances.csv"
          ],
          [
           "28321_20240513_left_finger_tapping_distances.csv"
          ],
          [
           "28350_20240515_left_finger_tapping_distances.csv"
          ],
          [
           "28408_20240617_left_finger_tapping_distances.csv"
          ],
          [
           "28411_20231023_left_finger_tapping_distances.csv"
          ],
          [
           "28550_20240115_left_finger_tapping_distances.csv"
          ],
          [
           "28615_20230523_left_finger_tapping_distances.csv"
          ],
          [
           "28630_20240521_left_finger_tapping_distances.csv"
          ],
          [
           "28637_20230912_left_finger_tapping_distances.csv"
          ],
          [
           "28641_20230717_left_finger_tapping_distances.csv"
          ],
          [
           "28715_20240611_left_finger_tapping_distances.csv"
          ],
          [
           "28726_20230425_left_finger_tapping_distances.csv"
          ],
          [
           "28731_20230724_left_finger_tapping_distances.csv"
          ],
          [
           "28813_20230823_left_finger_tapping_distances.csv"
          ],
          [
           "29079_20240513_left_finger_tapping_distances.csv"
          ],
          [
           "29157_20230531_left_finger_tapping_distances.csv"
          ],
          [
           "29377_20230314_left_finger_tapping_distances.csv"
          ],
          [
           "29570_20230619_left_finger_tapping_distances.csv"
          ],
          [
           "29880_20230314_left_finger_tapping_distances.csv"
          ],
          [
           "30009_20240515_left_finger_tapping_distances.csv"
          ],
          [
           "30148_20230809_left_finger_tapping_distances.csv"
          ],
          [
           "30201_20240715_left_finger_tapping_distances.csv"
          ],
          [
           "30279_20240527_left_finger_tapping_distances.csv"
          ],
          [
           "30414_20240522_left_finger_tapping_distances.csv"
          ],
          [
           "30593_20230926_left_finger_tapping_distances.csv"
          ],
          [
           "30893_20230717_left_finger_tapping_distances.csv"
          ],
          [
           "30961_20230913_left_finger_tapping_distances.csv"
          ],
          [
           "30982_20230719_left_finger_tapping_distances.csv"
          ],
          [
           "31092_20230821_left_finger_tapping_distances.csv"
          ],
          [
           "31100_20240610_left_finger_tapping_distances.csv"
          ],
          [
           "31182_20240513_left_finger_tapping_distances.csv"
          ],
          [
           "31231_20240402_left_finger_tapping_distances.csv"
          ],
          [
           "31240_20230719_left_finger_tapping_distances.csv"
          ],
          [
           "31318_20231120_left_finger_tapping_distances.csv"
          ],
          [
           "31319_20230712_left_finger_tapping_distances.csv"
          ],
          [
           "31457_20240626_left_finger_tapping_distances.csv"
          ],
          [
           "31769_20230619_left_finger_tapping_distances.csv"
          ],
          [
           "31848_20230717_left_finger_tapping_distances.csv"
          ],
          [
           "31961_20230605_left_finger_tapping_distances.csv"
          ],
          [
           "32160_20230717_left_finger_tapping_distances.csv"
          ],
          [
           "32200_20240605_left_finger_tapping_distances.csv"
          ],
          [
           "32282_20230612_left_finger_tapping_distances.csv"
          ],
          [
           "32424_20240710_left_finger_tapping_distances.csv"
          ],
          [
           "32519_20230314_left_finger_tapping_distances.csv"
          ],
          [
           "32541_20240529_left_finger_tapping_distances.csv"
          ],
          [
           "32594_20240429_left_finger_tapping_distances.csv"
          ],
          [
           "32853_20231106_left_finger_tapping_distances.csv"
          ],
          [
           "33023_20230719_left_finger_tapping_distances.csv"
          ],
          [
           "33151_20231016_left_finger_tapping_distances.csv"
          ],
          [
           "33164_20230606_left_finger_tapping_distances.csv"
          ],
          [
           "33164_20240604_left_finger_tapping_distances.csv"
          ],
          [
           "33430_20240529_left_finger_tapping_distances.csv"
          ],
          [
           "33527_20240528_left_finger_tapping_distances.csv"
          ],
          [
           "33661_20240731_left_finger_tapping_distances.csv"
          ],
          [
           "33749_20230613_left_finger_tapping_distances.csv"
          ],
          [
           "33927_20230516_left_finger_tapping_distances.csv"
          ],
          [
           "34142_20230718_left_finger_tapping_distances.csv"
          ],
          [
           "34417_20240307_left_finger_tapping_distances.csv"
          ],
          [
           "34492_20230411_left_finger_tapping_distances.csv"
          ],
          [
           "34509_20230913_left_finger_tapping_distances.csv"
          ],
          [
           "34914_20230925_left_finger_tapping_distances.csv"
          ],
          [
           "34965_20230815_left_finger_tapping_distances.csv"
          ],
          [
           "35080_20240716_left_finger_tapping_distances.csv"
          ],
          [
           "35154_20240611_left_finger_tapping_distances.csv"
          ],
          [
           "35246_20230724_left_finger_tapping_distances.csv"
          ],
          [
           "35623_20230314_left_finger_tapping_distances.csv"
          ],
          [
           "35747_20230725_left_finger_tapping_distances.csv"
          ],
          [
           "35816_20240524_left_finger_tapping_distances.csv"
          ],
          [
           "36220_20230724_left_finger_tapping_distances.csv"
          ],
          [
           "36297_20230411_left_finger_tapping_distances.csv"
          ],
          [
           "36407_20230612_left_finger_tapping_distances.csv"
          ],
          [
           "36436_20230815_left_finger_tapping_distances.csv"
          ],
          [
           "36532_20230822_left_finger_tapping_distances.csv"
          ],
          [
           "36564_20240123_left_finger_tapping_distances.csv"
          ],
          [
           "36581_20231121_left_finger_tapping_distances.csv"
          ],
          [
           "36660_20231205_left_finger_tapping_distances.csv"
          ],
          [
           "36880_20240709_left_finger_tapping_distances.csv"
          ],
          [
           "38046_20240527_left_finger_tapping_distances.csv"
          ],
          [
           "38050_20230918_left_finger_tapping_distances.csv"
          ],
          [
           "38073_20240513_left_finger_tapping_distances.csv"
          ],
          [
           "38100_20230725_left_finger_tapping_distances.csv"
          ],
          [
           "38141_20240610_left_finger_tapping_distances.csv"
          ],
          [
           "38210_20240610_left_finger_tapping_distances.csv"
          ],
          [
           "38215_20230606_left_finger_tapping_distances.csv"
          ],
          [
           "38255_20230927_left_finger_tapping_distances.csv"
          ],
          [
           "38256_20230823_left_finger_tapping_distances.csv"
          ],
          [
           "38519_20230605_left_finger_tapping_distances.csv"
          ],
          [
           "38519_20240624_left_finger_tapping_distances.csv"
          ],
          [
           "38902_20231204_left_finger_tapping_distances.csv"
          ],
          [
           "39200_20240404_left_finger_tapping_distances.csv"
          ],
          [
           "39274_20230718_left_finger_tapping_distances.csv"
          ],
          [
           "39528_20230725_left_finger_tapping_distances.csv"
          ],
          [
           "39685_20240307_left_finger_tapping_distances.csv"
          ],
          [
           "39686_20240703_left_finger_tapping_distances.csv"
          ],
          [
           "39712_20240618_left_finger_tapping_distances.csv"
          ],
          [
           "40046_20240611_left_finger_tapping_distances.csv"
          ],
          [
           "40613_20240514_left_finger_tapping_distances.csv"
          ],
          [
           "40771_20240807_left_finger_tapping_distances.csv"
          ],
          [
           "06238_20240813_right_finger_tapping_distances.csv"
          ],
          [
           "06509_20240819_right_finger_tapping_distances.csv"
          ],
          [
           "06703_20240813_right_finger_tapping_distances.csv"
          ],
          [
           "06846_20240819_right_finger_tapping_distances.csv"
          ],
          [
           "06961_20240813_right_finger_tapping_distances.csv"
          ],
          [
           "07137_20240611_right_finger_tapping_distances.csv"
          ],
          [
           "07152_20240611_right_finger_tapping_distances.csv"
          ],
          [
           "07155_20240529_right_finger_tapping_distances.csv"
          ],
          [
           "07182_20240213_right_finger_tapping_distances.csv"
          ],
          [
           "07198_20240717_right_finger_tapping_distances.csv"
          ],
          [
           "07225_20240206_right_finger_tapping_distances.csv"
          ],
          [
           "07242_20240716_right_finger_tapping_distances.csv"
          ],
          [
           "07284_20240521_right_finger_tapping_distances.csv"
          ],
          [
           "07288_20240514_right_finger_tapping_distances.csv"
          ],
          [
           "07334_20240604_right_finger_tapping_distances.csv"
          ],
          [
           "07415_20240215_right_finger_tapping_distances.csv"
          ],
          [
           "07417_20240319_right_finger_tapping_distances.csv"
          ],
          [
           "07452_20240206_right_finger_tapping_distances.csv"
          ],
          [
           "07477_20240730_right_finger_tapping_distances.csv"
          ],
          [
           "07488_20240208_right_finger_tapping_distances.csv"
          ],
          [
           "07501_20240626_right_finger_tapping_distances.csv"
          ],
          [
           "07518_20240430_right_finger_tapping_distances.csv"
          ],
          [
           "07536_20240603_right_finger_tapping_distances.csv"
          ],
          [
           "07555_20240716_right_finger_tapping_distances.csv"
          ],
          [
           "07566_20240521_right_finger_tapping_distances.csv"
          ],
          [
           "07571_20240123_right_finger_tapping_distances.csv"
          ],
          [
           "07578_20240321_right_finger_tapping_distances.csv"
          ],
          [
           "07580_20240131_right_finger_tapping_distances.csv"
          ],
          [
           "07587_20240528_right_finger_tapping_distances.csv"
          ],
          [
           "07597_20240328_right_finger_tapping_distances.csv"
          ],
          [
           "07609_20240130_right_finger_tapping_distances.csv"
          ],
          [
           "07610_20231205_right_finger_tapping_distances.csv"
          ],
          [
           "07628_20240215_right_finger_tapping_distances.csv"
          ],
          [
           "07629_20240109_right_finger_tapping_distances.csv"
          ],
          [
           "07634_20240508_right_finger_tapping_distances.csv"
          ],
          [
           "07640_20240208_right_finger_tapping_distances.csv"
          ],
          [
           "07677_20240527_right_finger_tapping_distances.csv"
          ],
          [
           "07681_20240603_right_finger_tapping_distances.csv"
          ],
          [
           "07706_20240213_right_finger_tapping_distances.csv"
          ],
          [
           "07709_20240626_right_finger_tapping_distances.csv"
          ],
          [
           "07727_20240604_right_finger_tapping_distances.csv"
          ],
          [
           "07735_20240123_right_finger_tapping_distances.csv"
          ],
          [
           "07755_20240513_right_finger_tapping_distances.csv"
          ],
          [
           "07762_20240618_right_finger_tapping_distances.csv"
          ],
          [
           "07771_20240610_right_finger_tapping_distances.csv"
          ],
          [
           "07776_20240625_right_finger_tapping_distances.csv"
          ],
          [
           "07795_20240513_right_finger_tapping_distances.csv"
          ],
          [
           "07814_20240507_right_finger_tapping_distances.csv"
          ],
          [
           "07819_20240522_right_finger_tapping_distances.csv"
          ],
          [
           "07822_20240214_right_finger_tapping_distances.csv"
          ],
          [
           "07852_20240213_right_finger_tapping_distances.csv"
          ],
          [
           "07855_20240528_right_finger_tapping_distances.csv"
          ],
          [
           "07884_20240709_right_finger_tapping_distances.csv"
          ],
          [
           "07888_20240215_right_finger_tapping_distances.csv"
          ],
          [
           "07985_20240307_right_finger_tapping_distances.csv"
          ],
          [
           "07987_20240423_right_finger_tapping_distances.csv"
          ],
          [
           "10039_20240702_right_finger_tapping_distances.csv"
          ],
          [
           "13390_20240716_right_finger_tapping_distances.csv"
          ],
          [
           "13484_20240716_right_finger_tapping_distances.csv"
          ],
          [
           "14555_20231107_right_finger_tapping_distances.csv"
          ],
          [
           "15377_20230719_right_finger_tapping_distances.csv"
          ],
          [
           "15813_20240123_right_finger_tapping_distances.csv"
          ],
          [
           "16219_20230725_right_finger_tapping_distances.csv"
          ],
          [
           "16827_20230523_right_finger_tapping_distances.csv"
          ],
          [
           "16883_20230606_right_finger_tapping_distances.csv"
          ],
          [
           "17000_20230606_right_finger_tapping_distances.csv"
          ],
          [
           "17200_20240507_right_finger_tapping_distances.csv"
          ],
          [
           "17202_20230718_right_finger_tapping_distances.csv"
          ],
          [
           "17434_20230613_right_finger_tapping_distances.csv"
          ],
          [
           "17599_20230418_right_finger_tapping_distances.csv"
          ],
          [
           "17980_20240109_right_finger_tapping_distances.csv"
          ],
          [
           "18198_20230726_right_finger_tapping_distances.csv"
          ],
          [
           "18317_20230919_right_finger_tapping_distances.csv"
          ],
          [
           "18372_20240603_right_finger_tapping_distances.csv"
          ],
          [
           "19015_20230627_right_finger_tapping_distances.csv"
          ],
          [
           "19091_20231127_right_finger_tapping_distances.csv"
          ],
          [
           "19124_20230628_right_finger_tapping_distances.csv"
          ],
          [
           "20959_20231003_right_finger_tapping_distances.csv"
          ],
          [
           "21128_20240716_right_finger_tapping_distances.csv"
          ],
          [
           "21401_20230627_right_finger_tapping_distances.csv"
          ],
          [
           "21696_20230411_right_finger_tapping_distances.csv"
          ],
          [
           "22178_20240528_right_finger_tapping_distances.csv"
          ],
          [
           "22224_20240625_right_finger_tapping_distances.csv"
          ],
          [
           "22227_20240708_right_finger_tapping_distances.csv"
          ],
          [
           "23160_20230613_right_finger_tapping_distances.csv"
          ],
          [
           "23191_20240508_right_finger_tapping_distances.csv"
          ],
          [
           "23284_20230620_right_finger_tapping_distances.csv"
          ],
          [
           "23284_20240604_right_finger_tapping_distances.csv"
          ],
          [
           "24192_20230605_right_finger_tapping_distances.csv"
          ],
          [
           "24318_20230613_right_finger_tapping_distances.csv"
          ],
          [
           "24352_20230621_right_finger_tapping_distances.csv"
          ],
          [
           "24352_20240730_right_finger_tapping_distances.csv"
          ],
          [
           "24475_20230925_right_finger_tapping_distances.csv"
          ],
          [
           "24601_20240514_right_finger_tapping_distances.csv"
          ],
          [
           "24622_20230530_right_finger_tapping_distances.csv"
          ],
          [
           "24757_20230523_right_finger_tapping_distances.csv"
          ],
          [
           "24798_20240704_right_finger_tapping_distances.csv"
          ],
          [
           "24860_20231212_right_finger_tapping_distances.csv"
          ],
          [
           "24889_20230724_right_finger_tapping_distances.csv"
          ],
          [
           "25260_20240116_right_finger_tapping_distances.csv"
          ],
          [
           "25412_20240717_right_finger_tapping_distances.csv"
          ],
          [
           "25439_20231205_right_finger_tapping_distances.csv"
          ],
          [
           "25533_20230628_right_finger_tapping_distances.csv"
          ],
          [
           "25793_20240603_right_finger_tapping_distances.csv"
          ],
          [
           "25934_20231016_right_finger_tapping_distances.csv"
          ],
          [
           "25957_20240507_right_finger_tapping_distances.csv"
          ],
          [
           "26145_20240514_right_finger_tapping_distances.csv"
          ],
          [
           "26326_20240729_right_finger_tapping_distances.csv"
          ],
          [
           "26407_20240528_right_finger_tapping_distances.csv"
          ],
          [
           "26546_20240109_right_finger_tapping_distances.csv"
          ],
          [
           "26692_20230627_right_finger_tapping_distances.csv"
          ],
          [
           "27123_20230606_right_finger_tapping_distances.csv"
          ],
          [
           "27423_20240603_right_finger_tapping_distances.csv"
          ],
          [
           "27425_20230918_right_finger_tapping_distances.csv"
          ],
          [
           "28225_20240704_right_finger_tapping_distances.csv"
          ],
          [
           "28321_20240513_right_finger_tapping_distances.csv"
          ],
          [
           "28350_20240515_right_finger_tapping_distances.csv"
          ],
          [
           "28408_20240617_right_finger_tapping_distances.csv"
          ],
          [
           "28411_20231023_right_finger_tapping_distances.csv"
          ],
          [
           "28550_20240115_right_finger_tapping_distances.csv"
          ],
          [
           "28615_20230523_right_finger_tapping_distances.csv"
          ],
          [
           "28630_20240521_right_finger_tapping_distances.csv"
          ],
          [
           "28637_20230912_right_finger_tapping_distances.csv"
          ],
          [
           "28641_20230717_right_finger_tapping_distances.csv"
          ],
          [
           "28726_20230425_right_finger_tapping_distances.csv"
          ],
          [
           "28813_20230823_right_finger_tapping_distances.csv"
          ],
          [
           "29079_20240513_right_finger_tapping_distances.csv"
          ],
          [
           "29157_20230531_right_finger_tapping_distances.csv"
          ],
          [
           "29377_20230314_right_finger_tapping_distances.csv"
          ],
          [
           "29570_20230619_right_finger_tapping_distances.csv"
          ],
          [
           "29880_20230314_right_finger_tapping_distances.csv"
          ],
          [
           "30009_20240515_right_finger_tapping_distances.csv"
          ],
          [
           "30148_20230809_right_finger_tapping_distances.csv"
          ],
          [
           "30201_20240715_right_finger_tapping_distances.csv"
          ],
          [
           "30279_20240527_right_finger_tapping_distances.csv"
          ],
          [
           "30414_20240522_right_finger_tapping_distances.csv"
          ],
          [
           "30593_20230926_right_finger_tapping_distances.csv"
          ],
          [
           "30893_20230717_right_finger_tapping_distances.csv"
          ],
          [
           "30961_20230913_right_finger_tapping_distances.csv"
          ],
          [
           "30982_20230719_right_finger_tapping_distances.csv"
          ],
          [
           "31092_20230821_right_finger_tapping_distances.csv"
          ],
          [
           "31100_20240610_right_finger_tapping_distances.csv"
          ],
          [
           "31182_20240513_right_finger_tapping_distances.csv"
          ],
          [
           "31231_20240402_right_finger_tapping_distances.csv"
          ],
          [
           "31240_20230719_right_finger_tapping_distances.csv"
          ],
          [
           "31318_20231120_right_finger_tapping_distances.csv"
          ],
          [
           "31319_20230712_right_finger_tapping_distances.csv"
          ],
          [
           "31457_20240626_right_finger_tapping_distances.csv"
          ],
          [
           "31769_20230619_right_finger_tapping_distances.csv"
          ],
          [
           "31848_20230717_right_finger_tapping_distances.csv"
          ],
          [
           "31961_20230605_right_finger_tapping_distances.csv"
          ],
          [
           "32160_20230717_right_finger_tapping_distances.csv"
          ],
          [
           "32200_20240605_right_finger_tapping_distances.csv"
          ],
          [
           "32282_20230612_right_finger_tapping_distances.csv"
          ],
          [
           "32424_20240710_right_finger_tapping_distances.csv"
          ],
          [
           "32519_20230314_right_finger_tapping_distances.csv"
          ],
          [
           "32541_20240529_right_finger_tapping_distances.csv"
          ],
          [
           "32594_20240429_right_finger_tapping_distances.csv"
          ],
          [
           "32853_20231106_right_finger_tapping_distances.csv"
          ],
          [
           "33023_20230719_right_finger_tapping_distances.csv"
          ],
          [
           "33151_20231016_right_finger_tapping_distances.csv"
          ],
          [
           "33164_20230606_right_finger_tapping_distances.csv"
          ],
          [
           "33164_20240604_right_finger_tapping_distances.csv"
          ],
          [
           "33166_20230607_right_finger_tapping_distances.csv"
          ],
          [
           "33430_20240529_right_finger_tapping_distances.csv"
          ],
          [
           "33527_20240528_right_finger_tapping_distances.csv"
          ],
          [
           "33661_20240731_right_finger_tapping_distances.csv"
          ],
          [
           "33749_20230613_right_finger_tapping_distances.csv"
          ],
          [
           "33927_20230516_right_finger_tapping_distances.csv"
          ],
          [
           "34142_20230718_right_finger_tapping_distances.csv"
          ],
          [
           "34417_20240307_right_finger_tapping_distances.csv"
          ],
          [
           "34492_20230411_right_finger_tapping_distances.csv"
          ],
          [
           "34509_20230913_right_finger_tapping_distances.csv"
          ],
          [
           "34914_20230925_right_finger_tapping_distances.csv"
          ],
          [
           "34965_20230815_right_finger_tapping_distances.csv"
          ],
          [
           "35080_20240716_right_finger_tapping_distances.csv"
          ],
          [
           "35154_20240611_right_finger_tapping_distances.csv"
          ],
          [
           "35246_20230724_right_finger_tapping_distances.csv"
          ],
          [
           "35623_20230314_right_finger_tapping_distances.csv"
          ],
          [
           "35747_20230725_right_finger_tapping_distances.csv"
          ],
          [
           "35816_20240524_right_finger_tapping_distances.csv"
          ],
          [
           "36220_20230724_right_finger_tapping_distances.csv"
          ],
          [
           "36297_20230411_right_finger_tapping_distances.csv"
          ],
          [
           "36407_20230612_right_finger_tapping_distances.csv"
          ],
          [
           "36436_20230815_right_finger_tapping_distances.csv"
          ],
          [
           "36532_20230822_right_finger_tapping_distances.csv"
          ],
          [
           "36564_20240123_right_finger_tapping_distances.csv"
          ],
          [
           "36581_20231121_right_finger_tapping_distances.csv"
          ],
          [
           "36660_20231205_right_finger_tapping_distances.csv"
          ],
          [
           "36880_20240709_right_finger_tapping_distances.csv"
          ],
          [
           "38046_20240527_right_finger_tapping_distances.csv"
          ],
          [
           "38050_20230918_right_finger_tapping_distances.csv"
          ],
          [
           "38073_20240513_right_finger_tapping_distances.csv"
          ],
          [
           "38100_20230725_right_finger_tapping_distances.csv"
          ],
          [
           "38141_20240610_right_finger_tapping_distances.csv"
          ],
          [
           "38210_20240610_right_finger_tapping_distances.csv"
          ],
          [
           "38215_20230606_right_finger_tapping_distances.csv"
          ],
          [
           "38255_20230927_right_finger_tapping_distances.csv"
          ],
          [
           "38256_20230823_right_finger_tapping_distances.csv"
          ],
          [
           "38519_20230605_right_finger_tapping_distances.csv"
          ],
          [
           "38519_20240624_right_finger_tapping_distances.csv"
          ],
          [
           "38902_20231204_right_finger_tapping_distances.csv"
          ],
          [
           "39200_20240404_right_finger_tapping_distances.csv"
          ],
          [
           "39274_20230718_right_finger_tapping_distances.csv"
          ],
          [
           "39528_20230725_right_finger_tapping_distances.csv"
          ],
          [
           "39685_20240307_right_finger_tapping_distances.csv"
          ],
          [
           "39686_20240703_right_finger_tapping_distances.csv"
          ],
          [
           "39712_20240618_right_finger_tapping_distances.csv"
          ],
          [
           "40046_20240611_right_finger_tapping_distances.csv"
          ],
          [
           "40613_20240514_right_finger_tapping_distances.csv"
          ],
          [
           "40771_20240807_right_finger_tapping_distances.csv"
          ]
         ],
         "hovertemplate": "TSNE Component 1=%{x}<br>TSNE Component 2=%{y}<br>file_name=%{customdata[0]}<br>label=%{marker.color}<extra></extra>",
         "legendgroup": "",
         "marker": {
          "color": [
           0,
           0,
           0,
           0,
           0,
           2,
           0,
           2,
           3,
           0,
           0,
           1,
           4,
           1,
           0,
           3,
           0,
           1,
           1,
           2,
           1,
           0,
           0,
           2,
           0,
           0,
           1,
           0,
           3,
           0,
           0,
           0,
           1,
           1,
           0,
           3,
           0,
           1,
           3,
           0,
           1,
           1,
           0,
           2,
           0,
           0,
           0,
           2,
           0,
           3,
           1,
           1,
           1,
           2,
           3,
           0,
           3,
           3,
           2,
           1,
           2,
           0,
           2,
           2,
           2,
           2,
           3,
           2,
           3,
           2,
           2,
           1,
           0,
           2,
           2,
           2,
           2,
           2,
           3,
           3,
           2,
           3,
           1,
           2,
           2,
           1,
           3,
           3,
           2,
           2,
           2,
           2,
           1,
           2,
           1,
           2,
           2,
           0,
           2,
           1,
           1,
           3,
           2,
           3,
           2,
           2,
           1,
           1,
           2,
           3,
           3,
           3,
           2,
           1,
           2,
           0,
           2,
           3,
           2,
           3,
           2,
           0,
           0,
           3,
           3,
           3,
           2,
           2,
           2,
           2,
           2,
           2,
           2,
           1,
           2,
           2,
           1,
           3,
           0,
           3,
           2,
           2,
           2,
           3,
           3,
           3,
           2,
           2,
           3,
           3,
           1,
           3,
           0,
           4,
           3,
           3,
           2,
           2,
           3,
           1,
           3,
           0,
           3,
           3,
           0,
           3,
           2,
           0,
           2,
           3,
           1,
           3,
           3,
           2,
           2,
           3,
           3,
           2,
           1,
           2,
           3,
           3,
           3,
           3,
           2,
           1,
           2,
           3,
           2,
           1,
           1,
           3,
           3,
           1,
           0,
           0,
           2,
           3,
           3,
           3,
           3,
           3,
           0,
           3,
           2,
           3,
           2,
           1,
           3,
           2,
           3,
           0,
           0,
           0,
           0,
           0,
           3,
           0,
           3,
           3,
           0,
           0,
           3,
           2,
           0,
           2,
           3,
           0,
           1,
           2,
           1,
           3,
           0,
           2,
           2,
           0,
           1,
           0,
           1,
           4,
           0,
           0,
           2,
           2,
           2,
           0,
           3,
           1,
           0,
           2,
           0,
           3,
           0,
           1,
           2,
           2,
           1,
           1,
           3,
           1,
           3,
           2,
           1,
           0,
           2,
           2,
           1,
           3,
           3,
           2,
           2,
           2,
           1,
           2,
           2,
           1,
           1,
           2,
           2,
           3,
           2,
           2,
           1,
           0,
           3,
           0,
           2,
           2,
           1,
           3,
           2,
           3,
           3,
           1,
           1,
           2,
           3,
           3,
           0,
           1,
           2,
           2,
           3,
           2,
           2,
           0,
           2,
           3,
           1,
           2,
           0,
           2,
           2,
           2,
           3,
           2,
           0,
           2,
           1,
           1,
           3,
           3,
           3,
           3,
           2,
           1,
           3,
           1,
           1,
           2,
           2,
           3,
           2,
           1,
           0,
           3,
           2,
           2,
           2,
           3,
           2,
           2,
           3,
           1,
           1,
           2,
           1,
           2,
           1,
           3,
           2,
           3,
           2,
           1,
           3,
           3,
           1,
           2,
           3,
           3,
           1,
           3,
           1,
           0,
           2,
           3,
           1,
           2,
           3,
           1,
           2,
           1,
           3,
           2,
           3,
           0,
           3,
           1,
           0,
           2,
           3,
           0,
           3,
           3,
           2,
           1,
           3,
           2,
           2,
           1,
           2,
           3,
           2,
           2,
           3,
           1,
           1,
           1,
           3,
           1,
           2,
           2,
           2,
           2,
           1,
           0,
           3,
           1,
           3,
           3,
           3,
           3,
           3,
           1,
           3,
           3,
           3,
           2,
           2,
           2,
           2,
           3
          ],
          "coloraxis": "coloraxis",
          "symbol": "circle"
         },
         "mode": "markers",
         "name": "",
         "orientation": "v",
         "showlegend": false,
         "type": "scatter",
         "x": [
          35.725777,
          19.619663,
          -9.067055,
          26.057987,
          35.622345,
          -17.72244,
          18.680937,
          -34.872597,
          -21.712559,
          -3.9234688,
          31.767963,
          -5.201265,
          -29.653934,
          6.9776464,
          -31.824158,
          -31.445765,
          42.543938,
          44.884575,
          25.571514,
          -21.232323,
          11.350453,
          -18.02213,
          -8.085354,
          45.499287,
          40.618786,
          -22.736341,
          -25.606546,
          20.89733,
          -36.04324,
          30.828129,
          38.9453,
          -5.7915645,
          26.600708,
          -6.94106,
          33.30548,
          -25.128729,
          -1.556539,
          -14.369408,
          -21.638506,
          10.210165,
          -18.397947,
          16.647781,
          -10.572065,
          3.9422903,
          -21.107197,
          -6.7478147,
          -29.393255,
          -22.718603,
          34.66296,
          -17.299025,
          41.084255,
          6.830308,
          4.934341,
          -25.297375,
          -13.844603,
          15.843193,
          -31.705915,
          -22.713362,
          -20.944523,
          34.314995,
          -23.158268,
          -1.8116686,
          4.2804475,
          -2.7085264,
          -0.45648837,
          -24.8259,
          -30.75351,
          34.262367,
          -32.583225,
          -3.2900176,
          -11.545772,
          -19.266886,
          30.286074,
          -19.396648,
          15.334843,
          40.450817,
          -19.979784,
          21.345972,
          -33.530018,
          -8.439289,
          -27.038965,
          -30.47889,
          13.410267,
          -22.869465,
          -4.783823,
          -24.782711,
          -23.022417,
          -29.545292,
          45.313522,
          -8.092381,
          -1.1981227,
          -0.8618894,
          36.616787,
          9.763871,
          12.43587,
          -21.923584,
          -25.97748,
          15.149467,
          -19.20975,
          4.6202664,
          -13.853973,
          -21.931198,
          35.585903,
          -30.052883,
          -3.299842,
          -1.3151444,
          21.542416,
          22.751783,
          12.180969,
          -34.65388,
          -28.88455,
          -20.906084,
          20.736435,
          -9.395586,
          -29.77445,
          10.203016,
          -10.003976,
          -24.020672,
          -8.796519,
          -34.896706,
          -2.3863103,
          18.706978,
          43.678734,
          -30.591122,
          44.37287,
          -29.887978,
          45.341766,
          -6.4397097,
          5.2067485,
          -21.404877,
          40.149837,
          -22.703138,
          -24.31957,
          23.857643,
          -14.661027,
          3.9618416,
          13.915129,
          -34.64308,
          -3.6277788,
          -23.47866,
          6.6304207,
          -24.437775,
          24.542074,
          -28.382877,
          -27.805067,
          -32.232067,
          -20.865862,
          -23.374128,
          -35.192272,
          -30.974686,
          17.704714,
          -19.36405,
          5.9836016,
          -35.571545,
          34.43693,
          -35.303684,
          16.887976,
          -20.229162,
          -28.033514,
          -18.394018,
          -17.179081,
          18.32435,
          -23.867783,
          -32.15842,
          35.06148,
          -33.48698,
          -17.813545,
          30.78046,
          26.411789,
          16.156399,
          33.268078,
          -3.269865,
          -29.754139,
          -24.833267,
          -3.4569354,
          5.9572735,
          -24.493685,
          29.582958,
          38.721096,
          -6.7394495,
          -6.1182456,
          -24.930182,
          -32.033134,
          -26.08064,
          -3.5255637,
          41.62359,
          -20.196663,
          -28.151056,
          17.177458,
          35.34462,
          16.712511,
          4.4042735,
          -23.537853,
          21.462677,
          43.71882,
          14.74873,
          41.412834,
          -22.92159,
          26.722433,
          -33.00393,
          -36.063282,
          -30.234962,
          -19.729502,
          -30.303316,
          -2.1504533,
          -33.58315,
          12.945369,
          -17.21818,
          -35.106133,
          -2.7315984,
          -21.299414,
          25.257875,
          29.80554,
          -6.9132566,
          27.4889,
          26.790705,
          -13.177886,
          18.16239,
          -35.237507,
          38.175053,
          -0.7775322,
          40.920723,
          -20.402054,
          -35.81931,
          7.9326296,
          -28.296307,
          -23.45879,
          23.583105,
          44.643837,
          4.5821676,
          11.727847,
          -24.439201,
          12.051766,
          -6.7099624,
          37.83786,
          22.706347,
          -16.317062,
          -21.632349,
          40.2267,
          -35.59763,
          40.798084,
          31.355524,
          -23.938309,
          34.949215,
          -13.025164,
          24.176992,
          -25.515678,
          22.870323,
          6.0045238,
          38.175053,
          3.8146484,
          -34.275192,
          27.109125,
          -20.321285,
          30.073566,
          9.415686,
          9.459068,
          -29.954945,
          -28.762133,
          34.947037,
          -22.022713,
          43.097893,
          -2.5762143,
          -22.126131,
          -14.81551,
          -8.842023,
          -9.195384,
          -33.83985,
          -21.469408,
          -2.1016788,
          15.714466,
          17.290272,
          -9.423186,
          34.83309,
          29.355162,
          33.51089,
          8.550013,
          -22.30036,
          44.43641,
          -13.463232,
          20.162373,
          21.027414,
          23.248613,
          40.327072,
          -32.72052,
          32.512386,
          45.11415,
          4.599915,
          10.673999,
          -25.06505,
          20.139465,
          -24.122885,
          -29.307701,
          39.645164,
          -26.88572,
          -5.353055,
          -27.551758,
          -28.843884,
          -33.83299,
          41.419857,
          16.426222,
          13.342429,
          -24.158693,
          11.454874,
          -4.0306225,
          42.283066,
          -2.5682511,
          -29.729044,
          31.219667,
          10.251655,
          37.484,
          -21.021942,
          -4.5619555,
          41.26298,
          -35.058887,
          -3.4793737,
          -12.126677,
          5.2184796,
          21.980509,
          16.331728,
          -26.224821,
          -34.284126,
          -30.040464,
          -31.255959,
          33.083973,
          -13.8955145,
          -32.906075,
          -2.4748006,
          -4.4113703,
          26.948343,
          3.1678896,
          -2.79574,
          14.438239,
          11.025393,
          33.245102,
          38.80198,
          43.001076,
          5.0883083,
          -4.528299,
          -30.145319,
          9.180695,
          -2.8958015,
          -26.827782,
          22.023216,
          -1.3160466,
          41.763542,
          -3.845441,
          -5.6874967,
          -20.105667,
          -14.273163,
          27.723001,
          -33.001755,
          4.5678086,
          -7.8035808,
          -31.055101,
          -32.521782,
          -6.05993,
          14.948276,
          -34.387455,
          -27.025593,
          -8.53061,
          -14.904326,
          -7.1568084,
          -22.30961,
          14.399515,
          -29.21252,
          22.292683,
          -19.00753,
          -29.75016,
          6.0291553,
          -30.91192,
          9.973463,
          -18.287998,
          8.361306,
          -27.44614,
          33.717197,
          -34.734444,
          -18.951895,
          24.47688,
          43.26305,
          16.16754,
          19.620024,
          14.292803,
          -24.06144,
          -26.89547,
          3.4741106,
          19.577766,
          -16.323206,
          36.23588,
          16.507463,
          5.0418835,
          -8.356976,
          5.869184,
          -12.331092,
          -34.965416,
          39.293003,
          28.078533,
          33.02454,
          -28.300053,
          28.307823,
          -1.762583,
          22.493523,
          5.554478,
          5.6797442,
          15.64532,
          36.39169,
          -17.664461,
          32.61821,
          -23.230883,
          16.901384,
          -34.1747,
          -34.213245,
          -29.452908,
          -1.8049856,
          -13.064096,
          -15.599319,
          -21.739119,
          20.414759,
          -29.97164,
          -35.064896,
          -4.2807593,
          -22.8292
         ],
         "xaxis": "x",
         "y": [
          2.669089,
          2.8761828,
          -5.7627845,
          3.1742568,
          2.3360236,
          -2.54787,
          2.089642,
          2.3778412,
          -1.2224061,
          -5.7459,
          3.0399525,
          -5.448676,
          3.7397768,
          -1.2793939,
          0.49611837,
          0.9435502,
          2.8029761,
          2.4969478,
          2.7118776,
          -0.18244526,
          1.088836,
          -5.4313517,
          -6.021881,
          1.2175243,
          2.914404,
          5.6184998,
          -4.672629,
          3.2782092,
          0.9358978,
          3.1800263,
          3.2493727,
          -1.3763554,
          3.377761,
          -5.237402,
          3.1712458,
          1.3718712,
          -5.5201974,
          -4.3654795,
          -1.259131,
          0.48984832,
          -4.5669465,
          2.9348807,
          -5.5412807,
          -1.6964724,
          -5.561645,
          -4.8549213,
          -3.6264467,
          -4.401465,
          2.530707,
          -5.3248816,
          2.5602074,
          -0.8946504,
          -1.0572994,
          -5.102838,
          -2.7094536,
          2.3885407,
          4.388735,
          -4.0062165,
          -6.5818176,
          2.1870987,
          -6.1201777,
          -4.73332,
          1.3201059,
          -0.28910327,
          -4.5765285,
          -2.267689,
          4.591039,
          3.3361704,
          2.222723,
          0.99664503,
          -4.426523,
          -3.9786837,
          3.5334504,
          -4.696255,
          1.04876,
          2.0652506,
          -6.8071175,
          2.724626,
          -0.34387264,
          -5.221067,
          -2.1596785,
          5.7131147,
          1.878034,
          3.4611816,
          -3.7384243,
          -3.2275114,
          -5.735719,
          -1.3511297,
          1.7439344,
          -5.7200494,
          -1.3799651,
          1.1581016,
          2.6079886,
          1.2147053,
          1.5763466,
          0.71707636,
          -3.7655272,
          2.6776931,
          -2.2794518,
          1.0422393,
          -2.922646,
          -3.7149484,
          3.858449,
          5.787866,
          0.69003385,
          -4.4236817,
          1.8972697,
          3.1040776,
          0.44436714,
          0.31180665,
          5.4184303,
          -3.8074234,
          1.6913167,
          -5.548767,
          4.2161136,
          -0.06280535,
          -5.546262,
          5.8185387,
          -3.8579657,
          4.18456,
          -1.0521067,
          2.289081,
          3.1190867,
          -1.7365258,
          2.2801113,
          6.14269,
          1.6721087,
          -5.180818,
          -2.4506226,
          -2.6515055,
          2.8696523,
          3.7905822,
          -1.4045789,
          3.2341835,
          -5.2533555,
          -2.4521818,
          1.9006426,
          1.3377969,
          -5.740843,
          4.6169753,
          -1.8516817,
          4.582077,
          3.2797306,
          -0.82888985,
          3.6148295,
          0.18793392,
          -3.0772557,
          -3.3351386,
          2.7343006,
          -2.7834659,
          3.086698,
          -3.1011682,
          -2.2973804,
          0.27447474,
          2.8752825,
          3.1966085,
          1.2235084,
          -4.7452784,
          4.7421417,
          -2.258803,
          -5.555907,
          2.4874012,
          -3.9159987,
          -0.7270706,
          2.265141,
          4.530907,
          -6.043546,
          2.6975677,
          2.7044334,
          1.5081351,
          3.9930367,
          -2.7848659,
          3.4436378,
          -4.547934,
          1.0496211,
          -0.34559768,
          -3.863179,
          2.7126625,
          1.9624314,
          -4.349653,
          -4.447994,
          5.2212334,
          2.9968033,
          -1.247551,
          -5.2432327,
          3.3319905,
          -5.1064506,
          5.760015,
          0.92793214,
          3.1161394,
          2.3891294,
          -0.6837619,
          2.0112126,
          3.3728585,
          2.616596,
          2.0245545,
          3.5054617,
          1.9977044,
          3.5419843,
          2.8763397,
          2.940068,
          4.562101,
          -6.249454,
          -0.77311367,
          -5.0943966,
          2.7728503,
          1.1830449,
          -6.1084223,
          0.6011357,
          -5.097393,
          1.3187947,
          3.1577115,
          3.3421817,
          -6.048051,
          2.6728683,
          2.508373,
          -3.8413162,
          1.4767878,
          1.7782449,
          2.1043546,
          -4.9688706,
          3.4672105,
          -4.268632,
          2.0618923,
          -0.59128726,
          -2.7709382,
          5.666487,
          3.0888777,
          2.654858,
          1.1353761,
          1.2539272,
          -5.0022764,
          0.900608,
          -6.001763,
          3.1182878,
          2.363112,
          -5.959085,
          -6.3185635,
          3.3583858,
          4.0330186,
          3.6369672,
          3.3749242,
          -1.6226448,
          3.5987349,
          -4.341343,
          2.377172,
          1.5532062,
          3.393401,
          -1.736836,
          2.1043546,
          -1.6231598,
          3.5893579,
          3.3786285,
          -6.227501,
          2.8388197,
          -0.22710654,
          0.5748883,
          -3.0000226,
          -2.4648395,
          2.866595,
          -5.502279,
          2.8885863,
          -4.2058086,
          -5.4555354,
          -5.8637295,
          -5.1008673,
          -4.4440446,
          0.8985135,
          -2.3000953,
          -2.2339675,
          1.0863737,
          2.6404808,
          -4.820338,
          3.626029,
          3.1415908,
          2.2710254,
          -0.49678728,
          -6.8068,
          2.8400707,
          -4.6956553,
          1.4643327,
          2.3269558,
          2.662727,
          2.1961164,
          0.28309354,
          2.6036696,
          2.1945333,
          -2.4952826,
          1.005512,
          5.0099664,
          2.9232268,
          5.358984,
          5.142176,
          2.7763426,
          -3.7420168,
          -4.6421514,
          4.8031697,
          -0.3440096,
          -0.75373393,
          2.3319013,
          3.0456152,
          1.4788179,
          2.2778108,
          0.60777813,
          -4.770866,
          3.3725517,
          -4.5981646,
          2.8659976,
          2.676949,
          -0.009769959,
          3.093223,
          -6.755247,
          -2.5179844,
          2.8928885,
          1.0989451,
          0.108620346,
          -5.0800724,
          -1.5574157,
          2.3944995,
          2.4876568,
          6.1184883,
          0.31453353,
          -1.7317894,
          5.1337376,
          3.4631772,
          -5.2917876,
          2.8843508,
          -5.587403,
          -3.134549,
          2.8339248,
          -2.1959949,
          0.17984268,
          -0.22911586,
          0.24271688,
          2.6914015,
          2.2701025,
          2.3801887,
          -1.6078489,
          -5.1674447,
          -0.23963001,
          0.3510693,
          -0.23598613,
          6.2355347,
          3.328201,
          -5.1193748,
          2.6714165,
          -3.164119,
          -5.474424,
          -3.58866,
          -2.310414,
          3.420565,
          -0.85896784,
          -2.8010697,
          -5.0706935,
          4.8596435,
          -0.6615142,
          -5.781851,
          1.8802078,
          2.214561,
          -3.2758567,
          -6.4059396,
          -1.8967957,
          -5.7398877,
          -6.4406157,
          2.4459999,
          2.5768578,
          1.6961675,
          -2.4798744,
          -3.3397465,
          -1.2951232,
          -2.6380117,
          0.61958385,
          -3.0146017,
          -0.045846716,
          6.337861,
          3.2909567,
          3.7949371,
          -6.285722,
          2.796737,
          3.2352934,
          1.5091329,
          -0.5958598,
          0.19912364,
          -6.027648,
          -2.9982615,
          -2.3941343,
          -0.6119583,
          -5.4198923,
          3.218333,
          0.5792488,
          -1.8728487,
          -4.19273,
          0.89528316,
          -4.5960665,
          3.4887388,
          3.3607786,
          2.8383608,
          2.4515853,
          5.3156238,
          3.1719544,
          -0.72892326,
          2.8507972,
          -0.64441764,
          0.52768254,
          2.5588424,
          2.980988,
          -3.2236018,
          3.154433,
          5.309347,
          0.2686857,
          0.38921258,
          3.501578,
          2.326824,
          -5.5030737,
          -5.565576,
          -5.1753893,
          -6.75884,
          2.0354989,
          -2.4652278,
          -0.20170723,
          -5.621107,
          -1.1132782
         ],
         "yaxis": "y"
        }
       ],
       "layout": {
        "coloraxis": {
         "colorbar": {
          "title": {
           "text": "label"
          }
         },
         "colorscale": [
          [
           0,
           "#0d0887"
          ],
          [
           0.1111111111111111,
           "#46039f"
          ],
          [
           0.2222222222222222,
           "#7201a8"
          ],
          [
           0.3333333333333333,
           "#9c179e"
          ],
          [
           0.4444444444444444,
           "#bd3786"
          ],
          [
           0.5555555555555556,
           "#d8576b"
          ],
          [
           0.6666666666666666,
           "#ed7953"
          ],
          [
           0.7777777777777778,
           "#fb9f3a"
          ],
          [
           0.8888888888888888,
           "#fdca26"
          ],
          [
           1,
           "#f0f921"
          ]
         ]
        },
        "legend": {
         "tracegroupgap": 0
        },
        "template": {
         "data": {
          "bar": [
           {
            "error_x": {
             "color": "#2a3f5f"
            },
            "error_y": {
             "color": "#2a3f5f"
            },
            "marker": {
             "line": {
              "color": "#E5ECF6",
              "width": 0.5
             },
             "pattern": {
              "fillmode": "overlay",
              "size": 10,
              "solidity": 0.2
             }
            },
            "type": "bar"
           }
          ],
          "barpolar": [
           {
            "marker": {
             "line": {
              "color": "#E5ECF6",
              "width": 0.5
             },
             "pattern": {
              "fillmode": "overlay",
              "size": 10,
              "solidity": 0.2
             }
            },
            "type": "barpolar"
           }
          ],
          "carpet": [
           {
            "aaxis": {
             "endlinecolor": "#2a3f5f",
             "gridcolor": "white",
             "linecolor": "white",
             "minorgridcolor": "white",
             "startlinecolor": "#2a3f5f"
            },
            "baxis": {
             "endlinecolor": "#2a3f5f",
             "gridcolor": "white",
             "linecolor": "white",
             "minorgridcolor": "white",
             "startlinecolor": "#2a3f5f"
            },
            "type": "carpet"
           }
          ],
          "choropleth": [
           {
            "colorbar": {
             "outlinewidth": 0,
             "ticks": ""
            },
            "type": "choropleth"
           }
          ],
          "contour": [
           {
            "colorbar": {
             "outlinewidth": 0,
             "ticks": ""
            },
            "colorscale": [
             [
              0,
              "#0d0887"
             ],
             [
              0.1111111111111111,
              "#46039f"
             ],
             [
              0.2222222222222222,
              "#7201a8"
             ],
             [
              0.3333333333333333,
              "#9c179e"
             ],
             [
              0.4444444444444444,
              "#bd3786"
             ],
             [
              0.5555555555555556,
              "#d8576b"
             ],
             [
              0.6666666666666666,
              "#ed7953"
             ],
             [
              0.7777777777777778,
              "#fb9f3a"
             ],
             [
              0.8888888888888888,
              "#fdca26"
             ],
             [
              1,
              "#f0f921"
             ]
            ],
            "type": "contour"
           }
          ],
          "contourcarpet": [
           {
            "colorbar": {
             "outlinewidth": 0,
             "ticks": ""
            },
            "type": "contourcarpet"
           }
          ],
          "heatmap": [
           {
            "colorbar": {
             "outlinewidth": 0,
             "ticks": ""
            },
            "colorscale": [
             [
              0,
              "#0d0887"
             ],
             [
              0.1111111111111111,
              "#46039f"
             ],
             [
              0.2222222222222222,
              "#7201a8"
             ],
             [
              0.3333333333333333,
              "#9c179e"
             ],
             [
              0.4444444444444444,
              "#bd3786"
             ],
             [
              0.5555555555555556,
              "#d8576b"
             ],
             [
              0.6666666666666666,
              "#ed7953"
             ],
             [
              0.7777777777777778,
              "#fb9f3a"
             ],
             [
              0.8888888888888888,
              "#fdca26"
             ],
             [
              1,
              "#f0f921"
             ]
            ],
            "type": "heatmap"
           }
          ],
          "heatmapgl": [
           {
            "colorbar": {
             "outlinewidth": 0,
             "ticks": ""
            },
            "colorscale": [
             [
              0,
              "#0d0887"
             ],
             [
              0.1111111111111111,
              "#46039f"
             ],
             [
              0.2222222222222222,
              "#7201a8"
             ],
             [
              0.3333333333333333,
              "#9c179e"
             ],
             [
              0.4444444444444444,
              "#bd3786"
             ],
             [
              0.5555555555555556,
              "#d8576b"
             ],
             [
              0.6666666666666666,
              "#ed7953"
             ],
             [
              0.7777777777777778,
              "#fb9f3a"
             ],
             [
              0.8888888888888888,
              "#fdca26"
             ],
             [
              1,
              "#f0f921"
             ]
            ],
            "type": "heatmapgl"
           }
          ],
          "histogram": [
           {
            "marker": {
             "pattern": {
              "fillmode": "overlay",
              "size": 10,
              "solidity": 0.2
             }
            },
            "type": "histogram"
           }
          ],
          "histogram2d": [
           {
            "colorbar": {
             "outlinewidth": 0,
             "ticks": ""
            },
            "colorscale": [
             [
              0,
              "#0d0887"
             ],
             [
              0.1111111111111111,
              "#46039f"
             ],
             [
              0.2222222222222222,
              "#7201a8"
             ],
             [
              0.3333333333333333,
              "#9c179e"
             ],
             [
              0.4444444444444444,
              "#bd3786"
             ],
             [
              0.5555555555555556,
              "#d8576b"
             ],
             [
              0.6666666666666666,
              "#ed7953"
             ],
             [
              0.7777777777777778,
              "#fb9f3a"
             ],
             [
              0.8888888888888888,
              "#fdca26"
             ],
             [
              1,
              "#f0f921"
             ]
            ],
            "type": "histogram2d"
           }
          ],
          "histogram2dcontour": [
           {
            "colorbar": {
             "outlinewidth": 0,
             "ticks": ""
            },
            "colorscale": [
             [
              0,
              "#0d0887"
             ],
             [
              0.1111111111111111,
              "#46039f"
             ],
             [
              0.2222222222222222,
              "#7201a8"
             ],
             [
              0.3333333333333333,
              "#9c179e"
             ],
             [
              0.4444444444444444,
              "#bd3786"
             ],
             [
              0.5555555555555556,
              "#d8576b"
             ],
             [
              0.6666666666666666,
              "#ed7953"
             ],
             [
              0.7777777777777778,
              "#fb9f3a"
             ],
             [
              0.8888888888888888,
              "#fdca26"
             ],
             [
              1,
              "#f0f921"
             ]
            ],
            "type": "histogram2dcontour"
           }
          ],
          "mesh3d": [
           {
            "colorbar": {
             "outlinewidth": 0,
             "ticks": ""
            },
            "type": "mesh3d"
           }
          ],
          "parcoords": [
           {
            "line": {
             "colorbar": {
              "outlinewidth": 0,
              "ticks": ""
             }
            },
            "type": "parcoords"
           }
          ],
          "pie": [
           {
            "automargin": true,
            "type": "pie"
           }
          ],
          "scatter": [
           {
            "fillpattern": {
             "fillmode": "overlay",
             "size": 10,
             "solidity": 0.2
            },
            "type": "scatter"
           }
          ],
          "scatter3d": [
           {
            "line": {
             "colorbar": {
              "outlinewidth": 0,
              "ticks": ""
             }
            },
            "marker": {
             "colorbar": {
              "outlinewidth": 0,
              "ticks": ""
             }
            },
            "type": "scatter3d"
           }
          ],
          "scattercarpet": [
           {
            "marker": {
             "colorbar": {
              "outlinewidth": 0,
              "ticks": ""
             }
            },
            "type": "scattercarpet"
           }
          ],
          "scattergeo": [
           {
            "marker": {
             "colorbar": {
              "outlinewidth": 0,
              "ticks": ""
             }
            },
            "type": "scattergeo"
           }
          ],
          "scattergl": [
           {
            "marker": {
             "colorbar": {
              "outlinewidth": 0,
              "ticks": ""
             }
            },
            "type": "scattergl"
           }
          ],
          "scattermapbox": [
           {
            "marker": {
             "colorbar": {
              "outlinewidth": 0,
              "ticks": ""
             }
            },
            "type": "scattermapbox"
           }
          ],
          "scatterpolar": [
           {
            "marker": {
             "colorbar": {
              "outlinewidth": 0,
              "ticks": ""
             }
            },
            "type": "scatterpolar"
           }
          ],
          "scatterpolargl": [
           {
            "marker": {
             "colorbar": {
              "outlinewidth": 0,
              "ticks": ""
             }
            },
            "type": "scatterpolargl"
           }
          ],
          "scatterternary": [
           {
            "marker": {
             "colorbar": {
              "outlinewidth": 0,
              "ticks": ""
             }
            },
            "type": "scatterternary"
           }
          ],
          "surface": [
           {
            "colorbar": {
             "outlinewidth": 0,
             "ticks": ""
            },
            "colorscale": [
             [
              0,
              "#0d0887"
             ],
             [
              0.1111111111111111,
              "#46039f"
             ],
             [
              0.2222222222222222,
              "#7201a8"
             ],
             [
              0.3333333333333333,
              "#9c179e"
             ],
             [
              0.4444444444444444,
              "#bd3786"
             ],
             [
              0.5555555555555556,
              "#d8576b"
             ],
             [
              0.6666666666666666,
              "#ed7953"
             ],
             [
              0.7777777777777778,
              "#fb9f3a"
             ],
             [
              0.8888888888888888,
              "#fdca26"
             ],
             [
              1,
              "#f0f921"
             ]
            ],
            "type": "surface"
           }
          ],
          "table": [
           {
            "cells": {
             "fill": {
              "color": "#EBF0F8"
             },
             "line": {
              "color": "white"
             }
            },
            "header": {
             "fill": {
              "color": "#C8D4E3"
             },
             "line": {
              "color": "white"
             }
            },
            "type": "table"
           }
          ]
         },
         "layout": {
          "annotationdefaults": {
           "arrowcolor": "#2a3f5f",
           "arrowhead": 0,
           "arrowwidth": 1
          },
          "autotypenumbers": "strict",
          "coloraxis": {
           "colorbar": {
            "outlinewidth": 0,
            "ticks": ""
           }
          },
          "colorscale": {
           "diverging": [
            [
             0,
             "#8e0152"
            ],
            [
             0.1,
             "#c51b7d"
            ],
            [
             0.2,
             "#de77ae"
            ],
            [
             0.3,
             "#f1b6da"
            ],
            [
             0.4,
             "#fde0ef"
            ],
            [
             0.5,
             "#f7f7f7"
            ],
            [
             0.6,
             "#e6f5d0"
            ],
            [
             0.7,
             "#b8e186"
            ],
            [
             0.8,
             "#7fbc41"
            ],
            [
             0.9,
             "#4d9221"
            ],
            [
             1,
             "#276419"
            ]
           ],
           "sequential": [
            [
             0,
             "#0d0887"
            ],
            [
             0.1111111111111111,
             "#46039f"
            ],
            [
             0.2222222222222222,
             "#7201a8"
            ],
            [
             0.3333333333333333,
             "#9c179e"
            ],
            [
             0.4444444444444444,
             "#bd3786"
            ],
            [
             0.5555555555555556,
             "#d8576b"
            ],
            [
             0.6666666666666666,
             "#ed7953"
            ],
            [
             0.7777777777777778,
             "#fb9f3a"
            ],
            [
             0.8888888888888888,
             "#fdca26"
            ],
            [
             1,
             "#f0f921"
            ]
           ],
           "sequentialminus": [
            [
             0,
             "#0d0887"
            ],
            [
             0.1111111111111111,
             "#46039f"
            ],
            [
             0.2222222222222222,
             "#7201a8"
            ],
            [
             0.3333333333333333,
             "#9c179e"
            ],
            [
             0.4444444444444444,
             "#bd3786"
            ],
            [
             0.5555555555555556,
             "#d8576b"
            ],
            [
             0.6666666666666666,
             "#ed7953"
            ],
            [
             0.7777777777777778,
             "#fb9f3a"
            ],
            [
             0.8888888888888888,
             "#fdca26"
            ],
            [
             1,
             "#f0f921"
            ]
           ]
          },
          "colorway": [
           "#636efa",
           "#EF553B",
           "#00cc96",
           "#ab63fa",
           "#FFA15A",
           "#19d3f3",
           "#FF6692",
           "#B6E880",
           "#FF97FF",
           "#FECB52"
          ],
          "font": {
           "color": "#2a3f5f"
          },
          "geo": {
           "bgcolor": "white",
           "lakecolor": "white",
           "landcolor": "#E5ECF6",
           "showlakes": true,
           "showland": true,
           "subunitcolor": "white"
          },
          "hoverlabel": {
           "align": "left"
          },
          "hovermode": "closest",
          "mapbox": {
           "style": "light"
          },
          "paper_bgcolor": "white",
          "plot_bgcolor": "#E5ECF6",
          "polar": {
           "angularaxis": {
            "gridcolor": "white",
            "linecolor": "white",
            "ticks": ""
           },
           "bgcolor": "#E5ECF6",
           "radialaxis": {
            "gridcolor": "white",
            "linecolor": "white",
            "ticks": ""
           }
          },
          "scene": {
           "xaxis": {
            "backgroundcolor": "#E5ECF6",
            "gridcolor": "white",
            "gridwidth": 2,
            "linecolor": "white",
            "showbackground": true,
            "ticks": "",
            "zerolinecolor": "white"
           },
           "yaxis": {
            "backgroundcolor": "#E5ECF6",
            "gridcolor": "white",
            "gridwidth": 2,
            "linecolor": "white",
            "showbackground": true,
            "ticks": "",
            "zerolinecolor": "white"
           },
           "zaxis": {
            "backgroundcolor": "#E5ECF6",
            "gridcolor": "white",
            "gridwidth": 2,
            "linecolor": "white",
            "showbackground": true,
            "ticks": "",
            "zerolinecolor": "white"
           }
          },
          "shapedefaults": {
           "line": {
            "color": "#2a3f5f"
           }
          },
          "ternary": {
           "aaxis": {
            "gridcolor": "white",
            "linecolor": "white",
            "ticks": ""
           },
           "baxis": {
            "gridcolor": "white",
            "linecolor": "white",
            "ticks": ""
           },
           "bgcolor": "#E5ECF6",
           "caxis": {
            "gridcolor": "white",
            "linecolor": "white",
            "ticks": ""
           }
          },
          "title": {
           "x": 0.05
          },
          "xaxis": {
           "automargin": true,
           "gridcolor": "white",
           "linecolor": "white",
           "ticks": "",
           "title": {
            "standoff": 15
           },
           "zerolinecolor": "white",
           "zerolinewidth": 2
          },
          "yaxis": {
           "automargin": true,
           "gridcolor": "white",
           "linecolor": "white",
           "ticks": "",
           "title": {
            "standoff": 15
           },
           "zerolinecolor": "white",
           "zerolinewidth": 2
          }
         }
        },
        "title": {
         "text": "t-SNE Visualization of the Training Data"
        },
        "xaxis": {
         "anchor": "y",
         "domain": [
          0,
          1
         ],
         "title": {
          "text": "TSNE Component 1"
         }
        },
        "yaxis": {
         "anchor": "x",
         "domain": [
          0,
          1
         ],
         "title": {
          "text": "TSNE Component 2"
         }
        }
       }
      }
     },
     "metadata": {},
     "output_type": "display_data"
    }
   ],
   "source": [
    "# t-SNE Visualization\n",
    "tsne = TSNE(n_components=2, random_state=42)\n",
    "X_train_tsne = tsne.fit_transform(X)\n",
    "\n",
    "# Create a DataFrame for visualization\n",
    "df_tsne_train = pd.DataFrame(X_train_tsne, columns=['TSNE Component 1', 'TSNE Component 2'])\n",
    "df_tsne_train['label'] = y.to_list()\n",
    "df_tsne_train['file_name'] = file_names.to_list()\n",
    "\n",
    "# Plot t-SNE results for the training data\n",
    "fig_train = px.scatter(df_tsne_train, x='TSNE Component 1', y='TSNE Component 2', color='label', hover_data=['file_name'],\n",
    "                       title='t-SNE Visualization of the Training Data')\n",
    "fig_train.show()"
   ]
  },
  {
   "cell_type": "code",
   "execution_count": 44,
   "metadata": {},
   "outputs": [
    {
     "name": "stderr",
     "output_type": "stream",
     "text": [
      "c:\\Users\\atefe\\.conda\\envs\\assessment\\Lib\\site-packages\\sklearn\\feature_selection\\_univariate_selection.py:112: UserWarning: Features [19] are constant.\n",
      "  warnings.warn(\"Features %s are constant.\" % constant_features_idx, UserWarning)\n",
      "c:\\Users\\atefe\\.conda\\envs\\assessment\\Lib\\site-packages\\sklearn\\feature_selection\\_univariate_selection.py:113: RuntimeWarning: invalid value encountered in divide\n",
      "  f = msb / msw\n"
     ]
    },
    {
     "name": "stdout",
     "output_type": "stream",
     "text": [
      "Classifier Accuracy (Random Forest): 0.59375\n",
      "Mean Squared Error (Regressor): 0.6265256647584541\n",
      "Mean Absolute Error (Regressor): 0.5842843453328149\n",
      "Overall Accuracy: 0.53125\n"
     ]
    }
   ],
   "source": [
    "import numpy as np\n",
    "import pandas as pd\n",
    "from sklearn.model_selection import train_test_split, GridSearchCV\n",
    "from sklearn.ensemble import RandomForestClassifier, RandomForestRegressor\n",
    "from sklearn.metrics import mean_squared_error, mean_absolute_error, accuracy_score\n",
    "from sklearn.feature_selection import SelectKBest, f_classif\n",
    "from imblearn.over_sampling import SMOTE\n",
    "from sklearn.preprocessing import StandardScaler\n",
    "\n",
    "# Load the data\n",
    "file_l = r'\\\\files.ubc.ca\\team\\PPRC\\Camera\\Booth_Results\\finger_tapping_ws\\Experiment2\\csvs\\left_features_extracted_finger_distance.csv'\n",
    "file_r = r'\\\\files.ubc.ca\\team\\PPRC\\Camera\\Booth_Results\\finger_tapping_ws\\Experiment2\\csvs\\right_features_extracted_finger_distance.csv'\n",
    "file_l = r'\\\\files.ubc.ca\\team\\PPRC\\Camera\\Booth_Processed\\finger_tapping\\left\\csvs\\left_features.csv'\n",
    "file_r = r'\\\\files.ubc.ca\\team\\PPRC\\Camera\\Booth_Processed\\finger_tapping\\right\\csvs\\right_features.csv'\n",
    "df = pd.read_csv(file_l)\n",
    "df_r = pd.read_csv(file_r)\n",
    "df = pd.concat([df, df_r])\n",
    "combined_df = pd.read_csv(r'\\\\files.ubc.ca\\team\\PPRC\\Camera\\Booth_Results\\finger_tapping_ws\\Experiment2\\csvs\\weak_supervision_results.csv')\n",
    "combined_df.set_index('ID', inplace=True)\n",
    "labeled_df = combined_df.copy()\n",
    "labeled_df['file_name'] = labeled_df.index + '_finger_tapping_distances.csv'\n",
    "\n",
    "df = pd.merge(df, labeled_df[['file_name', 'Prediction']], on='file_name', how='left')\n",
    "df = df.dropna()\n",
    "\n",
    "# Define the features and target\n",
    "X = df.drop(columns=['file_name', 'Prediction'])\n",
    "y = df['Prediction']\n",
    "file_names = df['file_name']\n",
    "\n",
    "# Feature selection\n",
    "# Feature scaling\n",
    "X = X.fillna(0)\n",
    "\n",
    "\n",
    "selector = SelectKBest(score_func=f_classif, k=22)\n",
    "\n",
    "X_selected = selector.fit_transform(X, y)\n",
    "\n",
    "scaler = StandardScaler()\n",
    "X_selected = scaler.fit_transform(X_selected)\n",
    "\n",
    "# Split the data into training and testing sets\n",
    "X_train, X_test, y_train, y_test, file_names_train, file_names_test = train_test_split(X_selected, y, file_names, test_size=0.15, random_state=22)\n",
    "\n",
    "# Apply SMOTE to balance the classes in the training data\n",
    "smote = SMOTE(random_state=42, k_neighbors=1, sampling_strategy={0: 1000, 1: 400, 2: 600, 3: 300, 4: 300})\n",
    "X_train_resampled, y_train_resampled = smote.fit_resample(X_train, y_train)\n",
    "\n",
    "# Hyperparameter tuning for Random Forest Classifier\n",
    "rf_classifier = RandomForestClassifier(random_state=42)\n",
    "param_grid = {\n",
    "    'n_estimators': [100, 300, 500],\n",
    "    'max_depth': [None, 10, 20, 30],\n",
    "    'min_samples_split': [2, 5, 10],\n",
    "    'class_weight': ['balanced', 'balanced_subsample']\n",
    "}\n",
    "grid_search = GridSearchCV(rf_classifier, param_grid, cv=5, scoring='accuracy', n_jobs=-1)\n",
    "grid_search.fit(X_train_resampled, y_train_resampled)\n",
    "best_rf_classifier = grid_search.best_estimator_\n",
    "\n",
    "# Predict using the tuned classifier\n",
    "y_pred_class = best_rf_classifier.predict(X_test)\n",
    "\n",
    "# Calculate accuracy of the classifier\n",
    "classifier_accuracy = accuracy_score(y_test, y_pred_class)\n",
    "print(\"Classifier Accuracy (Random Forest):\", classifier_accuracy)\n",
    "\n",
    "# Second Stage: Apply the regressor only on predictions greater than 1\n",
    "X_test_regressor = X_test[y_pred_class >= 1]\n",
    "y_test_regressor = y_test[y_pred_class >= 1]\n",
    "\n",
    "# Hyperparameter tuning for Random Forest Regressor\n",
    "regressor = RandomForestRegressor(random_state=21)\n",
    "regressor_param_grid = {\n",
    "    'n_estimators': [100, 300, 500],\n",
    "    'max_depth': [5, 8, 15],\n",
    "    'min_samples_split': [2, 5, 10]\n",
    "}\n",
    "regressor_grid_search = GridSearchCV(regressor, regressor_param_grid, cv=5, scoring='neg_mean_squared_error', n_jobs=-1)\n",
    "regressor_grid_search.fit(X_train, y_train)\n",
    "best_regressor = regressor_grid_search.best_estimator_\n",
    "\n",
    "# Predict using the tuned regressor\n",
    "y_pred_regressor = best_regressor.predict(X_test_regressor)\n",
    "\n",
    "# Combine the predictions for values <= 1 and > 1\n",
    "y_test_combined = np.concatenate((y_test_regressor, y_test[y_pred_class < 1]))\n",
    "y_pred_combined = np.concatenate((y_pred_regressor, y_pred_class[y_pred_class < 1]))\n",
    "\n",
    "# Evaluate the regressor\n",
    "mse = mean_squared_error(y_test_combined, y_pred_combined)\n",
    "mae = mean_absolute_error(y_test_combined, y_pred_combined)\n",
    "accuracy = np.mean(y_test_combined == np.round(y_pred_combined))\n",
    "\n",
    "print(\"Mean Squared Error (Regressor):\", mse)\n",
    "print(\"Mean Absolute Error (Regressor):\", mae)\n",
    "print(\"Overall Accuracy:\", accuracy)\n",
    "\n"
   ]
  },
  {
   "cell_type": "code",
   "execution_count": 49,
   "metadata": {},
   "outputs": [
    {
     "name": "stdout",
     "output_type": "stream",
     "text": [
      "Classifier pipeline saved to ../../models/finger_tapping_classifier_pipeline_v1.pkl\n",
      "Regressor model saved to ../../models/finger_tapping_regressor_v1.pkl\n"
     ]
    }
   ],
   "source": [
    "import joblib\n",
    "from sklearn.pipeline import Pipeline\n",
    "\n",
    "# Save the classifier and its pipeline\n",
    "classifier_pipeline_filename = \"../../models/finger_tapping_classifier_pipeline_v1.pkl\"\n",
    "regressor_model_filename = \"../../models/finger_tapping_regressor_v1.pkl\"\n",
    "\n",
    "# Create a pipeline with the scaler, feature selector, and the classifier\n",
    "classifier_pipeline = Pipeline([\n",
    "    ('feature_selection', selector),\n",
    "    ('scaler', scaler),\n",
    "    \n",
    "    ('classifier', best_rf_classifier)\n",
    "])\n",
    "\n",
    "# # Fit the classifier pipeline with the full training data\n",
    "# classifier_pipeline.fit(X_train_resampled, y_train_resampled)\n",
    "\n",
    "# Save the classifier pipeline\n",
    "joblib.dump(classifier_pipeline, classifier_pipeline_filename)\n",
    "print(f\"Classifier pipeline saved to {classifier_pipeline_filename}\")\n",
    "\n",
    "regressor_pipeline = Pipeline([\n",
    "    ('feature_selection', selector),\n",
    "    ('scaler', scaler),\n",
    "    ('regressor', best_regressor)\n",
    "])\n",
    "# Save the best regressor model separately (if needed)\n",
    "joblib.dump(regressor_pipeline, regressor_model_filename)\n",
    "print(f\"Regressor model saved to {regressor_model_filename}\")\n"
   ]
  }
 ],
 "metadata": {
  "kernelspec": {
   "display_name": "assessment",
   "language": "python",
   "name": "python3"
  },
  "language_info": {
   "codemirror_mode": {
    "name": "ipython",
    "version": 3
   },
   "file_extension": ".py",
   "mimetype": "text/x-python",
   "name": "python",
   "nbconvert_exporter": "python",
   "pygments_lexer": "ipython3",
   "version": "3.12.5"
  }
 },
 "nbformat": 4,
 "nbformat_minor": 2
}
